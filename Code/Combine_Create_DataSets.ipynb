{
 "cells": [
  {
   "cell_type": "code",
   "execution_count": 1,
   "metadata": {
    "collapsed": true
   },
   "outputs": [],
   "source": [
    "import os\n",
    "import pandas as pd\n"
   ]
  },
  {
   "cell_type": "code",
   "execution_count": 2,
   "metadata": {
    "collapsed": false
   },
   "outputs": [],
   "source": [
    "# locate all csv files in directory\n",
    "directory = '../Assets/Datasets/BTS_flight_data/Raw'\n",
    "\n",
    "file_names = []\n",
    "for filename in os.listdir(directory):\n",
    "    if filename.endswith(\".csv\"): \n",
    "        file_names.append(os.path.join(directory, filename))\n"
   ]
  },
  {
   "cell_type": "code",
   "execution_count": 3,
   "metadata": {
    "collapsed": false
   },
   "outputs": [
    {
     "name": "stdout",
     "output_type": "stream",
     "text": [
      "Added file 1 of 67\n",
      "Added file 2 of 67\n",
      "Added file 3 of 67\n",
      "Added file 4 of 67\n",
      "Added file 5 of 67\n",
      "Added file 6 of 67\n",
      "Added file 7 of 67\n",
      "Added file 8 of 67\n",
      "Added file 9 of 67\n",
      "Added file 10 of 67\n",
      "Added file 11 of 67\n",
      "Added file 12 of 67\n",
      "Added file 13 of 67\n",
      "Added file 14 of 67\n",
      "Added file 15 of 67\n",
      "Added file 16 of 67\n",
      "Added file 17 of 67\n",
      "Added file 18 of 67\n",
      "Added file 19 of 67\n",
      "Added file 20 of 67\n",
      "Added file 21 of 67\n",
      "Added file 22 of 67\n",
      "Added file 23 of 67\n",
      "Added file 24 of 67\n",
      "Added file 25 of 67\n",
      "Added file 26 of 67\n",
      "Added file 27 of 67\n",
      "Added file 28 of 67\n",
      "Added file 29 of 67\n",
      "Added file 30 of 67\n",
      "Added file 31 of 67\n",
      "Added file 32 of 67\n",
      "Added file 33 of 67\n",
      "Added file 34 of 67\n",
      "Added file 35 of 67\n",
      "Added file 36 of 67\n",
      "Added file 37 of 67\n",
      "Added file 38 of 67\n",
      "Added file 39 of 67\n",
      "Added file 40 of 67\n",
      "Added file 41 of 67\n",
      "Added file 42 of 67\n",
      "Added file 43 of 67\n",
      "Added file 44 of 67\n",
      "Added file 45 of 67\n",
      "Added file 46 of 67\n",
      "Added file 47 of 67\n",
      "Added file 48 of 67\n",
      "Added file 49 of 67\n",
      "Added file 50 of 67\n",
      "Added file 51 of 67\n",
      "Added file 52 of 67\n",
      "Added file 53 of 67\n",
      "Added file 54 of 67\n",
      "Added file 55 of 67\n",
      "Added file 56 of 67\n",
      "Added file 57 of 67\n",
      "Added file 58 of 67\n"
     ]
    },
    {
     "name": "stderr",
     "output_type": "stream",
     "text": [
      "/Users/mwitebsky/anaconda2/envs/lesson01/lib/python2.7/site-packages/IPython/core/interactiveshell.py:2717: DtypeWarning: Columns (23) have mixed types. Specify dtype option on import or set low_memory=False.\n",
      "  interactivity=interactivity, compiler=compiler, result=result)\n"
     ]
    },
    {
     "name": "stdout",
     "output_type": "stream",
     "text": [
      "Added file 59 of 67\n",
      "Added file 60 of 67\n",
      "Added file 61 of 67\n",
      "Added file 62 of 67\n",
      "Added file 63 of 67\n",
      "Added file 64 of 67\n",
      "Added file 65 of 67\n",
      "Added file 66 of 67\n",
      "Added file 67 of 67\n"
     ]
    }
   ],
   "source": [
    "# combine all csvs in pandas\n",
    "dataframes = []\n",
    "ct = 1\n",
    "files = len(file_names)\n",
    "for csv in file_names:\n",
    "    dataframes.append(pd.read_csv(csv))\n",
    "    print 'Added file {} of {}'.format(ct, files)\n",
    "    ct += 1\n",
    "\n",
    "df = pd.concat(dataframes)"
   ]
  },
  {
   "cell_type": "code",
   "execution_count": 4,
   "metadata": {
    "collapsed": true
   },
   "outputs": [],
   "source": [
    "# scheduled Departure/Arrival time for ohare and midway\n",
    "# takes a few min\n",
    "crs_time = lambda row:  (row['CRS_DEP_TIME'] if (row['ORIGIN_AIRPORT_ID'] == 13930) | \n",
    "                        (row['ORIGIN_AIRPORT_ID'] == 13232) \n",
    "                        else row['CRS_ARR_TIME'])\n",
    "\n",
    "df.loc[:, 'CRS_FL_TIME'] =  df.apply(crs_time, axis=1)"
   ]
  },
  {
   "cell_type": "code",
   "execution_count": 5,
   "metadata": {
    "collapsed": true
   },
   "outputs": [],
   "source": [
    "# actual departure/arrival time ohare and midway\n",
    "# takes a few min\n",
    "flight_time = lambda row: (row['DEP_TIME'] if (row['ORIGIN_AIRPORT_ID'] == 13930) |\n",
    "                          (row['ORIGIN_AIRPORT_ID'] == 13232) \n",
    "                          else row['ARR_TIME'])\n",
    "\n",
    "df.loc[:, 'FL_TIME'] =  df.apply(flight_time, axis=1)"
   ]
  },
  {
   "cell_type": "code",
   "execution_count": 6,
   "metadata": {
    "collapsed": true
   },
   "outputs": [],
   "source": [
    "df['FL_DATE'] = pd.to_datetime(df['FL_DATE'], infer_datetime_format=True)"
   ]
  },
  {
   "cell_type": "code",
   "execution_count": 7,
   "metadata": {
    "collapsed": true
   },
   "outputs": [],
   "source": [
    "df = df.sort_values(['TAIL_NUM', 'FL_DATE', 'FL_TIME'])"
   ]
  },
  {
   "cell_type": "code",
   "execution_count": 9,
   "metadata": {
    "collapsed": true
   },
   "outputs": [],
   "source": [
    "# Remove null TAIL_NUM rows\n",
    "df.dropna(subset=['TAIL_NUM'], inplace=True)\n",
    "df.reset_index(inplace=True)\n",
    "df.drop('index', axis=1, inplace=True)"
   ]
  },
  {
   "cell_type": "code",
   "execution_count": 11,
   "metadata": {
    "collapsed": false
   },
   "outputs": [],
   "source": [
    "df_2 = df[['ORIGIN_AIRPORT_ID', 'DEST_AIRPORT_ID', 'TAIL_NUM']]"
   ]
  },
  {
   "cell_type": "code",
   "execution_count": 12,
   "metadata": {
    "collapsed": true
   },
   "outputs": [],
   "source": [
    "df_2.loc[:, 'PRIOR_DEST_ID'] = df_2['DEST_AIRPORT_ID'].shift()\n",
    "df_2.loc[:, 'PRIOR_ORIG_ID'] = df_2['ORIGIN_AIRPORT_ID'].shift()\n",
    "df_2.loc[:, 'PRIOR_TAIL_NUM'] = df_2['TAIL_NUM'].shift()\n",
    "df_2.loc[:, 'PRIOR_AIRPORT'] = 0"
   ]
  },
  {
   "cell_type": "code",
   "execution_count": 13,
   "metadata": {
    "collapsed": true
   },
   "outputs": [],
   "source": [
    "# Add PRIOR_AIRPORT column\n",
    "# takes a few min\n",
    "prior_airport = lambda row: (row['PRIOR_ORIG_ID'] \n",
    "                             if ((row['ORIGIN_AIRPORT_ID'] == 13930) | (row['ORIGIN_AIRPORT_ID'] == 13232)) &\n",
    "                                (row['PRIOR_DEST_ID'] == row['ORIGIN_AIRPORT_ID']) &\n",
    "                                (row['TAIL_NUM'] == row['PRIOR_TAIL_NUM'])\n",
    "                             else 0)\n",
    "\n",
    "df_2.loc[:, 'PRIOR_AIRPORT'] = df_2.apply(prior_airport, axis=1)\n",
    "    "
   ]
  },
  {
   "cell_type": "code",
   "execution_count": 14,
   "metadata": {
    "collapsed": true
   },
   "outputs": [],
   "source": [
    "df_pa = pd.DataFrame(df_2['PRIOR_AIRPORT'])\n",
    "df = df.join(df_pa, how='left')"
   ]
  },
  {
   "cell_type": "code",
   "execution_count": 15,
   "metadata": {
    "collapsed": true
   },
   "outputs": [],
   "source": [
    "df.to_csv('../Assets/Datasets/BTS_flight_data/Processed/Illinois_2011_2016_with_prior.csv', index=False)"
   ]
  },
  {
   "cell_type": "code",
   "execution_count": 2,
   "metadata": {
    "collapsed": true
   },
   "outputs": [],
   "source": [
    "df = pd.read_csv('../Assets/Datasets/BTS_flight_data/Processed/Illinois_2011_2016_with_prior.csv')"
   ]
  },
  {
   "cell_type": "code",
   "execution_count": 16,
   "metadata": {
    "collapsed": false
   },
   "outputs": [
    {
     "data": {
      "text/plain": [
       "(2155102, 38)"
      ]
     },
     "execution_count": 16,
     "metadata": {},
     "output_type": "execute_result"
    }
   ],
   "source": [
    "# Departures from MDW & ORD only\n",
    "df = df[df['ORIGIN_AIRPORT_ID'].isin([13930, 13232])]\n",
    "df.shape"
   ]
  },
  {
   "cell_type": "code",
   "execution_count": 17,
   "metadata": {
    "collapsed": false
   },
   "outputs": [],
   "source": [
    "# Create MDW & ORD departures\n",
    "df.to_csv('../Assets/Datasets/BTS_flight_data/Processed/chicago_departures.csv', index=False)"
   ]
  },
  {
   "cell_type": "code",
   "execution_count": 18,
   "metadata": {
    "collapsed": true
   },
   "outputs": [],
   "source": [
    "# Create cancelled dataframe and save as csv\n",
    "cancelled = df[df['CANCELLED'] == 1.0]\n",
    "cancelled.to_csv('../Assets/Datasets/BTS_flight_data/Processed/cancelled_chicago_departures.csv', index=False)"
   ]
  },
  {
   "cell_type": "code",
   "execution_count": 19,
   "metadata": {
    "collapsed": true
   },
   "outputs": [],
   "source": [
    "# create departures dataframe  without cancellations\n",
    "departures = df[df['CANCELLED'] == 0.0]\n",
    "departures.to_csv('../Assets/Datasets/BTS_flight_data/Processed/non_cancelled_chicago_departures.csv', index=False)"
   ]
  }
 ],
 "metadata": {
  "anaconda-cloud": {},
  "kernelspec": {
   "display_name": "Python [lesson01]",
   "language": "python",
   "name": "Python [lesson01]"
  },
  "language_info": {
   "codemirror_mode": {
    "name": "ipython",
    "version": 2
   },
   "file_extension": ".py",
   "mimetype": "text/x-python",
   "name": "python",
   "nbconvert_exporter": "python",
   "pygments_lexer": "ipython2",
   "version": "2.7.12"
  }
 },
 "nbformat": 4,
 "nbformat_minor": 0
}
