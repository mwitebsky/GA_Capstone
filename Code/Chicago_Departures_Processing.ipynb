{
 "cells": [
  {
   "cell_type": "markdown",
   "metadata": {},
   "source": [
    "## Import Chicago Departures"
   ]
  },
  {
   "cell_type": "code",
   "execution_count": 2,
   "metadata": {
    "collapsed": false
   },
   "outputs": [],
   "source": [
    "% matplotlib inline\n",
    "import matplotlib.pyplot as plt\n",
    "import pandas as pd\n",
    "import seaborn as sns\n",
    "import numpy as np\n",
    "from datetime import datetime\n",
    "pd.options.display.max_columns = 50"
   ]
  },
  {
   "cell_type": "code",
   "execution_count": 3,
   "metadata": {
    "collapsed": false
   },
   "outputs": [
    {
     "data": {
      "text/plain": [
       "(1997113, 50)"
      ]
     },
     "execution_count": 3,
     "metadata": {},
     "output_type": "execute_result"
    }
   ],
   "source": [
    "df = pd.read_csv('../Assets/Datasets/BTS_flight_data/Processed/chicago_departures.csv')\n",
    "df.shape"
   ]
  },
  {
   "cell_type": "code",
   "execution_count": 4,
   "metadata": {
    "collapsed": false
   },
   "outputs": [],
   "source": [
    "# Get time in Date/Hour to match hourly weather data\n",
    "cols = [['CRS_DEP_DATETIME', 'CRS_DEP_DATEHOUR'],\n",
    "        ['CRS_ARR_DATETIME', 'CRS_ARR_DATEHOUR'],\n",
    "        ['PRIOR_CRS_DEP_DATETIME', 'PRIOR_CRS_DEP_DATEHOUR']]\n",
    "\n",
    "for col in cols:\n",
    "    df[col[0]] = pd.to_datetime( df[col[0]], infer_datetime_format=True)\n",
    "    df[col[1]] = df[col[0]].apply(lambda x: datetime(x.year, x.month, x.day, x.hour))"
   ]
  },
  {
   "cell_type": "markdown",
   "metadata": {},
   "source": [
    "## Join Airline Name"
   ]
  },
  {
   "cell_type": "code",
   "execution_count": 5,
   "metadata": {
    "collapsed": false
   },
   "outputs": [],
   "source": [
    "carrier_match = pd.read_csv('../Assets/Datasets/BTS_flight_data/Match_Tables/L_UNIQUE_CARRIERS.csv')\n",
    "\n",
    "df = pd.merge(df, carrier_match, \n",
    "                      left_on='UNIQUE_CARRIER', right_on='Code',\n",
    "                      how='left')\n",
    "\n",
    "df.drop(['UNIQUE_CARRIER', 'Code'], axis=1, inplace=True)\n",
    "df = df.rename(columns = {'Description' : 'Airline'})"
   ]
  },
  {
   "cell_type": "markdown",
   "metadata": {},
   "source": [
    "## Join Origin Weather Data"
   ]
  },
  {
   "cell_type": "code",
   "execution_count": 6,
   "metadata": {
    "collapsed": false
   },
   "outputs": [],
   "source": [
    "# Import and format weather data\n",
    "orig_weather = pd.read_csv('../Assets/Datasets/Weather/Clean_Dep_Weather_Hourly.csv')\n",
    "orig_weather = orig_weather[['Airport', 'DateTime', 'Daypart', 'Temp', 'Visibility', 'Wind Speed',\n",
    "                   'Precip', 'Conditions']]\n",
    "orig_weather = orig_weather.rename(columns = {'DateTime' : 'DateHour',\n",
    "                                              'Temp': 'Orig_Temp',\n",
    "                                              'Visibility' : 'Orig_Visibility',\n",
    "                                              'Wind Speed' : 'Orig_Wind Speed',\n",
    "                                              'Precip' : 'Orig_Precip',\n",
    "                                              'Conditions' : 'Orig_Conditions'})\n",
    "orig_weather['DateHour'] = pd.to_datetime(orig_weather['DateHour'], infer_datetime_format=True)\n",
    "\n",
    "# Remove leading 'K' from airport to match df airport codes \n",
    "orig_weather['Airport'] = orig_weather['Airport'].apply(lambda x: x[1:])"
   ]
  },
  {
   "cell_type": "code",
   "execution_count": 7,
   "metadata": {
    "collapsed": false
   },
   "outputs": [],
   "source": [
    "# Create origin airport weather columns for 3 hours before and 2 hours after\n",
    "orig_weather = orig_weather.sort_values(['Airport', 'DateHour'])\n",
    "offsets = [['B1_', 1], ['B2_', 2], ['B3_', 3], ['A1_', -1], ['A2_', -2]]\n",
    "cols = ['Orig_Temp', 'Orig_Visibility', 'Orig_Wind Speed', 'Orig_Precip', 'Orig_Conditions']\n",
    "\n",
    "for offset in offsets:\n",
    "    for col in cols:\n",
    "        orig_weather[offset[0]+col] = orig_weather[col].shift(offset[1])\n",
    "        \n",
    "orig_weather.dropna(inplace=True)"
   ]
  },
  {
   "cell_type": "code",
   "execution_count": 8,
   "metadata": {
    "collapsed": false
   },
   "outputs": [],
   "source": [
    "# format BTS data to match weather columns for join\n",
    "code_match = pd.read_csv('../Assets/Datasets/BTS_flight_data/Match_Tables/AIRPORT_ID_CODE.csv')\n",
    "df = pd.merge(df, code_match[['US_DOT_AIRPORT_ID', 'US_DOT_AIRPORT_CODE']], \n",
    "              left_on='ORIGIN_AIRPORT_ID', right_on='US_DOT_AIRPORT_ID',\n",
    "              how= 'left')\n",
    "df.drop('US_DOT_AIRPORT_ID', axis=1, inplace=True)\n",
    "df = df.rename(columns = {'US_DOT_AIRPORT_CODE':'ORIGIN_AIRPORT_CODE'})\n"
   ]
  },
  {
   "cell_type": "code",
   "execution_count": 9,
   "metadata": {
    "collapsed": false
   },
   "outputs": [],
   "source": [
    "# join weather and BTS on dep airport and departure time\n",
    "df = pd.merge(df, orig_weather, how='left',\n",
    "              left_on=['ORIGIN_AIRPORT_CODE', 'CRS_DEP_DATEHOUR'],\n",
    "              right_on=['Airport', 'DateHour'])"
   ]
  },
  {
   "cell_type": "code",
   "execution_count": 10,
   "metadata": {
    "collapsed": false
   },
   "outputs": [
    {
     "data": {
      "text/plain": [
       "(1991998, 86)"
      ]
     },
     "execution_count": 10,
     "metadata": {},
     "output_type": "execute_result"
    }
   ],
   "source": [
    "# Remove rows that have no weather info \n",
    "df.dropna(subset=['Airport'], inplace=True)\n",
    "df.drop('Airport', axis= 1, inplace=True)\n",
    "df.shape"
   ]
  },
  {
   "cell_type": "markdown",
   "metadata": {},
   "source": [
    "## *** NOT USING*** Join Destination Weather Data"
   ]
  },
  {
   "cell_type": "code",
   "execution_count": null,
   "metadata": {
    "collapsed": false
   },
   "outputs": [],
   "source": [
    "# Import and format weather data\n",
    "dest_weather = pd.read_csv('../Assets/Datasets/Weather/Clean_Arr_Weather_Hourly.csv')\n",
    "dest_weather = dest_weather[['Airport', 'DateTime', 'Daypart', 'Temp', 'Visibility', 'Wind Speed',\n",
    "                   'Precip', 'Conditions']]\n",
    "dest_weather = dest_weather.rename(columns = {'DateTime' : 'DateHour',\n",
    "                                              'Temp': 'Dest_Temp',\n",
    "                                              'Visibility' : 'Dest_Visibility',\n",
    "                                              'Wind Speed' : 'Dest_Wind Speed',\n",
    "                                              'Precip' : 'Dest_Precip',\n",
    "                                              'Conditions' : 'Dest_Conditions'})\n",
    "dest_weather['DateHour'] = pd.to_datetime(dest_weather['DateHour'], infer_datetime_format=True)\n",
    "\n",
    "# Remove leading 'K' from airport to match df airport codes \n",
    "dest_weather['Airport'] = dest_weather['Airport'].apply(lambda x: x[1:])"
   ]
  },
  {
   "cell_type": "code",
   "execution_count": null,
   "metadata": {
    "collapsed": false
   },
   "outputs": [],
   "source": [
    "# Create destination airport weather columns for 3 hours before and 2 hours after\n",
    "dest_weather = dest_weather.sort_values(['Airport', 'DateHour'])\n",
    "\n",
    "offsets = [['B1_', 1], ['B2_', 2], ['B3_', 3], ['A1_', -1], ['A2_', -2]]\n",
    "cols = ['Dest_Temp', 'Dest_Visibility', 'Dest_Wind Speed', 'Dest_Precip', 'Dest_Conditions']\n",
    "\n",
    "for offset in offsets:\n",
    "    for col in cols:\n",
    "        dest_weather[offset[0]+col] = dest_weather[col].shift(offset[1])\n",
    "        \n",
    "dest_weather.dropna(inplace=True)"
   ]
  },
  {
   "cell_type": "code",
   "execution_count": null,
   "metadata": {
    "collapsed": true
   },
   "outputs": [],
   "source": [
    "# format BTS data to match weather columns for join\n",
    "df = pd.merge(df, code_match[['US_DOT_AIRPORT_ID', 'US_DOT_AIRPORT_CODE']], \n",
    "              left_on='DEST_AIRPORT_ID', right_on='US_DOT_AIRPORT_ID',\n",
    "              how= 'left')\n",
    "df.drop('US_DOT_AIRPORT_ID', axis=1, inplace=True)\n",
    "df = df.rename(columns = {'US_DOT_AIRPORT_CODE':'DEST_AIRPORT_CODE'})"
   ]
  },
  {
   "cell_type": "code",
   "execution_count": null,
   "metadata": {
    "collapsed": true
   },
   "outputs": [],
   "source": [
    "# join weather and BTS on dest airport and Arrival Time\n",
    "df = pd.merge(df, dest_weather, how='left',\n",
    "              left_on=['DEST_AIRPORT_CODE', 'CRS_ARR_DATEHOUR'],\n",
    "              right_on=['Airport', 'DateHour'])"
   ]
  },
  {
   "cell_type": "code",
   "execution_count": null,
   "metadata": {
    "collapsed": false
   },
   "outputs": [],
   "source": [
    "# Remove rows that have no weather (will drop any dest with no weather)\n",
    "df.dropna(subset=['Airport'], inplace=True)\n",
    "df.shape"
   ]
  },
  {
   "cell_type": "markdown",
   "metadata": {},
   "source": [
    "## ***Not Using*** Join Prior Weather"
   ]
  },
  {
   "cell_type": "code",
   "execution_count": null,
   "metadata": {
    "collapsed": true
   },
   "outputs": [],
   "source": [
    "# Import and format weather data\n",
    "prior_weather = pd.read_csv('../Assets/Datasets/Weather/Clean_Arr_Weather_Hourly.csv')\n",
    "prior_weather = prior_weather[['Airport', 'DateTime', 'Daypart', 'Temp', 'Visibility', 'Wind Speed',\n",
    "                   'Precip', 'Conditions']]\n",
    "prior_weather = prior_weather.rename(columns = {'DateTime' : 'DateHour',\n",
    "                                              'Temp': 'Prior_Temp',\n",
    "                                              'Visibility' : 'Prior_Visibility',\n",
    "                                              'Wind Speed' : 'Prior_Wind Speed',\n",
    "                                              'Precip' : 'Prior_Precip',\n",
    "                                              'Conditions' : 'Prior_Conditions'})\n",
    "prior_weather['DateHour'] = pd.to_datetime(prior_weather['DateHour'], infer_datetime_format=True)\n",
    "\n",
    "# Remove leading 'K' from airport to match df airport codes \n",
    "prior_weather['Airport'] = prior_weather['Airport'].apply(lambda x: x[1:])"
   ]
  },
  {
   "cell_type": "code",
   "execution_count": null,
   "metadata": {
    "collapsed": true
   },
   "outputs": [],
   "source": [
    "# Create prior airport weather columns for 3 hours before and 2 hours after\n",
    "prior_weather = prior_weather.sort_values(['Airport', 'DateHour'])\n",
    "\n",
    "offsets = [['B1_', 1], ['B2_', 2], ['B3_', 3], ['A1_', -1], ['A2_', -2]]\n",
    "cols = ['Prior_Temp', 'Prior_Visibility', 'Prior_Wind Speed', 'Prior_Precip', 'Prior_Conditions']\n",
    "\n",
    "for offset in offsets:\n",
    "    for col in cols:\n",
    "        prior_weather[offset[0]+col] = prior_weather[col].shift(offset[1])\n",
    "        \n",
    "prior_weather.dropna(inplace=True)"
   ]
  },
  {
   "cell_type": "code",
   "execution_count": null,
   "metadata": {
    "collapsed": false
   },
   "outputs": [],
   "source": [
    "# format BTS data to match weather columns for join\n",
    "df = pd.merge(df, code_match[['US_DOT_AIRPORT_ID', 'US_DOT_AIRPORT_CODE']], \n",
    "              left_on='PRIOR_AIRPORT', right_on='US_DOT_AIRPORT_ID',\n",
    "              how= 'left')\n",
    "df.drop('US_DOT_AIRPORT_ID', axis=1, inplace=True)\n",
    "df = df.rename(columns = {'US_DOT_AIRPORT_CODE':'PRIOR_AIRPORT_CODE'})"
   ]
  },
  {
   "cell_type": "code",
   "execution_count": null,
   "metadata": {
    "collapsed": false
   },
   "outputs": [],
   "source": [
    "# join weather and BTS on prior airport and prior dep time\n",
    "df = pd.merge(df, prior_weather, how='left',\n",
    "              left_on=['PRIOR_AIRPORT_CODE', 'PRIOR_CRS_DEP_DATEHOUR'],\n",
    "              right_on=['Airport', 'DateHour'])"
   ]
  },
  {
   "cell_type": "code",
   "execution_count": null,
   "metadata": {
    "collapsed": false
   },
   "outputs": [],
   "source": [
    "# Remove rows that have no weather (will drop any dest with no weather)\n",
    "df.dropna(subset=['Airport'], inplace=True)\n",
    "df.shape"
   ]
  },
  {
   "cell_type": "markdown",
   "metadata": {},
   "source": [
    "## Join Airplane Data"
   ]
  },
  {
   "cell_type": "code",
   "execution_count": 11,
   "metadata": {
    "collapsed": false
   },
   "outputs": [],
   "source": [
    "# import airplane info\n",
    "tail_match = pd.read_csv('../Assets/Datasets/FlightTracker_Airplane/FA_Airplane_Info_Clean.csv')\n",
    "tail_match.drop('Unnamed: 0', axis=1, inplace=True)"
   ]
  },
  {
   "cell_type": "code",
   "execution_count": 12,
   "metadata": {
    "collapsed": false
   },
   "outputs": [],
   "source": [
    "# left join data with tail match\n",
    "df = pd.merge(df, tail_match, left_on='TAIL_NUM', right_on='N-NUMBER', how='left')"
   ]
  },
  {
   "cell_type": "code",
   "execution_count": 13,
   "metadata": {
    "collapsed": false
   },
   "outputs": [
    {
     "data": {
      "text/plain": [
       "(1967739, 91)"
      ]
     },
     "execution_count": 13,
     "metadata": {},
     "output_type": "execute_result"
    }
   ],
   "source": [
    "# Drop data that has no airplane match\n",
    "df.dropna(subset=['mfr'], inplace=True)\n",
    "df.shape"
   ]
  },
  {
   "cell_type": "markdown",
   "metadata": {},
   "source": [
    "## Prepare Data"
   ]
  },
  {
   "cell_type": "code",
   "execution_count": 25,
   "metadata": {
    "collapsed": false
   },
   "outputs": [],
   "source": [
    "# # Find cutoff for .5% longest delays (210 minutes)\n",
    "# delays = pd.DataFrame(df['ARR_DELAY_NEW'].value_counts()).reset_index().sort_values('index')\n",
    "# cumsum = delays.cumsum()\n",
    "# cumsum.columns = ['delay_time', 'Sum']\n",
    "# delays = delays.join(cumsum['Sum'])\n",
    "# delays.columns = ['Delay_Time', 'Count', 'Sum']\n",
    "# delays['pct'] = delays['Sum'] / df.shape[0]\n",
    "# delays[delays['Delay_Time'] == 0]\n",
    "\n",
    "# # Cap Delays at 210 minutes (top .5% of delays)\n",
    "# df['ARR_DELAY_NEW'] = df['ARR_DELAY_NEW'].apply(lambda x: 210 if x > 210 else x)"
   ]
  },
  {
   "cell_type": "code",
   "execution_count": 14,
   "metadata": {
    "collapsed": false
   },
   "outputs": [],
   "source": [
    "# Cap Delta_Time_min at 360 minutes. should cover almost all delta times \n",
    "df['DELTA_TIME_MIN'] = df['DELTA_TIME_MIN'].apply(lambda x: 360 if x > 360 else x)"
   ]
  },
  {
   "cell_type": "code",
   "execution_count": 15,
   "metadata": {
    "collapsed": true
   },
   "outputs": [],
   "source": [
    "# Create categorical delay\n",
    "df['DEP_DELAY_C'] = df['DEP_DELAY_NEW'].apply(lambda x: 0 if x < 1 else 1)"
   ]
  },
  {
   "cell_type": "code",
   "execution_count": 79,
   "metadata": {
    "collapsed": true
   },
   "outputs": [],
   "source": [
    "# # Only Use data starting 2014 or later\n",
    "# df = df[df['CRS_DEP_DATEHOUR'] > '2013-12-31 23:00:00']"
   ]
  },
  {
   "cell_type": "code",
   "execution_count": 16,
   "metadata": {
    "collapsed": false
   },
   "outputs": [],
   "source": [
    "# Select Columns necessary for model\n",
    "data = df[[\n",
    "           'ORIGIN_AIRPORT_CODE','DAILY_DEPARTURES', 'Airline', \n",
    "           'DELTA_TIME_MIN','CRS_DEP_YEAR','CRS_DEP_WEEK', 'CRS_DEP_DAY_OF_WEEK', 'CRS_DEP_TIME_hours',\n",
    "          'Orig_Temp', 'Orig_Visibility','Orig_Wind Speed','Orig_Precip',\n",
    "#            'B1_Orig_Temp','B1_Orig_Visibility','B1_Orig_Wind Speed','B1_Orig_Precip',\n",
    "#            'B2_Orig_Temp','B2_Orig_Visibility','B2_Orig_Wind Speed','B2_Orig_Precip',\n",
    "#            'B3_Orig_Temp','B3_Orig_Visibility','B3_Orig_Wind Speed','B3_Orig_Precip',\n",
    "#            'A1_Orig_Temp','A1_Orig_Visibility','A1_Orig_Wind Speed','A1_Orig_Precip',\n",
    "#            'A2_Orig_Temp','A2_Orig_Visibility','A2_Orig_Wind Speed','A2_Orig_Precip',\n",
    "#            'Dest_Temp','Dest_Visibility','Dest_Wind Speed','Dest_Precip',\n",
    "#            'B1_Dest_Temp','B1_Dest_Visibility','B1_Dest_Wind Speed','B1_Dest_Precip',\n",
    "#            'B2_Dest_Temp','B2_Dest_Visibility','B2_Dest_Wind Speed','B2_Dest_Precip',\n",
    "#            'B3_Dest_Temp','B3_Dest_Visibility','B3_Dest_Wind Speed','B3_Dest_Precip',\n",
    "#            'A1_Dest_Temp','A1_Dest_Visibility','A1_Dest_Wind Speed','A1_Dest_Precip',\n",
    "#            'A2_Dest_Temp','A2_Dest_Visibility','A2_Dest_Wind Speed','A2_Dest_Precip',\n",
    "#            'Prior_Temp','Prior_Visibility','Prior_Wind Speed','Prior_Precip',\n",
    "#            'B1_Prior_Temp','B1_Prior_Visibility','B1_Prior_Wind Speed','B1_Prior_Precip',\n",
    "#            'B2_Prior_Temp','B2_Prior_Visibility','B2_Prior_Wind Speed','B2_Prior_Precip',\n",
    "#            'B3_Prior_Temp','B3_Prior_Visibility','B3_Prior_Wind Speed','B3_Prior_Precip',\n",
    "#            'A1_Prior_Temp','A1_Prior_Visibility','A1_Prior_Wind Speed','A1_Prior_Precip',\n",
    "#            'A2_Prior_Temp','A2_Prior_Visibility','A2_Prior_Wind Speed','A2_Prior_Precip',\n",
    "          'seats',\n",
    "#             \n",
    "#            'Model', 'mfr_year',\n",
    "#            'PRIOR_AIRPORT',\n",
    "#         'DEST_AIRPORT_ID', 'PRIOR_AIRPORT_CODE', 'DEST_AIRPORT_CODE',\n",
    "#            'HOURLY_DEPARTURES', \n",
    "           'DEP_DELAY_C'\n",
    "          ]]"
   ]
  },
  {
   "cell_type": "code",
   "execution_count": 17,
   "metadata": {
    "collapsed": false
   },
   "outputs": [],
   "source": [
    "def clean_names(lst):\n",
    "    new_lst = []\n",
    "    for item in lst:\n",
    "        item = item.lower()\n",
    "        item = item.replace(' ', '_')\n",
    "        new_lst.append(item)\n",
    "    return new_lst\n",
    "\n",
    "data.columns = clean_names(list(data.columns))"
   ]
  },
  {
   "cell_type": "code",
   "execution_count": 18,
   "metadata": {
    "collapsed": true
   },
   "outputs": [],
   "source": [
    "# Split data by airport\n",
    "mdw = data[data['origin_airport_code'] == 'MDW']\n",
    "ohr = data[data['origin_airport_code'] == 'ORD']"
   ]
  },
  {
   "cell_type": "code",
   "execution_count": 19,
   "metadata": {
    "collapsed": false
   },
   "outputs": [
    {
     "name": "stderr",
     "output_type": "stream",
     "text": [
      "/Users/mwitebsky/anaconda2/envs/lesson01/lib/python2.7/site-packages/pandas/core/indexing.py:465: SettingWithCopyWarning: \n",
      "A value is trying to be set on a copy of a slice from a DataFrame.\n",
      "Try using .loc[row_indexer,col_indexer] = value instead\n",
      "\n",
      "See the caveats in the documentation: http://pandas.pydata.org/pandas-docs/stable/indexing.html#indexing-view-versus-copy\n",
      "  self.obj[item] = s\n"
     ]
    }
   ],
   "source": [
    "#Random Forest Create Dummies\n",
    "to_str = ['airline', 'crs_dep_year', 'crs_dep_day_of_week',\n",
    "#           'dest_airport_id', \n",
    "#           'prior_airport', \n",
    "#           'model'\n",
    "         ]\n",
    "for frame in [mdw, ohr]:\n",
    "    for item in to_str:\n",
    "        frame.loc[:, item] = frame[item].astype(str)\n",
    "\n",
    "\n"
   ]
  },
  {
   "cell_type": "code",
   "execution_count": 20,
   "metadata": {
    "collapsed": false
   },
   "outputs": [],
   "source": [
    "mdw = pd.get_dummies(mdw, \n",
    "                       columns=[\n",
    "                                'airline', 'crs_dep_year', 'crs_dep_day_of_week',\n",
    "#         'dest_airport_id', \n",
    "#         'prior_airport', \n",
    "#         'model',\n",
    "                               ], \n",
    "                       drop_first=True)"
   ]
  },
  {
   "cell_type": "code",
   "execution_count": 21,
   "metadata": {
    "collapsed": false
   },
   "outputs": [],
   "source": [
    "ohr = pd.get_dummies(ohr, \n",
    "                       columns=[\n",
    "                                'airline', 'crs_dep_year', 'crs_dep_day_of_week',\n",
    "#         'dest_airport_id', \n",
    "#         'prior_airport', \n",
    "#         'model',\n",
    "                               ], \n",
    "                       drop_first=True)"
   ]
  },
  {
   "cell_type": "markdown",
   "metadata": {},
   "source": [
    "## Export Model Ready Data"
   ]
  },
  {
   "cell_type": "code",
   "execution_count": 47,
   "metadata": {
    "collapsed": true
   },
   "outputs": [],
   "source": [
    "mdw.to_csv('../Assets/Datasets/Outputs/mdw_ModelReady.csv')"
   ]
  },
  {
   "cell_type": "code",
   "execution_count": 48,
   "metadata": {
    "collapsed": true
   },
   "outputs": [],
   "source": [
    "ohr.to_csv('../Assets/Datasets/Outputs/ord_ModelReady.csv')"
   ]
  },
  {
   "cell_type": "markdown",
   "metadata": {},
   "source": [
    "## Charts :)"
   ]
  },
  {
   "cell_type": "code",
   "execution_count": 391,
   "metadata": {
    "collapsed": false
   },
   "outputs": [],
   "source": [
    "import math\n",
    "mdw_corr = pd.DataFrame(mdw.corr()['dep_delay_c'])\n",
    "mdw_corr['Symbol'] = np.where(mdw_corr['dep_delay_c'] > 0, 'Positive', 'Negative')\n",
    "mdw_corr['dep_delay_c'] = mdw_corr['dep_delay_c'].apply(lambda x: math.fabs(x))\n",
    "mdw_corr = mdw_corr.sort_values('dep_delay_c', ascending=False)\n",
    "mdw_corr.reset_index(inplace=True)\n",
    "mdw_corr.drop(0, axis=0, inplace=True)\n",
    "\n",
    "\n",
    "ohr_corr = pd.DataFrame(ohr.corr()['dep_delay_c'])\n",
    "ohr_corr['Symbol'] = np.where(ohr_corr['dep_delay_c'] > 0, 'Positive', 'Negative')\n",
    "ohr_corr['dep_delay_c'] = ohr_corr['dep_delay_c'].apply(lambda x: math.fabs(x))\n",
    "ohr_corr = ohr_corr.sort_values('dep_delay_c', ascending=False)\n",
    "ohr_corr.reset_index(inplace=True)\n",
    "ohr_corr.drop(0, axis=0, inplace=True)\n",
    "   "
   ]
  },
  {
   "cell_type": "code",
   "execution_count": 392,
   "metadata": {
    "collapsed": false
   },
   "outputs": [
    {
     "data": {
      "text/plain": [
       "<function matplotlib.pyplot.plot>"
      ]
     },
     "execution_count": 392,
     "metadata": {},
     "output_type": "execute_result"
    },
    {
     "data": {
      "image/png": "[encoded data removed]",
      "text/plain": [
       "<matplotlib.figure.Figure at 0x17fd603d0>"
      ]
     },
     "metadata": {},
     "output_type": "display_data"
    },
    {
     "data": {
      "text/plain": [
       "<matplotlib.figure.Figure at 0x104342450>"
      ]
     },
     "metadata": {},
     "output_type": "display_data"
    }
   ],
   "source": [
    "mdw_corrs = sns.barplot(y='index', x='dep_delay_c', hue='Symbol', data=mdw_corr)\n",
    "plt.setp(mdw_corrs.get_xticklabels(), rotation=90)\n",
    "sns.set_context(\"paper\")\n",
    "plt.figure(figsize=(10,10))\n",
    "plt.plot"
   ]
  },
  {
   "cell_type": "code",
   "execution_count": 333,
   "metadata": {
    "collapsed": false
   },
   "outputs": [
    {
     "data": {
      "text/plain": [
       "<function matplotlib.pyplot.plot>"
      ]
     },
     "execution_count": 333,
     "metadata": {},
     "output_type": "execute_result"
    },
    {
     "data": {
      "image/png": "[encoded data removed]",
      "text/plain": [
       "<matplotlib.figure.Figure at 0x18c96acd0>"
      ]
     },
     "metadata": {},
     "output_type": "display_data"
    },
    {
     "data": {
      "text/plain": [
       "<matplotlib.figure.Figure at 0x1817bd250>"
      ]
     },
     "metadata": {},
     "output_type": "display_data"
    }
   ],
   "source": [
    "ohr_corrs = sns.barplot(y='index', x='dep_delay_c', hue='Symbol', data=ohr_corr)\n",
    "plt.setp(ohr_corrs.get_xticklabels(), rotation=90)\n",
    "sns.set_context(\"paper\")\n",
    "plt.figure(figsize=(10,10))\n",
    "plt.plot"
   ]
  },
  {
   "cell_type": "code",
   "execution_count": 22,
   "metadata": {
    "collapsed": false
   },
   "outputs": [
    {
     "name": "stdout",
     "output_type": "stream",
     "text": [
      "mdw: (327271, 26)\n",
      "ohr (1050146, 35)\n"
     ]
    }
   ],
   "source": [
    "# Create train & test split\n",
    "from sklearn.model_selection import train_test_split\n",
    "mdw_x = mdw.drop(['origin_airport_code', 'dep_delay_c'], axis=1)\n",
    "mdw_y = mdw['dep_delay_c']\n",
    "\n",
    "mdw_x_train, mdw_x_test, mdw_y_train, mdw_y_test = train_test_split(mdw_x, mdw_y, train_size=.7)\n",
    "print 'mdw: {}'.format(mdw_x_train.shape)\n",
    "\n",
    "ohr_x = ohr.drop(['origin_airport_code', 'dep_delay_c'], axis=1)\n",
    "ohr_y = ohr['dep_delay_c']\n",
    "\n",
    "ohr_x_train, ohr_x_test, ohr_y_train, ohr_y_test = train_test_split(ohr_x, ohr_y, train_size=.7)\n",
    "print 'ohr {}'.format(ohr_x_train.shape)"
   ]
  },
  {
   "cell_type": "code",
   "execution_count": null,
   "metadata": {
    "collapsed": false
   },
   "outputs": [],
   "source": [
    "# # Low features model\n",
    "# data = df[['crs_dep_hour', 'delta_time_min', 'origin_airport_id', 'unique_carrier', 'week', 'temp', 'dep_delay_c']]\n",
    "\n",
    "# data = pd.get_dummies(data, \n",
    "#                columns=['crs_dep_hour', 'origin_airport_id', 'unique_carrier', 'week'])"
   ]
  },
  {
   "cell_type": "code",
   "execution_count": null,
   "metadata": {
    "collapsed": false
   },
   "outputs": [],
   "source": [
    "# # KNN/Neural Create dummy variables \n",
    "# to_str = ['day_of_week', 'prior_airport', 'origin_airport_id', 'dest_airport_id']\n",
    "# for item in to_str:\n",
    "#     data.loc[:, item] = data[item].astype(str)\n",
    "\n",
    "# data = pd.get_dummies(data, \n",
    "#                columns=[\n",
    "        \n",
    "#                         'week', 'day_of_week',  \n",
    "#                         'unique_carrier', 'prior_airport', 'origin_airport_id', 'dest_airport_id', \n",
    "#                         'model',  \n",
    "#                        ], \n",
    "#                drop_first=True)\n"
   ]
  },
  {
   "cell_type": "code",
   "execution_count": null,
   "metadata": {
    "collapsed": false
   },
   "outputs": [],
   "source": [
    "# # Create x and y and train test splits\n",
    "\n",
    "\n",
    "# # Sample data\n",
    "# sample = data.sample(frac=.2)\n",
    "\n",
    "# x = sample.drop('dep_delay_c', axis=1)\n",
    "# y = sample['dep_delay_c']\n",
    "\n",
    "# x_train, x_test, y_train, y_test = train_test_split(x, y, train_size=.7)\n",
    "# x_train.shape"
   ]
  },
  {
   "cell_type": "code",
   "execution_count": null,
   "metadata": {
    "collapsed": false
   },
   "outputs": [],
   "source": [
    "# # Standardize for KNN or Neural\n",
    "# # standardize\n",
    "# from sklearn.preprocessing import StandardScaler\n",
    "# ss = StandardScaler()\n",
    "\n",
    "# ss.fit(x_train)\n",
    "# x_train = ss.transform(x_train)\n",
    "# x_test = ss.trasform(x_test)"
   ]
  },
  {
   "cell_type": "markdown",
   "metadata": {},
   "source": [
    "## Feature Reduction"
   ]
  },
  {
   "cell_type": "code",
   "execution_count": null,
   "metadata": {
    "collapsed": false
   },
   "outputs": [],
   "source": [
    "from sklearn.decomposition import PCA\n",
    "pca = PCA(n_components=3)\n",
    "pca.fit(x_train)\n",
    "print 'Total variance explained:\\n{}\\n'.format(sum(pca.explained_variance_ratio_))\n",
    "print 'Variance breakdown:\\n{}'.format(pca.explained_variance_ratio_)"
   ]
  },
  {
   "cell_type": "code",
   "execution_count": null,
   "metadata": {
    "collapsed": false
   },
   "outputs": [],
   "source": [
    "x_train = pca.transform(x_train)\n",
    "x_test = pca.transform(x_test)"
   ]
  },
  {
   "cell_type": "markdown",
   "metadata": {},
   "source": [
    "### .66 is baseline of flights that are delayed <= 5 Min"
   ]
  },
  {
   "cell_type": "markdown",
   "metadata": {},
   "source": [
    "## Neural Network"
   ]
  },
  {
   "cell_type": "code",
   "execution_count": null,
   "metadata": {
    "collapsed": true
   },
   "outputs": [],
   "source": [
    "from sklearn.neural_network import MLPClassifier"
   ]
  },
  {
   "cell_type": "code",
   "execution_count": null,
   "metadata": {
    "collapsed": false
   },
   "outputs": [],
   "source": [
    "mlp = MLPClassifier()\n",
    "mlp.fit(x_train, y_train)"
   ]
  },
  {
   "cell_type": "code",
   "execution_count": null,
   "metadata": {
    "collapsed": false
   },
   "outputs": [],
   "source": [
    "mlp.score(x_train, y_train)"
   ]
  },
  {
   "cell_type": "code",
   "execution_count": null,
   "metadata": {
    "collapsed": true
   },
   "outputs": [],
   "source": []
  },
  {
   "cell_type": "markdown",
   "metadata": {},
   "source": [
    "## Random Forest & KNN"
   ]
  },
  {
   "cell_type": "code",
   "execution_count": 35,
   "metadata": {
    "collapsed": true
   },
   "outputs": [],
   "source": [
    "from sklearn.ensemble import RandomForestClassifier, ExtraTreesClassifier\n",
    "from sklearn.metrics import confusion_matrix, classification_report, roc_curve, auc\n",
    "from sklearn.neighbors import KNeighborsClassifier\n",
    "from sklearn.model_selection import GridSearchCV"
   ]
  },
  {
   "cell_type": "code",
   "execution_count": 27,
   "metadata": {
    "collapsed": false
   },
   "outputs": [
    {
     "name": "stdout",
     "output_type": "stream",
     "text": [
      "Best Score: 0.713680711093\n",
      "Best Estimator: RandomForestClassifier(bootstrap=True, class_weight=None, criterion='gini',\n",
      "            max_depth=None, max_features='auto', max_leaf_nodes=None,\n",
      "            min_impurity_split=1e-07, min_samples_leaf=10,\n",
      "            min_samples_split=2, min_weight_fraction_leaf=0.0,\n",
      "            n_estimators=100, n_jobs=1, oob_score=False, random_state=None,\n",
      "            verbose=0, warm_start=False)\n",
      " Best Params: {'max_features': 'auto', 'n_estimators': 100, 'min_samples_leaf': 10}\n"
     ]
    }
   ],
   "source": [
    "# # Random Forest Classifier GridSearch MDW\n",
    "# rf = RandomForestClassifier()\n",
    "# params = {'n_estimators' : [100], \n",
    "#           'min_samples_leaf' : [10, 50, 100, 500],\n",
    "#           'max_features' : ['auto', 5, 25]}\n",
    "# clf = GridSearchCV(estimator=rf, cv=3, n_jobs=-1, param_grid=params)\n",
    "# clf.fit(mdw_x_train, mdw_y_train)\n",
    "# print 'Best Score: {}\\nBest Estimator: {}\\n Best Params: {}'.format(clf.best_score_, clf.best_estimator_,\n",
    "#                                                                    clf.best_params_)\n"
   ]
  },
  {
   "cell_type": "code",
   "execution_count": 41,
   "metadata": {
    "collapsed": false
   },
   "outputs": [
    {
     "name": "stdout",
     "output_type": "stream",
     "text": [
      "Train Score: 0.71939768571\n",
      "Test Score: 0.707134658026\n"
     ]
    }
   ],
   "source": [
    "# Random Forest Classifier GridSearch MDW\n",
    "\n",
    "mdw_clf = RandomForestClassifier(n_estimators = 100, min_samples_leaf=50,  n_jobs=-1)\n",
    "mdw_clf.fit(mdw_x_train, mdw_y_train)\n",
    "print 'Train Score: {}'.format(mdw_clf.score(mdw_x_train, mdw_y_train))\n",
    "print 'Test Score: {}'.format(mdw_clf.score(mdw_x_test, mdw_y_test))"
   ]
  },
  {
   "cell_type": "code",
   "execution_count": 268,
   "metadata": {
    "collapsed": false
   },
   "outputs": [
    {
     "name": "stdout",
     "output_type": "stream",
     "text": [
      "Train Score: 0.687552517638\n",
      "Test Score: 0.687841778424\n"
     ]
    }
   ],
   "source": [
    "# from sklearn.ensemble import AdaBoostClassifier\n",
    "# clf = AdaBoostClassifier(n_estimators=500)\n",
    "# clf.fit(mdw_x_train, mdw_y_train)\n",
    "# print 'Train Score: {}'.format(clf.score(mdw_x_train, mdw_y_train))\n",
    "# print 'Test Score: {}'.format(clf.score(mdw_x_test, mdw_y_test))"
   ]
  },
  {
   "cell_type": "code",
   "execution_count": 42,
   "metadata": {
    "collapsed": false
   },
   "outputs": [
    {
     "data": {
      "text/html": [
       "<div>\n",
       "<table border=\"1\" class=\"dataframe\">\n",
       "  <thead>\n",
       "    <tr style=\"text-align: right;\">\n",
       "      <th></th>\n",
       "      <th>Feature</th>\n",
       "      <th>Importance</th>\n",
       "    </tr>\n",
       "  </thead>\n",
       "  <tbody>\n",
       "    <tr>\n",
       "      <th>3</th>\n",
       "      <td>crs_dep_time_hours</td>\n",
       "      <td>0.318208</td>\n",
       "    </tr>\n",
       "    <tr>\n",
       "      <th>1</th>\n",
       "      <td>delta_time_min</td>\n",
       "      <td>0.175329</td>\n",
       "    </tr>\n",
       "    <tr>\n",
       "      <th>2</th>\n",
       "      <td>crs_dep_week</td>\n",
       "      <td>0.095163</td>\n",
       "    </tr>\n",
       "    <tr>\n",
       "      <th>4</th>\n",
       "      <td>orig_temp</td>\n",
       "      <td>0.065139</td>\n",
       "    </tr>\n",
       "    <tr>\n",
       "      <th>0</th>\n",
       "      <td>daily_departures</td>\n",
       "      <td>0.056456</td>\n",
       "    </tr>\n",
       "    <tr>\n",
       "      <th>14</th>\n",
       "      <td>airline_Southwest Airlines Co.</td>\n",
       "      <td>0.055721</td>\n",
       "    </tr>\n",
       "    <tr>\n",
       "      <th>8</th>\n",
       "      <td>seats</td>\n",
       "      <td>0.032322</td>\n",
       "    </tr>\n",
       "    <tr>\n",
       "      <th>6</th>\n",
       "      <td>orig_wind_speed</td>\n",
       "      <td>0.027901</td>\n",
       "    </tr>\n",
       "    <tr>\n",
       "      <th>5</th>\n",
       "      <td>orig_visibility</td>\n",
       "      <td>0.016927</td>\n",
       "    </tr>\n",
       "    <tr>\n",
       "      <th>9</th>\n",
       "      <td>airline_Delta Air Lines Inc.</td>\n",
       "      <td>0.014977</td>\n",
       "    </tr>\n",
       "    <tr>\n",
       "      <th>7</th>\n",
       "      <td>orig_precip</td>\n",
       "      <td>0.005062</td>\n",
       "    </tr>\n",
       "    <tr>\n",
       "      <th>10</th>\n",
       "      <td>airline_Endeavor Air Inc.</td>\n",
       "      <td>0.001805</td>\n",
       "    </tr>\n",
       "    <tr>\n",
       "      <th>11</th>\n",
       "      <td>airline_ExpressJet Airlines Inc.</td>\n",
       "      <td>0.001470</td>\n",
       "    </tr>\n",
       "    <tr>\n",
       "      <th>12</th>\n",
       "      <td>airline_Frontier Airlines Inc.</td>\n",
       "      <td>0.000887</td>\n",
       "    </tr>\n",
       "    <tr>\n",
       "      <th>13</th>\n",
       "      <td>airline_SkyWest Airlines Inc.</td>\n",
       "      <td>0.000029</td>\n",
       "    </tr>\n",
       "  </tbody>\n",
       "</table>\n",
       "</div>"
      ],
      "text/plain": [
       "                             Feature  Importance\n",
       "3                 crs_dep_time_hours    0.318208\n",
       "1                     delta_time_min    0.175329\n",
       "2                       crs_dep_week    0.095163\n",
       "4                          orig_temp    0.065139\n",
       "0                   daily_departures    0.056456\n",
       "14    airline_Southwest Airlines Co.    0.055721\n",
       "8                              seats    0.032322\n",
       "6                    orig_wind_speed    0.027901\n",
       "5                    orig_visibility    0.016927\n",
       "9       airline_Delta Air Lines Inc.    0.014977\n",
       "7                        orig_precip    0.005062\n",
       "10         airline_Endeavor Air Inc.    0.001805\n",
       "11  airline_ExpressJet Airlines Inc.    0.001470\n",
       "12    airline_Frontier Airlines Inc.    0.000887\n",
       "13     airline_SkyWest Airlines Inc.    0.000029"
      ]
     },
     "execution_count": 42,
     "metadata": {},
     "output_type": "execute_result"
    }
   ],
   "source": [
    "# Random Forest Feature importances MDW\n",
    "mdw_f_imp = pd.DataFrame(zip(mdw_x_train.columns, mdw_clf.feature_importances_), columns=['Feature', 'Importance'])\n",
    "mdw_f_imp.head(15).sort_values(['Importance'], ascending = False)"
   ]
  },
  {
   "cell_type": "code",
   "execution_count": 49,
   "metadata": {
    "collapsed": false
   },
   "outputs": [
    {
     "data": {
      "text/html": [
       "<div>\n",
       "<table border=\"1\" class=\"dataframe\">\n",
       "  <thead>\n",
       "    <tr style=\"text-align: right;\">\n",
       "      <th></th>\n",
       "      <th>predict_no_delay</th>\n",
       "      <th>predict_delay</th>\n",
       "    </tr>\n",
       "  </thead>\n",
       "  <tbody>\n",
       "    <tr>\n",
       "      <th>no_delay</th>\n",
       "      <td>86986</td>\n",
       "      <td>56249</td>\n",
       "    </tr>\n",
       "    <tr>\n",
       "      <th>delay</th>\n",
       "      <td>35584</td>\n",
       "      <td>148452</td>\n",
       "    </tr>\n",
       "  </tbody>\n",
       "</table>\n",
       "</div>"
      ],
      "text/plain": [
       "          predict_no_delay  predict_delay\n",
       "no_delay             86986          56249\n",
       "delay                35584         148452"
      ]
     },
     "execution_count": 49,
     "metadata": {},
     "output_type": "execute_result"
    }
   ],
   "source": [
    "# Confusion Matrix MDW\n",
    "mdw_predictions = mdw_clf.predict(mdw_x_train)\n",
    "mdw_cm = confusion_matrix(mdw_y_train, mdw_predictions)\n",
    "mdw_cm = pd.DataFrame(mdw_cm, columns=['predict_no_delay', 'predict_delay'], index=['no_delay', 'delay'])\n",
    "mdw_cm"
   ]
  },
  {
   "cell_type": "code",
   "execution_count": 50,
   "metadata": {
    "collapsed": false
   },
   "outputs": [
    {
     "name": "stdout",
     "output_type": "stream",
     "text": [
      "             precision    recall  f1-score   support\n",
      "\n",
      "          0       0.71      0.61      0.65    143235\n",
      "          1       0.73      0.81      0.76    184036\n",
      "\n",
      "avg / total       0.72      0.72      0.72    327271\n",
      "\n"
     ]
    }
   ],
   "source": [
    "print classification_report(mdw_y_train, mdw_predictions)"
   ]
  },
  {
   "cell_type": "code",
   "execution_count": 46,
   "metadata": {
    "collapsed": false
   },
   "outputs": [
    {
     "name": "stdout",
     "output_type": "stream",
     "text": [
      "ROC AUC: 0.78\n"
     ]
    },
    {
     "data": {
      "image/png": "[encoded data removed]",
      "text/plain": [
       "<matplotlib.figure.Figure at 0x12798c490>"
      ]
     },
     "metadata": {},
     "output_type": "display_data"
    }
   ],
   "source": [
    "# Determine the false positive and true positive rates\n",
    "fpr, tpr, _ = roc_curve(mdw_y_test, mdw_clf.predict_proba(mdw_x_test)[:,1])\n",
    " \n",
    "# Calculate the AUC\n",
    "roc_auc = auc(fpr, tpr)\n",
    "print 'ROC AUC: %0.2f' % roc_auc\n",
    " \n",
    "# Plot of a ROC curve for a specific class\n",
    "plt.figure()\n",
    "plt.plot(fpr, tpr, label='ROC curve (area = %0.2f)' % roc_auc)\n",
    "plt.plot([0, 1], [0, 1], 'k--')\n",
    "plt.xlim([0.0, 1.0])\n",
    "plt.ylim([0.0, 1.05])\n",
    "plt.xlabel('False Positive Rate')\n",
    "plt.ylabel('True Positive Rate')\n",
    "plt.title('ROC Curve')\n",
    "plt.legend(loc=\"lower right\")\n",
    "plt.show()"
   ]
  },
  {
   "cell_type": "code",
   "execution_count": null,
   "metadata": {
    "collapsed": true
   },
   "outputs": [],
   "source": []
  },
  {
   "cell_type": "code",
   "execution_count": 40,
   "metadata": {
    "collapsed": false
   },
   "outputs": [
    {
     "name": "stderr",
     "output_type": "stream",
     "text": [
      "ERROR:root:Internal Python error in the inspect module.\n",
      "Below is the traceback from this internal error.\n",
      "\n"
     ]
    },
    {
     "name": "stdout",
     "output_type": "stream",
     "text": [
      "Traceback (most recent call last):\n",
      "  File \"/Users/mwitebsky/anaconda2/envs/lesson01/lib/python2.7/site-packages/IPython/core/ultratb.py\", line 1132, in get_records\n",
      "    return _fixed_getinnerframes(etb, number_of_lines_of_context, tb_offset)\n",
      "  File \"/Users/mwitebsky/anaconda2/envs/lesson01/lib/python2.7/site-packages/IPython/core/ultratb.py\", line 313, in wrapped\n",
      "    return f(*args, **kwargs)\n",
      "  File \"/Users/mwitebsky/anaconda2/envs/lesson01/lib/python2.7/site-packages/IPython/core/ultratb.py\", line 358, in _fixed_getinnerframes\n",
      "    records = fix_frame_records_filenames(inspect.getinnerframes(etb, context))\n",
      "  File \"/Users/mwitebsky/anaconda2/envs/lesson01/lib/python2.7/inspect.py\", line 1049, in getinnerframes\n",
      "    framelist.append((tb.tb_frame,) + getframeinfo(tb, context))\n",
      "  File \"/Users/mwitebsky/anaconda2/envs/lesson01/lib/python2.7/inspect.py\", line 1009, in getframeinfo\n",
      "    filename = getsourcefile(frame) or getfile(frame)\n",
      "  File \"/Users/mwitebsky/anaconda2/envs/lesson01/lib/python2.7/inspect.py\", line 454, in getsourcefile\n",
      "    if hasattr(getmodule(object, filename), '__loader__'):\n",
      "  File \"/Users/mwitebsky/anaconda2/envs/lesson01/lib/python2.7/inspect.py\", line 491, in getmodule\n",
      "    if ismodule(module) and hasattr(module, '__file__'):\n",
      "KeyboardInterrupt\n"
     ]
    },
    {
     "ename": "IndexError",
     "evalue": "string index out of range",
     "output_type": "error",
     "traceback": [
      "\u001b[0;31m---------------------------------------------------------------------------\u001b[0m",
      "\u001b[0;31mIndexError\u001b[0m                                Traceback (most recent call last)",
      "\u001b[0;32m/Users/mwitebsky/anaconda2/envs/lesson01/lib/python2.7/site-packages/IPython/core/interactiveshell.pyc\u001b[0m in \u001b[0;36mrun_code\u001b[0;34m(self, code_obj, result)\u001b[0m\n\u001b[1;32m   2896\u001b[0m             \u001b[0;32mif\u001b[0m \u001b[0mresult\u001b[0m \u001b[0;32mis\u001b[0m \u001b[0;32mnot\u001b[0m \u001b[0mNone\u001b[0m\u001b[0;34m:\u001b[0m\u001b[0;34m\u001b[0m\u001b[0m\n\u001b[1;32m   2897\u001b[0m                 \u001b[0mresult\u001b[0m\u001b[0;34m.\u001b[0m\u001b[0merror_in_exec\u001b[0m \u001b[0;34m=\u001b[0m \u001b[0msys\u001b[0m\u001b[0;34m.\u001b[0m\u001b[0mexc_info\u001b[0m\u001b[0;34m(\u001b[0m\u001b[0;34m)\u001b[0m\u001b[0;34m[\u001b[0m\u001b[0;36m1\u001b[0m\u001b[0;34m]\u001b[0m\u001b[0;34m\u001b[0m\u001b[0m\n\u001b[0;32m-> 2898\u001b[0;31m             \u001b[0mself\u001b[0m\u001b[0;34m.\u001b[0m\u001b[0mshowtraceback\u001b[0m\u001b[0;34m(\u001b[0m\u001b[0;34m)\u001b[0m\u001b[0;34m\u001b[0m\u001b[0m\n\u001b[0m\u001b[1;32m   2899\u001b[0m         \u001b[0;32melse\u001b[0m\u001b[0;34m:\u001b[0m\u001b[0;34m\u001b[0m\u001b[0m\n\u001b[1;32m   2900\u001b[0m             \u001b[0moutflag\u001b[0m \u001b[0;34m=\u001b[0m \u001b[0;36m0\u001b[0m\u001b[0;34m\u001b[0m\u001b[0m\n",
      "\u001b[0;32m/Users/mwitebsky/anaconda2/envs/lesson01/lib/python2.7/site-packages/IPython/core/interactiveshell.pyc\u001b[0m in \u001b[0;36mshowtraceback\u001b[0;34m(self, exc_tuple, filename, tb_offset, exception_only)\u001b[0m\n\u001b[1;32m   1822\u001b[0m                     \u001b[0;32mexcept\u001b[0m \u001b[0mException\u001b[0m\u001b[0;34m:\u001b[0m\u001b[0;34m\u001b[0m\u001b[0m\n\u001b[1;32m   1823\u001b[0m                         stb = self.InteractiveTB.structured_traceback(etype,\n\u001b[0;32m-> 1824\u001b[0;31m                                             value, tb, tb_offset=tb_offset)\n\u001b[0m\u001b[1;32m   1825\u001b[0m \u001b[0;34m\u001b[0m\u001b[0m\n\u001b[1;32m   1826\u001b[0m                     \u001b[0mself\u001b[0m\u001b[0;34m.\u001b[0m\u001b[0m_showtraceback\u001b[0m\u001b[0;34m(\u001b[0m\u001b[0metype\u001b[0m\u001b[0;34m,\u001b[0m \u001b[0mvalue\u001b[0m\u001b[0;34m,\u001b[0m \u001b[0mstb\u001b[0m\u001b[0;34m)\u001b[0m\u001b[0;34m\u001b[0m\u001b[0m\n",
      "\u001b[0;32m/Users/mwitebsky/anaconda2/envs/lesson01/lib/python2.7/site-packages/IPython/core/ultratb.pyc\u001b[0m in \u001b[0;36mstructured_traceback\u001b[0;34m(self, etype, value, tb, tb_offset, number_of_lines_of_context)\u001b[0m\n\u001b[1;32m   1404\u001b[0m         \u001b[0mself\u001b[0m\u001b[0;34m.\u001b[0m\u001b[0mtb\u001b[0m \u001b[0;34m=\u001b[0m \u001b[0mtb\u001b[0m\u001b[0;34m\u001b[0m\u001b[0m\n\u001b[1;32m   1405\u001b[0m         return FormattedTB.structured_traceback(\n\u001b[0;32m-> 1406\u001b[0;31m             self, etype, value, tb, tb_offset, number_of_lines_of_context)\n\u001b[0m\u001b[1;32m   1407\u001b[0m \u001b[0;34m\u001b[0m\u001b[0m\n\u001b[1;32m   1408\u001b[0m \u001b[0;34m\u001b[0m\u001b[0m\n",
      "\u001b[0;32m/Users/mwitebsky/anaconda2/envs/lesson01/lib/python2.7/site-packages/IPython/core/ultratb.pyc\u001b[0m in \u001b[0;36mstructured_traceback\u001b[0;34m(self, etype, value, tb, tb_offset, number_of_lines_of_context)\u001b[0m\n\u001b[1;32m   1312\u001b[0m             \u001b[0;31m# Verbose modes need a full traceback\u001b[0m\u001b[0;34m\u001b[0m\u001b[0;34m\u001b[0m\u001b[0m\n\u001b[1;32m   1313\u001b[0m             return VerboseTB.structured_traceback(\n\u001b[0;32m-> 1314\u001b[0;31m                 \u001b[0mself\u001b[0m\u001b[0;34m,\u001b[0m \u001b[0metype\u001b[0m\u001b[0;34m,\u001b[0m \u001b[0mvalue\u001b[0m\u001b[0;34m,\u001b[0m \u001b[0mtb\u001b[0m\u001b[0;34m,\u001b[0m \u001b[0mtb_offset\u001b[0m\u001b[0;34m,\u001b[0m \u001b[0mnumber_of_lines_of_context\u001b[0m\u001b[0;34m\u001b[0m\u001b[0m\n\u001b[0m\u001b[1;32m   1315\u001b[0m             )\n\u001b[1;32m   1316\u001b[0m         \u001b[0;32melse\u001b[0m\u001b[0;34m:\u001b[0m\u001b[0;34m\u001b[0m\u001b[0m\n",
      "\u001b[0;32m/Users/mwitebsky/anaconda2/envs/lesson01/lib/python2.7/site-packages/IPython/core/ultratb.pyc\u001b[0m in \u001b[0;36mstructured_traceback\u001b[0;34m(self, etype, evalue, etb, tb_offset, number_of_lines_of_context)\u001b[0m\n\u001b[1;32m   1196\u001b[0m                 \u001b[0mstructured_traceback_parts\u001b[0m \u001b[0;34m+=\u001b[0m \u001b[0mformatted_exception\u001b[0m\u001b[0;34m\u001b[0m\u001b[0m\n\u001b[1;32m   1197\u001b[0m         \u001b[0;32melse\u001b[0m\u001b[0;34m:\u001b[0m\u001b[0;34m\u001b[0m\u001b[0m\n\u001b[0;32m-> 1198\u001b[0;31m             \u001b[0mstructured_traceback_parts\u001b[0m \u001b[0;34m+=\u001b[0m \u001b[0mformatted_exception\u001b[0m\u001b[0;34m[\u001b[0m\u001b[0;36m0\u001b[0m\u001b[0;34m]\u001b[0m\u001b[0;34m\u001b[0m\u001b[0m\n\u001b[0m\u001b[1;32m   1199\u001b[0m \u001b[0;34m\u001b[0m\u001b[0m\n\u001b[1;32m   1200\u001b[0m         \u001b[0;32mreturn\u001b[0m \u001b[0mstructured_traceback_parts\u001b[0m\u001b[0;34m\u001b[0m\u001b[0m\n",
      "\u001b[0;31mIndexError\u001b[0m: string index out of range"
     ]
    }
   ],
   "source": [
    "#Random Forest Classifier ORD\n",
    "ohr_clf = RandomForestClassifier(n_estimators = 100, min_samples_leaf=50,  n_jobs=-1)\n",
    "ohr_clf.fit(ohr_x_train, ohr_y_train)\n",
    "print 'Train Score: {}'.format(ohr_clf.score(ohr_x_train, ohr_y_train))\n",
    "print 'Test Score: {}'.format(ohr_clf.score(ohr_x_test, ohr_y_test))"
   ]
  },
  {
   "cell_type": "code",
   "execution_count": null,
   "metadata": {
    "collapsed": false
   },
   "outputs": [],
   "source": [
    "# Random Forest Feature importances ORD\n",
    "ohr_f_imp = pd.DataFrame(zip(ohr_x_train.columns,clf.feature_importances_), columns=['Feature', 'Importance'])\n",
    "ohr_f_imp.head(20).sort_values(['Importance'], ascending = False)"
   ]
  },
  {
   "cell_type": "code",
   "execution_count": null,
   "metadata": {
    "collapsed": false
   },
   "outputs": [],
   "source": [
    "# Confusion Matrix ORD\n",
    "ohr_predictions = ohr_clf.predict(ohr_x_train)\n",
    "ohr_cm = confusion_matrix(ohr_y_train, ohr_predictions)\n",
    "ohr_cm = pd.DataFrame(ohr_cm, columns=['no_delay', 'delay'], index= ['predict_no_delay', 'predict_delay'])\n",
    "ohr_cm"
   ]
  },
  {
   "cell_type": "code",
   "execution_count": null,
   "metadata": {
    "collapsed": false
   },
   "outputs": [],
   "source": [
    "# KNN\n",
    "clf = KNeighborsClassifier(n_neighbors=5, n_jobs=-1)\n",
    "clf.fit(x_train, y_train)\n",
    "print 'Train Score: {}'.format(clf.score(x_train, y_train))\n",
    "print 'Test Score: {}'.format(clf.score(x_test, y_test))"
   ]
  },
  {
   "cell_type": "code",
   "execution_count": null,
   "metadata": {
    "collapsed": false
   },
   "outputs": [],
   "source": [
    "# Extra Trees Classifier\n",
    "clf = ExtraTreesClassifier(n_estimators = 100, min_samples_leaf=50,  n_jobs=-1)\n",
    "clf.fit(x_train, y_train)\n",
    "print 'Train Score: {}'.format(clf.score(x_train, y_train))\n",
    "print 'Test Score: {}'.format(clf.score(x_test, y_test))"
   ]
  },
  {
   "cell_type": "code",
   "execution_count": null,
   "metadata": {
    "collapsed": true
   },
   "outputs": [],
   "source": []
  },
  {
   "cell_type": "code",
   "execution_count": null,
   "metadata": {
    "collapsed": true
   },
   "outputs": [],
   "source": []
  },
  {
   "cell_type": "code",
   "execution_count": null,
   "metadata": {
    "collapsed": true
   },
   "outputs": [],
   "source": []
  },
  {
   "cell_type": "code",
   "execution_count": null,
   "metadata": {
    "collapsed": true
   },
   "outputs": [],
   "source": []
  },
  {
   "cell_type": "code",
   "execution_count": null,
   "metadata": {
    "collapsed": false
   },
   "outputs": [],
   "source": [
    "## WIP -- to model likely prior airport\n",
    "prior_group = df[df['YEAR'] == 2016].groupby(['YEAR', 'ORIGIN_AIRPORT_ID', 'UNIQUE_CARRIER', 'FL_NUM']).agg(\n",
    "                                                {'PRIOR_AIRPORT': pd.Series.nunique,\n",
    "                                                'DEST_AIRPORT_ID' : pd.Series.nunique}).reset_index()\n",
    "\n",
    "prior_group['PRIOR_AIRPORT'].value_counts()\n",
    "# prior_group['FL_NUM'] = prior_group['FL_NUM'].astype(str)\n",
    "# prior_group['Route'] = prior_group['UNIQUE_CARRIER'] + prior_group['FL_NUM']\n",
    "\n",
    "# sns.barplot(x='Route', y='PRIOR_AIRPORT', data=prior_group)"
   ]
  },
  {
   "cell_type": "code",
   "execution_count": null,
   "metadata": {
    "collapsed": true
   },
   "outputs": [],
   "source": []
  },
  {
   "cell_type": "code",
   "execution_count": null,
   "metadata": {
    "collapsed": true
   },
   "outputs": [],
   "source": []
  },
  {
   "cell_type": "code",
   "execution_count": null,
   "metadata": {
    "collapsed": true
   },
   "outputs": [],
   "source": []
  },
  {
   "cell_type": "code",
   "execution_count": null,
   "metadata": {
    "collapsed": true
   },
   "outputs": [],
   "source": []
  },
  {
   "cell_type": "code",
   "execution_count": null,
   "metadata": {
    "collapsed": true
   },
   "outputs": [],
   "source": []
  }
 ],
 "metadata": {
  "anaconda-cloud": {},
  "kernelspec": {
   "display_name": "Python [lesson01]",
   "language": "python",
   "name": "Python [lesson01]"
  },
  "language_info": {
   "codemirror_mode": {
    "name": "ipython",
    "version": 2
   },
   "file_extension": ".py",
   "mimetype": "text/x-python",
   "name": "python",
   "nbconvert_exporter": "python",
   "pygments_lexer": "ipython2",
   "version": "2.7.12"
  }
 },
 "nbformat": 4,
 "nbformat_minor": 0
}
