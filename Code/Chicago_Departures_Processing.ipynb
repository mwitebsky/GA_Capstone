{
 "cells": [
  {
   "cell_type": "code",
   "execution_count": 62,
   "metadata": {
    "collapsed": false
   },
   "outputs": [],
   "source": [
    "% matplotlib inline\n",
    "import matplotlib.pyplot as plt\n",
    "import pandas as pd\n",
    "import seaborn as sns\n",
    "import numpy as np\n",
    "from sklearn.cross_validation import train_test_split\n",
    "pd.options.display.max_columns = 50"
   ]
  },
  {
   "cell_type": "code",
   "execution_count": 63,
   "metadata": {
    "collapsed": false
   },
   "outputs": [
    {
     "name": "stdout",
     "output_type": "stream",
     "text": [
      "(2038320, 42)\n"
     ]
    }
   ],
   "source": [
    "df = pd.read_csv('../Assets/Datasets/BTS_flight_data/Processed/chicago_departures.csv')\n",
    "\n",
    "print df.shape"
   ]
  },
  {
   "cell_type": "code",
   "execution_count": 64,
   "metadata": {
    "collapsed": false
   },
   "outputs": [
    {
     "data": {
      "text/plain": [
       "Index([u'YEAR', u'MONTH', u'DAY_OF_MONTH', u'DAY_OF_WEEK', u'FL_DATE',\n",
       "       u'UNIQUE_CARRIER', u'FL_NUM', u'ORIGIN_AIRPORT_ID',\n",
       "       u'ORIGIN_CITY_MARKET_ID', u'DEST_AIRPORT_ID', u'DEST_CITY_MARKET_ID',\n",
       "       u'CRS_DEP_TIME', u'DEP_TIME', u'DEP_DELAY_NEW', u'TAXI_OUT',\n",
       "       u'WHEELS_OFF', u'WHEELS_ON', u'TAXI_IN', u'CRS_ARR_TIME', u'ARR_TIME',\n",
       "       u'ARR_DELAY_NEW', u'CANCELLED', u'CANCELLATION_CODE', u'DIVERTED',\n",
       "       u'CRS_ELAPSED_TIME', u'ACTUAL_ELAPSED_TIME', u'AIR_TIME', u'FLIGHTS',\n",
       "       u'DISTANCE', u'CARRIER_DELAY', u'WEATHER_DELAY', u'NAS_DELAY',\n",
       "       u'SECURITY_DELAY', u'LATE_AIRCRAFT_DELAY', u'CRS_FL_TIME',\n",
       "       u'CRS_FL_DATETIME', u'FL_TIME', u'FL_DATETIME', u'TAIL_NUM', u'WEEK',\n",
       "       u'PRIOR_AIRPORT', u'DELTA_TIME_MIN'],\n",
       "      dtype='object')"
      ]
     },
     "execution_count": 64,
     "metadata": {},
     "output_type": "execute_result"
    }
   ],
   "source": [
    "df.columns"
   ]
  },
  {
   "cell_type": "markdown",
   "metadata": {},
   "source": [
    "## Join Weather Data"
   ]
  },
  {
   "cell_type": "code",
   "execution_count": 50,
   "metadata": {
    "collapsed": false
   },
   "outputs": [],
   "source": [
    "# Import and format weather data\n",
    "weather = pd.read_csv('../Assets/Datasets/Weather/Clean_Weather_Hourly.csv')\n",
    "weather.drop('Unnamed: 0', axis=1, inplace=True)\n",
    "weather = weather[['Airport', 'Date', 'Hour', 'Daypart', 'Temp', 'Visibility', 'Wind Speed',\n",
    "                   'Precip', 'Conditions']]\n",
    "weather['Year'] = weather['Date'].str.split('-').apply(lambda x: x[0])\n",
    "weather['Month'] = weather['Date'].str.split('-').apply(lambda x: x[1])\n",
    "weather['Month'] = weather['Month'].apply(lambda x: x if len(x) == 2 else '0'+ x)\n",
    "weather['Day'] = weather['Date'].str.split('-').apply(lambda x: x[2])\n",
    "weather['Day'] = weather['Day'].apply(lambda x: x if len(x) == 2 else '0'+ x)\n",
    "weather['Date'] = weather['Year'] + '-' + weather['Month'] + '-' + weather['Day']"
   ]
  },
  {
   "cell_type": "code",
   "execution_count": 29,
   "metadata": {
    "collapsed": false
   },
   "outputs": [],
   "source": [
    "# format BTS data to match weather columns for join\n",
    "df['CRS_DEP_HOUR'] = df['CRS_DEP_TIME'] / 100\n",
    "df['CRS_DEP_HOUR'] = df['CRS_DEP_HOUR'].astype(int)\n",
    "df['AIRPORT_CODE'] = np.where(df['ORIGIN_AIRPORT_ID'] == 13930,\n",
    "                              'KORD', 'KMDW')\n"
   ]
  },
  {
   "cell_type": "code",
   "execution_count": null,
   "metadata": {
    "collapsed": true
   },
   "outputs": [],
   "source": [
    "# join weather and BTS\n",
    "df = pd.merge(df, weather, how='left',\n",
    "              left_on=['AIRPORT_CODE', 'FL_DATE', 'CRS_DEP_HOUR'],\n",
    "              right_on=['Airport', 'Date', 'Hour'], )"
   ]
  },
  {
   "cell_type": "markdown",
   "metadata": {},
   "source": [
    "## ISSUE: some dates appear to have not pulled from Wunderground"
   ]
  },
  {
   "cell_type": "code",
   "execution_count": 51,
   "metadata": {
    "collapsed": true
   },
   "outputs": [],
   "source": [
    "# Remove columns from join if it fails\n",
    "# df.drop(['Airport', 'Date', 'Hour', 'Daypart', 'Temp', 'Visibility',\n",
    "#       'Wind Speed', 'Precip', 'Conditions'], inplace=True, axis=1)"
   ]
  },
  {
   "cell_type": "code",
   "execution_count": 70,
   "metadata": {
    "collapsed": false
   },
   "outputs": [],
   "source": [
    "# Select Columns necessary for model\n",
    "data = df[['YEAR', 'WEEK', 'DAY_OF_WEEK', 'UNIQUE_CARRIER', 'TAIL_NUM', 'FL_NUM', 'PRIOR_AIRPORT', \n",
    "           'ORIGIN_AIRPORT_ID', 'DEST_AIRPORT_ID', 'CRS_DEP_TIME', 'DEP_TIME',\n",
    "           'CRS_ARR_TIME', 'ARR_TIME','ARR_DELAY_NEW', ]]"
   ]
  },
  {
   "cell_type": "markdown",
   "metadata": {},
   "source": [
    "## Join Weather Data"
   ]
  },
  {
   "cell_type": "code",
   "execution_count": 65,
   "metadata": {
    "collapsed": false
   },
   "outputs": [],
   "source": [
    "tail_match = pd.read_csv('../Assets/Datasets/FlightTracker_Airplane/FA_Airplane_Info_Clean.csv')\n",
    "tail_match.drop('Unnamed: 0', axis=1, inplace=True)"
   ]
  },
  {
   "cell_type": "code",
   "execution_count": 80,
   "metadata": {
    "collapsed": false
   },
   "outputs": [
    {
     "data": {
      "text/html": [
       "<div>\n",
       "<table border=\"1\" class=\"dataframe\">\n",
       "  <thead>\n",
       "    <tr style=\"text-align: right;\">\n",
       "      <th></th>\n",
       "      <th>N-NUMBER</th>\n",
       "      <th>mfr</th>\n",
       "      <th>Model</th>\n",
       "      <th>mfr_year</th>\n",
       "      <th>seats</th>\n",
       "    </tr>\n",
       "  </thead>\n",
       "  <tbody>\n",
       "  </tbody>\n",
       "</table>\n",
       "</div>"
      ],
      "text/plain": [
       "Empty DataFrame\n",
       "Columns: [N-NUMBER, mfr, Model, mfr_year, seats]\n",
       "Index: []"
      ]
     },
     "execution_count": 80,
     "metadata": {},
     "output_type": "execute_result"
    }
   ],
   "source": []
  },
  {
   "cell_type": "code",
   "execution_count": 69,
   "metadata": {
    "collapsed": false
   },
   "outputs": [
    {
     "data": {
      "text/html": [
       "<div>\n",
       "<table border=\"1\" class=\"dataframe\">\n",
       "  <thead>\n",
       "    <tr style=\"text-align: right;\">\n",
       "      <th></th>\n",
       "      <th>N-NUMBER</th>\n",
       "      <th>mfr</th>\n",
       "      <th>Model</th>\n",
       "      <th>mfr_year</th>\n",
       "      <th>seats</th>\n",
       "    </tr>\n",
       "  </thead>\n",
       "  <tbody>\n",
       "    <tr>\n",
       "      <th>0</th>\n",
       "      <td>N10156</td>\n",
       "      <td>EMBRAER</td>\n",
       "      <td>EMB-145</td>\n",
       "      <td>2004.0</td>\n",
       "      <td>55.0</td>\n",
       "    </tr>\n",
       "    <tr>\n",
       "      <th>1</th>\n",
       "      <td>N102UW</td>\n",
       "      <td>AIRBUS</td>\n",
       "      <td>A320</td>\n",
       "      <td>1998.0</td>\n",
       "      <td>182.0</td>\n",
       "    </tr>\n",
       "    <tr>\n",
       "      <th>2</th>\n",
       "      <td>N103SY</td>\n",
       "      <td>EMBRAER</td>\n",
       "      <td>S A ERJ 170-200 LR</td>\n",
       "      <td>2014.0</td>\n",
       "      <td>88.0</td>\n",
       "    </tr>\n",
       "    <tr>\n",
       "      <th>3</th>\n",
       "      <td>N103US</td>\n",
       "      <td>AIRBUS</td>\n",
       "      <td>A320</td>\n",
       "      <td>1999.0</td>\n",
       "      <td>182.0</td>\n",
       "    </tr>\n",
       "    <tr>\n",
       "      <th>4</th>\n",
       "      <td>N104UA</td>\n",
       "      <td>BOEING</td>\n",
       "      <td>747</td>\n",
       "      <td>1998.0</td>\n",
       "      <td>495.0</td>\n",
       "    </tr>\n",
       "  </tbody>\n",
       "</table>\n",
       "</div>"
      ],
      "text/plain": [
       "  N-NUMBER      mfr               Model  mfr_year  seats\n",
       "0   N10156  EMBRAER             EMB-145    2004.0   55.0\n",
       "1   N102UW   AIRBUS                A320    1998.0  182.0\n",
       "2   N103SY  EMBRAER  S A ERJ 170-200 LR    2014.0   88.0\n",
       "3   N103US   AIRBUS                A320    1999.0  182.0\n",
       "4   N104UA   BOEING                 747    1998.0  495.0"
      ]
     },
     "execution_count": 69,
     "metadata": {},
     "output_type": "execute_result"
    }
   ],
   "source": [
    "tail_match.head()"
   ]
  },
  {
   "cell_type": "code",
   "execution_count": 71,
   "metadata": {
    "collapsed": true
   },
   "outputs": [],
   "source": [
    "# left join data with tail match\n",
    "data = pd.merge(data, tail_match, left_on='TAIL_NUM', right_on='N-NUMBER', how='left')"
   ]
  },
  {
   "cell_type": "code",
   "execution_count": 74,
   "metadata": {
    "collapsed": false
   },
   "outputs": [
    {
     "data": {
      "text/plain": [
       "0.03665126182346246"
      ]
     },
     "execution_count": 74,
     "metadata": {},
     "output_type": "execute_result"
    }
   ],
   "source": [
    "# 3.6% of departures have no tail match\n",
    "# a lot of the matches are because there isn't a year\n",
    "74707/2038320.0"
   ]
  },
  {
   "cell_type": "code",
   "execution_count": 75,
   "metadata": {
    "collapsed": true
   },
   "outputs": [],
   "source": [
    "no_n = data[data['N-NUMBER'].isnull()]"
   ]
  },
  {
   "cell_type": "code",
   "execution_count": 77,
   "metadata": {
    "collapsed": false
   },
   "outputs": [
    {
     "data": {
      "text/plain": [
       "N504AE    2048\n",
       "N528EG    2014\n",
       "NEGMQ     1981\n",
       "N620AE    1894\n",
       "N15574    1818\n",
       "N512AE    1751\n",
       "N621AE    1713\n",
       "N14558    1523\n",
       "N15555    1468\n",
       "N18557    1444\n",
       "N679SA    1337\n",
       "N851AE    1321\n",
       "N915SW    1218\n",
       "N918SW    1168\n",
       "N917SW    1132\n",
       "N8303R     978\n",
       "N466UA     926\n",
       "N928WN     867\n",
       "N299WN     855\n",
       "N298WN     851\n",
       "N927WN     848\n",
       "N9405T     802\n",
       "N767SW     799\n",
       "N926WN     795\n",
       "N986CA     788\n",
       "N271LV     786\n",
       "N8606C     756\n",
       "N417SW     756\n",
       "N3LCAA     732\n",
       "N3LKAA     729\n",
       "          ... \n",
       "N8APAA       7\n",
       "N8ANAA       7\n",
       "N850DN       6\n",
       "N879AA       6\n",
       "N835AW       6\n",
       "N852AS       5\n",
       "N889AA       5\n",
       "N826AW       5\n",
       "N834AW       4\n",
       "N3NRAA       3\n",
       "N846AS       3\n",
       "N907EV       3\n",
       "N8ASAA       3\n",
       "N8ATAA       3\n",
       "N935EV       2\n",
       "N713AE       2\n",
       "N896AA       2\n",
       "N867AA       2\n",
       "N7LNAA       2\n",
       "N887AA       2\n",
       "N883AA       2\n",
       "N871AA       2\n",
       "N872AA       1\n",
       "N7LMAA       1\n",
       "N880AA       1\n",
       "N3NPAA       1\n",
       "N934EV       1\n",
       "N251AK       1\n",
       "N906EV       1\n",
       "N897AA       1\n",
       "Name: TAIL_NUM, dtype: int64"
      ]
     },
     "execution_count": 77,
     "metadata": {},
     "output_type": "execute_result"
    }
   ],
   "source": [
    "no_n['TAIL_NUM'].value_counts()"
   ]
  },
  {
   "cell_type": "code",
   "execution_count": 78,
   "metadata": {
    "collapsed": false
   },
   "outputs": [
    {
     "data": {
      "text/plain": [
       "255"
      ]
     },
     "execution_count": 78,
     "metadata": {},
     "output_type": "execute_result"
    }
   ],
   "source": [
    "no_n['TAIL_NUM'].nunique()"
   ]
  },
  {
   "cell_type": "code",
   "execution_count": null,
   "metadata": {
    "collapsed": true
   },
   "outputs": [],
   "source": []
  },
  {
   "cell_type": "markdown",
   "metadata": {},
   "source": [
    "## Prepare Data"
   ]
  },
  {
   "cell_type": "code",
   "execution_count": null,
   "metadata": {
    "collapsed": true
   },
   "outputs": [],
   "source": []
  },
  {
   "cell_type": "code",
   "execution_count": null,
   "metadata": {
    "collapsed": true
   },
   "outputs": [],
   "source": []
  },
  {
   "cell_type": "code",
   "execution_count": null,
   "metadata": {
    "collapsed": true
   },
   "outputs": [],
   "source": [
    "x_train, y_train, x_test, y_test = train_test_split(df, test_size=.35, )"
   ]
  },
  {
   "cell_type": "code",
   "execution_count": null,
   "metadata": {
    "collapsed": true
   },
   "outputs": [],
   "source": [
    "train_test_split?"
   ]
  },
  {
   "cell_type": "code",
   "execution_count": null,
   "metadata": {
    "collapsed": false
   },
   "outputs": [],
   "source": [
    "df.dtypes"
   ]
  },
  {
   "cell_type": "code",
   "execution_count": 89,
   "metadata": {
    "collapsed": false
   },
   "outputs": [],
   "source": [
    "from datetime import date, datetime, timedelta\n",
    "def date_range(start, end):\n",
    "    dates = []\n",
    "    curr = start\n",
    "    while curr <= end:\n",
    "        dates.append(curr)\n",
    "        curr += timedelta(days=1)\n",
    "    return dates\n",
    "\n",
    "lst = []\n",
    "for date in date_range(date(2011, 1, 1), date(2015, 1 ,26)):\n",
    "    lst.append('{}-{}-{}'.format(date.year, date.month, date.day))"
   ]
  },
  {
   "cell_type": "code",
   "execution_count": 100,
   "metadata": {
    "collapsed": false
   },
   "outputs": [],
   "source": [
    "lst.columns = ['Date']"
   ]
  },
  {
   "cell_type": "code",
   "execution_count": 102,
   "metadata": {
    "collapsed": false
   },
   "outputs": [],
   "source": [
    "\n",
    "lst['Year'] = lst['Date'].str.split('-').apply(lambda x: x[0])\n",
    "lst['Month'] = lst['Date'].str.split('-').apply(lambda x: x[1])\n",
    "lst['Month'] = lst['Month'].apply(lambda x: x if len(x) == 2 else '0'+ x)\n",
    "lst['Day'] = lst['Date'].str.split('-').apply(lambda x: x[2])\n",
    "lst['Day'] = lst['Day'].apply(lambda x: x if len(x) == 2 else '0'+ x)\n",
    "lst['Date'] = lst['Year'] + '-' + lst['Month'] + '-' + lst['Day']"
   ]
  },
  {
   "cell_type": "code",
   "execution_count": 103,
   "metadata": {
    "collapsed": false
   },
   "outputs": [
    {
     "data": {
      "text/html": [
       "<div>\n",
       "<table border=\"1\" class=\"dataframe\">\n",
       "  <thead>\n",
       "    <tr style=\"text-align: right;\">\n",
       "      <th></th>\n",
       "      <th>Date</th>\n",
       "      <th>Year</th>\n",
       "      <th>Month</th>\n",
       "      <th>Day</th>\n",
       "    </tr>\n",
       "  </thead>\n",
       "  <tbody>\n",
       "    <tr>\n",
       "      <th>0</th>\n",
       "      <td>2011-01-01</td>\n",
       "      <td>2011</td>\n",
       "      <td>01</td>\n",
       "      <td>01</td>\n",
       "    </tr>\n",
       "    <tr>\n",
       "      <th>1</th>\n",
       "      <td>2011-01-02</td>\n",
       "      <td>2011</td>\n",
       "      <td>01</td>\n",
       "      <td>02</td>\n",
       "    </tr>\n",
       "    <tr>\n",
       "      <th>2</th>\n",
       "      <td>2011-01-03</td>\n",
       "      <td>2011</td>\n",
       "      <td>01</td>\n",
       "      <td>03</td>\n",
       "    </tr>\n",
       "    <tr>\n",
       "      <th>3</th>\n",
       "      <td>2011-01-04</td>\n",
       "      <td>2011</td>\n",
       "      <td>01</td>\n",
       "      <td>04</td>\n",
       "    </tr>\n",
       "    <tr>\n",
       "      <th>4</th>\n",
       "      <td>2011-01-05</td>\n",
       "      <td>2011</td>\n",
       "      <td>01</td>\n",
       "      <td>05</td>\n",
       "    </tr>\n",
       "    <tr>\n",
       "      <th>5</th>\n",
       "      <td>2011-01-06</td>\n",
       "      <td>2011</td>\n",
       "      <td>01</td>\n",
       "      <td>06</td>\n",
       "    </tr>\n",
       "    <tr>\n",
       "      <th>6</th>\n",
       "      <td>2011-01-07</td>\n",
       "      <td>2011</td>\n",
       "      <td>01</td>\n",
       "      <td>07</td>\n",
       "    </tr>\n",
       "    <tr>\n",
       "      <th>7</th>\n",
       "      <td>2011-01-08</td>\n",
       "      <td>2011</td>\n",
       "      <td>01</td>\n",
       "      <td>08</td>\n",
       "    </tr>\n",
       "    <tr>\n",
       "      <th>8</th>\n",
       "      <td>2011-01-09</td>\n",
       "      <td>2011</td>\n",
       "      <td>01</td>\n",
       "      <td>09</td>\n",
       "    </tr>\n",
       "    <tr>\n",
       "      <th>9</th>\n",
       "      <td>2011-01-10</td>\n",
       "      <td>2011</td>\n",
       "      <td>01</td>\n",
       "      <td>10</td>\n",
       "    </tr>\n",
       "    <tr>\n",
       "      <th>10</th>\n",
       "      <td>2011-01-11</td>\n",
       "      <td>2011</td>\n",
       "      <td>01</td>\n",
       "      <td>11</td>\n",
       "    </tr>\n",
       "    <tr>\n",
       "      <th>11</th>\n",
       "      <td>2011-01-12</td>\n",
       "      <td>2011</td>\n",
       "      <td>01</td>\n",
       "      <td>12</td>\n",
       "    </tr>\n",
       "    <tr>\n",
       "      <th>12</th>\n",
       "      <td>2011-01-13</td>\n",
       "      <td>2011</td>\n",
       "      <td>01</td>\n",
       "      <td>13</td>\n",
       "    </tr>\n",
       "    <tr>\n",
       "      <th>13</th>\n",
       "      <td>2011-01-14</td>\n",
       "      <td>2011</td>\n",
       "      <td>01</td>\n",
       "      <td>14</td>\n",
       "    </tr>\n",
       "    <tr>\n",
       "      <th>14</th>\n",
       "      <td>2011-01-15</td>\n",
       "      <td>2011</td>\n",
       "      <td>01</td>\n",
       "      <td>15</td>\n",
       "    </tr>\n",
       "    <tr>\n",
       "      <th>15</th>\n",
       "      <td>2011-01-16</td>\n",
       "      <td>2011</td>\n",
       "      <td>01</td>\n",
       "      <td>16</td>\n",
       "    </tr>\n",
       "    <tr>\n",
       "      <th>16</th>\n",
       "      <td>2011-01-17</td>\n",
       "      <td>2011</td>\n",
       "      <td>01</td>\n",
       "      <td>17</td>\n",
       "    </tr>\n",
       "    <tr>\n",
       "      <th>17</th>\n",
       "      <td>2011-01-18</td>\n",
       "      <td>2011</td>\n",
       "      <td>01</td>\n",
       "      <td>18</td>\n",
       "    </tr>\n",
       "    <tr>\n",
       "      <th>18</th>\n",
       "      <td>2011-01-19</td>\n",
       "      <td>2011</td>\n",
       "      <td>01</td>\n",
       "      <td>19</td>\n",
       "    </tr>\n",
       "    <tr>\n",
       "      <th>19</th>\n",
       "      <td>2011-01-20</td>\n",
       "      <td>2011</td>\n",
       "      <td>01</td>\n",
       "      <td>20</td>\n",
       "    </tr>\n",
       "    <tr>\n",
       "      <th>20</th>\n",
       "      <td>2011-01-21</td>\n",
       "      <td>2011</td>\n",
       "      <td>01</td>\n",
       "      <td>21</td>\n",
       "    </tr>\n",
       "    <tr>\n",
       "      <th>21</th>\n",
       "      <td>2011-01-22</td>\n",
       "      <td>2011</td>\n",
       "      <td>01</td>\n",
       "      <td>22</td>\n",
       "    </tr>\n",
       "    <tr>\n",
       "      <th>22</th>\n",
       "      <td>2011-01-23</td>\n",
       "      <td>2011</td>\n",
       "      <td>01</td>\n",
       "      <td>23</td>\n",
       "    </tr>\n",
       "    <tr>\n",
       "      <th>23</th>\n",
       "      <td>2011-01-24</td>\n",
       "      <td>2011</td>\n",
       "      <td>01</td>\n",
       "      <td>24</td>\n",
       "    </tr>\n",
       "    <tr>\n",
       "      <th>24</th>\n",
       "      <td>2011-01-25</td>\n",
       "      <td>2011</td>\n",
       "      <td>01</td>\n",
       "      <td>25</td>\n",
       "    </tr>\n",
       "    <tr>\n",
       "      <th>25</th>\n",
       "      <td>2011-01-26</td>\n",
       "      <td>2011</td>\n",
       "      <td>01</td>\n",
       "      <td>26</td>\n",
       "    </tr>\n",
       "    <tr>\n",
       "      <th>26</th>\n",
       "      <td>2011-01-27</td>\n",
       "      <td>2011</td>\n",
       "      <td>01</td>\n",
       "      <td>27</td>\n",
       "    </tr>\n",
       "    <tr>\n",
       "      <th>27</th>\n",
       "      <td>2011-01-28</td>\n",
       "      <td>2011</td>\n",
       "      <td>01</td>\n",
       "      <td>28</td>\n",
       "    </tr>\n",
       "    <tr>\n",
       "      <th>28</th>\n",
       "      <td>2011-01-29</td>\n",
       "      <td>2011</td>\n",
       "      <td>01</td>\n",
       "      <td>29</td>\n",
       "    </tr>\n",
       "    <tr>\n",
       "      <th>29</th>\n",
       "      <td>2011-01-30</td>\n",
       "      <td>2011</td>\n",
       "      <td>01</td>\n",
       "      <td>30</td>\n",
       "    </tr>\n",
       "    <tr>\n",
       "      <th>...</th>\n",
       "      <td>...</td>\n",
       "      <td>...</td>\n",
       "      <td>...</td>\n",
       "      <td>...</td>\n",
       "    </tr>\n",
       "    <tr>\n",
       "      <th>1457</th>\n",
       "      <td>2014-12-28</td>\n",
       "      <td>2014</td>\n",
       "      <td>12</td>\n",
       "      <td>28</td>\n",
       "    </tr>\n",
       "    <tr>\n",
       "      <th>1458</th>\n",
       "      <td>2014-12-29</td>\n",
       "      <td>2014</td>\n",
       "      <td>12</td>\n",
       "      <td>29</td>\n",
       "    </tr>\n",
       "    <tr>\n",
       "      <th>1459</th>\n",
       "      <td>2014-12-30</td>\n",
       "      <td>2014</td>\n",
       "      <td>12</td>\n",
       "      <td>30</td>\n",
       "    </tr>\n",
       "    <tr>\n",
       "      <th>1460</th>\n",
       "      <td>2014-12-31</td>\n",
       "      <td>2014</td>\n",
       "      <td>12</td>\n",
       "      <td>31</td>\n",
       "    </tr>\n",
       "    <tr>\n",
       "      <th>1461</th>\n",
       "      <td>2015-01-01</td>\n",
       "      <td>2015</td>\n",
       "      <td>01</td>\n",
       "      <td>01</td>\n",
       "    </tr>\n",
       "    <tr>\n",
       "      <th>1462</th>\n",
       "      <td>2015-01-02</td>\n",
       "      <td>2015</td>\n",
       "      <td>01</td>\n",
       "      <td>02</td>\n",
       "    </tr>\n",
       "    <tr>\n",
       "      <th>1463</th>\n",
       "      <td>2015-01-03</td>\n",
       "      <td>2015</td>\n",
       "      <td>01</td>\n",
       "      <td>03</td>\n",
       "    </tr>\n",
       "    <tr>\n",
       "      <th>1464</th>\n",
       "      <td>2015-01-04</td>\n",
       "      <td>2015</td>\n",
       "      <td>01</td>\n",
       "      <td>04</td>\n",
       "    </tr>\n",
       "    <tr>\n",
       "      <th>1465</th>\n",
       "      <td>2015-01-05</td>\n",
       "      <td>2015</td>\n",
       "      <td>01</td>\n",
       "      <td>05</td>\n",
       "    </tr>\n",
       "    <tr>\n",
       "      <th>1466</th>\n",
       "      <td>2015-01-06</td>\n",
       "      <td>2015</td>\n",
       "      <td>01</td>\n",
       "      <td>06</td>\n",
       "    </tr>\n",
       "    <tr>\n",
       "      <th>1467</th>\n",
       "      <td>2015-01-07</td>\n",
       "      <td>2015</td>\n",
       "      <td>01</td>\n",
       "      <td>07</td>\n",
       "    </tr>\n",
       "    <tr>\n",
       "      <th>1468</th>\n",
       "      <td>2015-01-08</td>\n",
       "      <td>2015</td>\n",
       "      <td>01</td>\n",
       "      <td>08</td>\n",
       "    </tr>\n",
       "    <tr>\n",
       "      <th>1469</th>\n",
       "      <td>2015-01-09</td>\n",
       "      <td>2015</td>\n",
       "      <td>01</td>\n",
       "      <td>09</td>\n",
       "    </tr>\n",
       "    <tr>\n",
       "      <th>1470</th>\n",
       "      <td>2015-01-10</td>\n",
       "      <td>2015</td>\n",
       "      <td>01</td>\n",
       "      <td>10</td>\n",
       "    </tr>\n",
       "    <tr>\n",
       "      <th>1471</th>\n",
       "      <td>2015-01-11</td>\n",
       "      <td>2015</td>\n",
       "      <td>01</td>\n",
       "      <td>11</td>\n",
       "    </tr>\n",
       "    <tr>\n",
       "      <th>1472</th>\n",
       "      <td>2015-01-12</td>\n",
       "      <td>2015</td>\n",
       "      <td>01</td>\n",
       "      <td>12</td>\n",
       "    </tr>\n",
       "    <tr>\n",
       "      <th>1473</th>\n",
       "      <td>2015-01-13</td>\n",
       "      <td>2015</td>\n",
       "      <td>01</td>\n",
       "      <td>13</td>\n",
       "    </tr>\n",
       "    <tr>\n",
       "      <th>1474</th>\n",
       "      <td>2015-01-14</td>\n",
       "      <td>2015</td>\n",
       "      <td>01</td>\n",
       "      <td>14</td>\n",
       "    </tr>\n",
       "    <tr>\n",
       "      <th>1475</th>\n",
       "      <td>2015-01-15</td>\n",
       "      <td>2015</td>\n",
       "      <td>01</td>\n",
       "      <td>15</td>\n",
       "    </tr>\n",
       "    <tr>\n",
       "      <th>1476</th>\n",
       "      <td>2015-01-16</td>\n",
       "      <td>2015</td>\n",
       "      <td>01</td>\n",
       "      <td>16</td>\n",
       "    </tr>\n",
       "    <tr>\n",
       "      <th>1477</th>\n",
       "      <td>2015-01-17</td>\n",
       "      <td>2015</td>\n",
       "      <td>01</td>\n",
       "      <td>17</td>\n",
       "    </tr>\n",
       "    <tr>\n",
       "      <th>1478</th>\n",
       "      <td>2015-01-18</td>\n",
       "      <td>2015</td>\n",
       "      <td>01</td>\n",
       "      <td>18</td>\n",
       "    </tr>\n",
       "    <tr>\n",
       "      <th>1479</th>\n",
       "      <td>2015-01-19</td>\n",
       "      <td>2015</td>\n",
       "      <td>01</td>\n",
       "      <td>19</td>\n",
       "    </tr>\n",
       "    <tr>\n",
       "      <th>1480</th>\n",
       "      <td>2015-01-20</td>\n",
       "      <td>2015</td>\n",
       "      <td>01</td>\n",
       "      <td>20</td>\n",
       "    </tr>\n",
       "    <tr>\n",
       "      <th>1481</th>\n",
       "      <td>2015-01-21</td>\n",
       "      <td>2015</td>\n",
       "      <td>01</td>\n",
       "      <td>21</td>\n",
       "    </tr>\n",
       "    <tr>\n",
       "      <th>1482</th>\n",
       "      <td>2015-01-22</td>\n",
       "      <td>2015</td>\n",
       "      <td>01</td>\n",
       "      <td>22</td>\n",
       "    </tr>\n",
       "    <tr>\n",
       "      <th>1483</th>\n",
       "      <td>2015-01-23</td>\n",
       "      <td>2015</td>\n",
       "      <td>01</td>\n",
       "      <td>23</td>\n",
       "    </tr>\n",
       "    <tr>\n",
       "      <th>1484</th>\n",
       "      <td>2015-01-24</td>\n",
       "      <td>2015</td>\n",
       "      <td>01</td>\n",
       "      <td>24</td>\n",
       "    </tr>\n",
       "    <tr>\n",
       "      <th>1485</th>\n",
       "      <td>2015-01-25</td>\n",
       "      <td>2015</td>\n",
       "      <td>01</td>\n",
       "      <td>25</td>\n",
       "    </tr>\n",
       "    <tr>\n",
       "      <th>1486</th>\n",
       "      <td>2015-01-26</td>\n",
       "      <td>2015</td>\n",
       "      <td>01</td>\n",
       "      <td>26</td>\n",
       "    </tr>\n",
       "  </tbody>\n",
       "</table>\n",
       "<p>1487 rows × 4 columns</p>\n",
       "</div>"
      ],
      "text/plain": [
       "            Date  Year Month Day\n",
       "0     2011-01-01  2011    01  01\n",
       "1     2011-01-02  2011    01  02\n",
       "2     2011-01-03  2011    01  03\n",
       "3     2011-01-04  2011    01  04\n",
       "4     2011-01-05  2011    01  05\n",
       "5     2011-01-06  2011    01  06\n",
       "6     2011-01-07  2011    01  07\n",
       "7     2011-01-08  2011    01  08\n",
       "8     2011-01-09  2011    01  09\n",
       "9     2011-01-10  2011    01  10\n",
       "10    2011-01-11  2011    01  11\n",
       "11    2011-01-12  2011    01  12\n",
       "12    2011-01-13  2011    01  13\n",
       "13    2011-01-14  2011    01  14\n",
       "14    2011-01-15  2011    01  15\n",
       "15    2011-01-16  2011    01  16\n",
       "16    2011-01-17  2011    01  17\n",
       "17    2011-01-18  2011    01  18\n",
       "18    2011-01-19  2011    01  19\n",
       "19    2011-01-20  2011    01  20\n",
       "20    2011-01-21  2011    01  21\n",
       "21    2011-01-22  2011    01  22\n",
       "22    2011-01-23  2011    01  23\n",
       "23    2011-01-24  2011    01  24\n",
       "24    2011-01-25  2011    01  25\n",
       "25    2011-01-26  2011    01  26\n",
       "26    2011-01-27  2011    01  27\n",
       "27    2011-01-28  2011    01  28\n",
       "28    2011-01-29  2011    01  29\n",
       "29    2011-01-30  2011    01  30\n",
       "...          ...   ...   ...  ..\n",
       "1457  2014-12-28  2014    12  28\n",
       "1458  2014-12-29  2014    12  29\n",
       "1459  2014-12-30  2014    12  30\n",
       "1460  2014-12-31  2014    12  31\n",
       "1461  2015-01-01  2015    01  01\n",
       "1462  2015-01-02  2015    01  02\n",
       "1463  2015-01-03  2015    01  03\n",
       "1464  2015-01-04  2015    01  04\n",
       "1465  2015-01-05  2015    01  05\n",
       "1466  2015-01-06  2015    01  06\n",
       "1467  2015-01-07  2015    01  07\n",
       "1468  2015-01-08  2015    01  08\n",
       "1469  2015-01-09  2015    01  09\n",
       "1470  2015-01-10  2015    01  10\n",
       "1471  2015-01-11  2015    01  11\n",
       "1472  2015-01-12  2015    01  12\n",
       "1473  2015-01-13  2015    01  13\n",
       "1474  2015-01-14  2015    01  14\n",
       "1475  2015-01-15  2015    01  15\n",
       "1476  2015-01-16  2015    01  16\n",
       "1477  2015-01-17  2015    01  17\n",
       "1478  2015-01-18  2015    01  18\n",
       "1479  2015-01-19  2015    01  19\n",
       "1480  2015-01-20  2015    01  20\n",
       "1481  2015-01-21  2015    01  21\n",
       "1482  2015-01-22  2015    01  22\n",
       "1483  2015-01-23  2015    01  23\n",
       "1484  2015-01-24  2015    01  24\n",
       "1485  2015-01-25  2015    01  25\n",
       "1486  2015-01-26  2015    01  26\n",
       "\n",
       "[1487 rows x 4 columns]"
      ]
     },
     "execution_count": 103,
     "metadata": {},
     "output_type": "execute_result"
    }
   ],
   "source": [
    "lst"
   ]
  },
  {
   "cell_type": "code",
   "execution_count": 115,
   "metadata": {
    "collapsed": true
   },
   "outputs": [],
   "source": [
    "columns = ['Time (CST)', 'Temp', 'Dew Point', 'Humidity', \n",
    "           'Pressure', 'Visibility', 'Wind Dir', 'Wind Speed', 'Gust Speed', \n",
    "           'Precip', 'Events', 'Conditions', 'Airport', 'Date']"
   ]
  },
  {
   "cell_type": "code",
   "execution_count": 138,
   "metadata": {
    "collapsed": false
   },
   "outputs": [],
   "source": [
    "weather = pd.read_csv('../Assets/Datasets/Weather/Weather_Hourly_20161251127.csv')\n"
   ]
  },
  {
   "cell_type": "code",
   "execution_count": 139,
   "metadata": {
    "collapsed": false
   },
   "outputs": [],
   "source": [
    "weather.columns = columns"
   ]
  },
  {
   "cell_type": "code",
   "execution_count": 140,
   "metadata": {
    "collapsed": true
   },
   "outputs": [],
   "source": [
    "weather2 = pd.read_csv('../Assets/Datasets/Weather/Weather_Hourly_20161251227.csv')\n"
   ]
  },
  {
   "cell_type": "code",
   "execution_count": 141,
   "metadata": {
    "collapsed": false
   },
   "outputs": [],
   "source": [
    "weather2.columns = columns"
   ]
  },
  {
   "cell_type": "code",
   "execution_count": 142,
   "metadata": {
    "collapsed": true
   },
   "outputs": [],
   "source": [
    "weather_combined = pd.concat([weather, weather2])"
   ]
  },
  {
   "cell_type": "code",
   "execution_count": 143,
   "metadata": {
    "collapsed": false
   },
   "outputs": [],
   "source": [
    "weather_combined.to_csv('../Assets/Datasets/Weather/Weather_Hourly_2016125129', header=False, index=False)"
   ]
  },
  {
   "cell_type": "code",
   "execution_count": null,
   "metadata": {
    "collapsed": true
   },
   "outputs": [],
   "source": []
  }
 ],
 "metadata": {
  "anaconda-cloud": {},
  "kernelspec": {
   "display_name": "Python [lesson01]",
   "language": "python",
   "name": "Python [lesson01]"
  },
  "language_info": {
   "codemirror_mode": {
    "name": "ipython",
    "version": 2
   },
   "file_extension": ".py",
   "mimetype": "text/x-python",
   "name": "python",
   "nbconvert_exporter": "python",
   "pygments_lexer": "ipython2",
   "version": "2.7.12"
  }
 },
 "nbformat": 4,
 "nbformat_minor": 0
}
