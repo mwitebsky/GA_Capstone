{
 "cells": [
  {
   "cell_type": "code",
   "execution_count": 1,
   "metadata": {
    "collapsed": false
   },
   "outputs": [],
   "source": [
    "import pandas as pd\n",
    "import numpy as np\n",
    "from datetime import date, datetime, timedelta\n",
    "from time import sleep\n",
    "import html5lib\n",
    "import string\n",
    "import os"
   ]
  },
  {
   "cell_type": "markdown",
   "metadata": {},
   "source": [
    "## Clean Hourly Weather Data"
   ]
  },
  {
   "cell_type": "code",
   "execution_count": 2,
   "metadata": {
    "collapsed": true
   },
   "outputs": [],
   "source": [
    "columns = ['Time (CST)', 'Temp', 'Dew Point', 'Humidity', \n",
    "           'Pressure', 'Visibility', 'Wind Dir', 'Wind Speed', 'Gust Speed', \n",
    "           'Precip', 'Events', 'Conditions', 'Airport', 'Date']"
   ]
  },
  {
   "cell_type": "code",
   "execution_count": null,
   "metadata": {
    "collapsed": false
   },
   "outputs": [],
   "source": [
    "df = pd.read_csv('../Assets/Datasets/Weather/Weather_Hourly_2016125129.csv', names=columns)"
   ]
  },
  {
   "cell_type": "code",
   "execution_count": 5,
   "metadata": {
    "collapsed": false
   },
   "outputs": [],
   "source": [
    "df = pd.read_csv('../Assets/Datasets/Weather/Weather_Hourly_DEN201612101537.csv', names=columns)\n",
    "df_2 = pd.read_csv('../Assets/Datasets/Weather/Weather_Hourly_DEN201612101738.csv', names=columns)"
   ]
  },
  {
   "cell_type": "code",
   "execution_count": 12,
   "metadata": {
    "collapsed": true
   },
   "outputs": [],
   "source": [
    "# remove windchill and gust speed. too many null values\n",
    "df = df.drop(['Gust Speed'], axis=1)"
   ]
  },
  {
   "cell_type": "code",
   "execution_count": 13,
   "metadata": {
    "collapsed": false
   },
   "outputs": [],
   "source": [
    "# Format time to match BTS time (24hr int)\n",
    "# add hours column\n",
    "def get_hour(x):\n",
    "    hour = str(x[0])\n",
    "    signal = x[1].split(' ')[1]\n",
    "    if signal == 'AM' and hour == '12':\n",
    "        hour = '00'\n",
    "    if signal == 'PM' and hour != '12':\n",
    "        hour = str(int(hour) + 12)\n",
    "    return hour\n",
    "\n",
    "df['Hour'] = df['Time (CST)'].str.split(':').apply(lambda x: get_hour(x))\n",
    "df['DateTime'] = df['Date'] + ' ' + df['Hour'] + ':00'\n",
    "df['DateTime'] = pd.to_datetime(df['DateTime'], infer_datetime_format=True)\n",
    "df.drop('Time (CST)', axis=1, inplace=True)"
   ]
  },
  {
   "cell_type": "code",
   "execution_count": 14,
   "metadata": {
    "collapsed": true
   },
   "outputs": [],
   "source": [
    "# Drop duplicate rows for airport, date, hour\n",
    "df.drop_duplicates(subset=['Airport', 'DateTime'], inplace=True)"
   ]
  },
  {
   "cell_type": "code",
   "execution_count": 15,
   "metadata": {
    "collapsed": false
   },
   "outputs": [],
   "source": [
    "# remove non-ascii characters\n",
    "non_ascii_columns = ['Temp', 'Dew Point', 'Humidity', 'Pressure', 'Visibility', 'Wind Dir',\n",
    "                     'Wind Speed', 'Precip', 'Events', 'Conditions', 'Airport']\n",
    "printable = set(string.printable)\n",
    "def clean_cell(cell):\n",
    "    cell = str(cell)\n",
    "    return filter(lambda x: x in printable, cell)\n",
    "    \n",
    "for column in non_ascii_columns:\n",
    "    df[column] = df[column].apply(lambda x: clean_cell(x))"
   ]
  },
  {
   "cell_type": "code",
   "execution_count": 16,
   "metadata": {
    "collapsed": true
   },
   "outputs": [],
   "source": [
    "# null values for precip and events become 0 and No_Event\n",
    "df['Precip'] = df['Precip'].apply(lambda x: 0 if x in ['nan', 'T'] else x)\n",
    "df['Events'] = df['Events'].apply(lambda x: 'No_Event' if x == 'nan' else x)"
   ]
  },
  {
   "cell_type": "code",
   "execution_count": 17,
   "metadata": {
    "collapsed": false
   },
   "outputs": [],
   "source": [
    "# remove non-numeric characters\n",
    "num_columns = ['Temp', 'Dew Point', 'Humidity', 'Pressure', 'Visibility', 'Wind Speed',\n",
    "              'Precip']\n",
    "\n",
    "def num_only(x):\n",
    "    x = str(x)\n",
    "    new_x = ''\n",
    "    for char in x:\n",
    "        if char.isdigit() or char == '.':\n",
    "            new_x += char\n",
    "    return new_x\n",
    "\n",
    "for column in num_columns:\n",
    "    df[column] = df[column].apply(lambda x: num_only(x))"
   ]
  },
  {
   "cell_type": "code",
   "execution_count": 18,
   "metadata": {
    "collapsed": true
   },
   "outputs": [],
   "source": [
    "# Change types\n",
    "for column in num_columns:\n",
    "    df[column] = df[column].apply(pd.to_numeric)"
   ]
  },
  {
   "cell_type": "code",
   "execution_count": 19,
   "metadata": {
    "collapsed": false
   },
   "outputs": [],
   "source": [
    "# Add 4-hour dayparts\n",
    "def daypart(x):\n",
    "    x = int(x)\n",
    "    if x < 4:\n",
    "        return 'red_eye'\n",
    "    elif x < 8:\n",
    "        return 'early_morning'\n",
    "    elif x < 12:\n",
    "        return 'morning'\n",
    "    elif x < 16:\n",
    "        return 'afternoon'\n",
    "    elif x < 20:\n",
    "        return 'evening'\n",
    "    else:\n",
    "        return 'night'\n",
    "            \n",
    "df['Daypart'] = df['Hour'].apply(lambda x: daypart(x))"
   ]
  },
  {
   "cell_type": "code",
   "execution_count": 20,
   "metadata": {
    "collapsed": false
   },
   "outputs": [],
   "source": [
    "# When Wind Dir is Calm, Wind speed is also calm\n",
    "# Replace wind speed as 0 if wind dir is calm\n",
    "df['Wind Speed'] = np.where(df['Wind Dir'] == 'Calm', \n",
    "                            0, df['Wind Speed'])"
   ]
  },
  {
   "cell_type": "code",
   "execution_count": 21,
   "metadata": {
    "collapsed": false
   },
   "outputs": [
    {
     "data": {
      "text/plain": [
       "Temp          12\n",
       "Dew Point     14\n",
       "Humidity      16\n",
       "Pressure       5\n",
       "Visibility     8\n",
       "Wind Dir       0\n",
       "Wind Speed    27\n",
       "Precip         1\n",
       "Events         0\n",
       "Conditions     0\n",
       "Airport        0\n",
       "Date           0\n",
       "Hour           0\n",
       "DateTime       0\n",
       "Daypart        0\n",
       "dtype: int64"
      ]
     },
     "execution_count": 21,
     "metadata": {},
     "output_type": "execute_result"
    }
   ],
   "source": [
    "df.isnull().sum()"
   ]
  },
  {
   "cell_type": "code",
   "execution_count": 22,
   "metadata": {
    "collapsed": false
   },
   "outputs": [
    {
     "data": {
      "text/plain": [
       "(48785, 15)"
      ]
     },
     "execution_count": 22,
     "metadata": {},
     "output_type": "execute_result"
    }
   ],
   "source": [
    "df.dropna(inplace=True)\n",
    "df.shape"
   ]
  },
  {
   "cell_type": "markdown",
   "metadata": {},
   "source": [
    "## Error Checking"
   ]
  },
  {
   "cell_type": "code",
   "execution_count": 23,
   "metadata": {
    "collapsed": false
   },
   "outputs": [],
   "source": [
    "# Create table of all expected Airport, Date, Hours\n",
    "def date_range(start, end):\n",
    "    dates = []\n",
    "    curr = start\n",
    "    while curr <= end:\n",
    "        dates.append(curr)\n",
    "        curr += timedelta(days=1)\n",
    "    return dates\n",
    "\n",
    "airports = df['Airport'].unique().tolist()\n",
    "start_date = date(2011, 1, 1)\n",
    "end_date = date(2016, 7, 31)\n",
    "dates = date_range(start_date, end_date)\n",
    "hours = range(0, 24)\n",
    "\n",
    "table = []\n",
    "for airport in airports:\n",
    "    for date in dates:\n",
    "        for hour in hours:\n",
    "            table.append([airport, \n",
    "                          datetime(date.year, date.month, date.day, hour),\n",
    "                          date])\n",
    "\n",
    "table = pd.DataFrame(table)\n",
    "table.columns = ['Airport', 'DateTime', 'Dates']\n"
   ]
  },
  {
   "cell_type": "code",
   "execution_count": 24,
   "metadata": {
    "collapsed": false
   },
   "outputs": [
    {
     "data": {
      "text/plain": [
       "(151, 16)"
      ]
     },
     "execution_count": 24,
     "metadata": {},
     "output_type": "execute_result"
    }
   ],
   "source": [
    "# Find rows in table, not in df\n",
    "match = pd.merge(table, df, on= ['Airport', 'DateTime'], how='left')\n",
    "missing = match[match['Date'].isnull()]\n",
    "missing.shape"
   ]
  },
  {
   "cell_type": "code",
   "execution_count": 25,
   "metadata": {
    "collapsed": false
   },
   "outputs": [
    {
     "data": {
      "text/plain": [
       "Airport  Dates     \n",
       "KDEN     2011-07-08    6\n",
       "         2016-01-04    4\n",
       "         2014-05-06    4\n",
       "         2015-06-17    4\n",
       "         2015-10-02    4\n",
       "         2011-07-09    4\n",
       "         2014-07-26    3\n",
       "         2012-04-12    2\n",
       "         2014-05-19    2\n",
       "         2012-12-17    2\n",
       "         2013-02-19    2\n",
       "         2013-03-10    2\n",
       "         2015-03-17    2\n",
       "         2015-06-20    2\n",
       "         2015-06-16    2\n",
       "         2011-02-04    2\n",
       "         2011-01-26    2\n",
       "         2016-06-26    2\n",
       "         2014-08-13    2\n",
       "         2012-10-18    1\n",
       "         2013-02-04    1\n",
       "         2012-11-04    1\n",
       "         2012-12-05    1\n",
       "         2012-12-13    1\n",
       "         2013-07-02    1\n",
       "         2013-01-15    1\n",
       "         2013-11-03    1\n",
       "         2013-01-17    1\n",
       "         2013-02-05    1\n",
       "         2013-07-01    1\n",
       "                      ..\n",
       "         2016-03-13    1\n",
       "         2016-05-28    1\n",
       "         2016-06-11    1\n",
       "         2014-09-16    1\n",
       "         2014-09-08    1\n",
       "         2014-09-05    1\n",
       "         2014-06-19    1\n",
       "         2014-05-04    1\n",
       "         2014-05-13    1\n",
       "         2016-07-16    1\n",
       "         2014-05-15    1\n",
       "         2014-05-26    1\n",
       "         2014-05-29    1\n",
       "         2014-06-06    1\n",
       "         2014-06-09    1\n",
       "         2014-06-10    1\n",
       "         2014-06-13    1\n",
       "         2014-07-03    1\n",
       "         2014-08-21    1\n",
       "         2014-07-10    1\n",
       "         2014-07-12    1\n",
       "         2014-07-25    1\n",
       "         2014-07-27    1\n",
       "         2014-08-02    1\n",
       "         2014-08-03    1\n",
       "         2014-08-05    1\n",
       "         2014-08-09    1\n",
       "         2014-08-12    1\n",
       "         2014-08-15    1\n",
       "         2011-01-23    1\n",
       "Name: DateTime, dtype: int64"
      ]
     },
     "execution_count": 25,
     "metadata": {},
     "output_type": "execute_result"
    }
   ],
   "source": [
    "# Summarize missing hours per airport & day\n",
    "# If day is missing all 24 hours need to repull\n",
    "# if day is missing less than 24 hours, data is missing on site\n",
    "missing.groupby(['Airport', 'Dates'])['DateTime'].count().sort_values(ascending=False)"
   ]
  },
  {
   "cell_type": "markdown",
   "metadata": {},
   "source": [
    "## Export Final"
   ]
  },
  {
   "cell_type": "code",
   "execution_count": null,
   "metadata": {
    "collapsed": true
   },
   "outputs": [],
   "source": [
    "df.to_csv('../Assets/Datasets/Weather/Clean_Dep_Weather_Hourly.csv', index=False)"
   ]
  },
  {
   "cell_type": "code",
   "execution_count": 26,
   "metadata": {
    "collapsed": true
   },
   "outputs": [],
   "source": [
    "df.to_csv('../Assets/Datasets/Weather/Clean_Arr_Weather_Hourly.csv', index=False)"
   ]
  },
  {
   "cell_type": "code",
   "execution_count": null,
   "metadata": {
    "collapsed": true
   },
   "outputs": [],
   "source": []
  }
 ],
 "metadata": {
  "kernelspec": {
   "display_name": "Python [lesson01]",
   "language": "python",
   "name": "Python [lesson01]"
  },
  "language_info": {
   "codemirror_mode": {
    "name": "ipython",
    "version": 2
   },
   "file_extension": ".py",
   "mimetype": "text/x-python",
   "name": "python",
   "nbconvert_exporter": "python",
   "pygments_lexer": "ipython2",
   "version": "2.7.12"
  }
 },
 "nbformat": 4,
 "nbformat_minor": 0
}
