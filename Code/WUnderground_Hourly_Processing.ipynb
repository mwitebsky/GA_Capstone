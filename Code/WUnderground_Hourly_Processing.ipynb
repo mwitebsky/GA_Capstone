{
 "cells": [
  {
   "cell_type": "code",
   "execution_count": 1,
   "metadata": {
    "collapsed": false
   },
   "outputs": [],
   "source": [
    "import pandas as pd\n",
    "from datetime import date, datetime, timedelta\n",
    "from time import sleep\n",
    "import html5lib\n",
    "import string\n",
    "import os"
   ]
  },
  {
   "cell_type": "markdown",
   "metadata": {},
   "source": [
    "## Clean Hourly Weather Data"
   ]
  },
  {
   "cell_type": "markdown",
   "metadata": {},
   "source": [
    "### Original had all columns, rescrape were missing windchill column"
   ]
  },
  {
   "cell_type": "code",
   "execution_count": 2,
   "metadata": {
    "collapsed": false
   },
   "outputs": [],
   "source": [
    "# Original\n",
    "columns = ['Time (CST)', 'Temp', 'Windchill', 'Dew Point', 'Humidity', \n",
    "           'Pressure', 'Visibility', 'Wind Dir', 'Wind Speed', 'Gust Speed', \n",
    "           'Precip', 'Events', 'Conditions', 'Airport', 'Date']"
   ]
  },
  {
   "cell_type": "code",
   "execution_count": 3,
   "metadata": {
    "collapsed": true
   },
   "outputs": [],
   "source": [
    "# Original\n",
    "df = pd.read_csv('../Assets/Datasets/Weather/Weather_Hourly_201611201715.csv', names=columns)"
   ]
  },
  {
   "cell_type": "code",
   "execution_count": 4,
   "metadata": {
    "collapsed": true
   },
   "outputs": [],
   "source": [
    "# Original\n",
    "# remove windchill and gust speed. too many null values\n",
    "df = df.drop(['Windchill', 'Gust Speed'], axis=1)"
   ]
  },
  {
   "cell_type": "code",
   "execution_count": null,
   "metadata": {
    "collapsed": true
   },
   "outputs": [],
   "source": [
    "# Rescrape \n",
    "columns = ['Time (CST)', 'Temp', 'Dew Point', 'Humidity', \n",
    "           'Pressure', 'Visibility', 'Wind Dir', 'Wind Speed', 'Gust Speed', \n",
    "           'Precip', 'Events', 'Conditions', 'Airport', 'Date']"
   ]
  },
  {
   "cell_type": "code",
   "execution_count": null,
   "metadata": {
    "collapsed": false
   },
   "outputs": [],
   "source": [
    "# Rescrape\n",
    "df = pd.read_csv('../Assets/Datasets/Weather/Weather_Hourly_rescrape.csv', names=columns)"
   ]
  },
  {
   "cell_type": "code",
   "execution_count": null,
   "metadata": {
    "collapsed": true
   },
   "outputs": [],
   "source": [
    "# Rescrape\n",
    "# remove windchill and gust speed. too many null values\n",
    "df = df.drop(['Gust Speed'], axis=1)"
   ]
  },
  {
   "cell_type": "code",
   "execution_count": 5,
   "metadata": {
    "collapsed": false
   },
   "outputs": [],
   "source": [
    "# Format time to match BTS time (24hr int)\n",
    "# add hours column\n",
    "def get_hour(x):\n",
    "    hour = str(x[0])\n",
    "    signal = x[1].split(' ')[1]\n",
    "    if signal == 'AM' and hour == '12':\n",
    "        hour = '00'\n",
    "    if signal == 'PM' and hour != '12':\n",
    "        hour = str(int(hour) + 12)\n",
    "    return int(hour)\n",
    "\n",
    "def get_time(x):\n",
    "    hour = str(x[0])\n",
    "    minute = x[1].split(' ')[0]\n",
    "    signal = x[1].split(' ')[1]\n",
    "    if signal == 'AM' and hour == '12':\n",
    "        hour = '00'\n",
    "    if signal == 'PM' and hour != '12':\n",
    "        hour = str(int(hour) + 12)\n",
    "    return int(hour+minute)\n",
    "\n",
    "df['Hour'] = df['Time (CST)'].str.split(':').apply(lambda x: get_hour(x))\n",
    "df['Time (CST)'] = df['Time (CST)'].str.split(':').apply(lambda x: get_time(x))"
   ]
  },
  {
   "cell_type": "code",
   "execution_count": 6,
   "metadata": {
    "collapsed": true
   },
   "outputs": [],
   "source": [
    "# Drop duplicate rows for airport, date, hour\n",
    "df.drop_duplicates(subset=['Airport', 'Date', 'Hour'], inplace=True)"
   ]
  },
  {
   "cell_type": "code",
   "execution_count": 7,
   "metadata": {
    "collapsed": false
   },
   "outputs": [],
   "source": [
    "columns = df.columns"
   ]
  },
  {
   "cell_type": "code",
   "execution_count": 8,
   "metadata": {
    "collapsed": false
   },
   "outputs": [],
   "source": [
    "# remove non-ascii characters\n",
    "printable = set(string.printable)\n",
    "def clean_cell(cell):\n",
    "    cell = str(cell)\n",
    "    return filter(lambda x: x in printable, cell)\n",
    "    \n",
    "for column in columns:\n",
    "    df[column] = df[column].apply(lambda x: clean_cell(x))"
   ]
  },
  {
   "cell_type": "code",
   "execution_count": 9,
   "metadata": {
    "collapsed": true
   },
   "outputs": [],
   "source": [
    "# null values for precip and events become 0 and No_Event\n",
    "df['Precip'] = df['Precip'].apply(lambda x: 0 if x in ['nan', 'T'] else x)\n",
    "df['Events'] = df['Events'].apply(lambda x: 'No_Event' if x == 'nan' else x)"
   ]
  },
  {
   "cell_type": "code",
   "execution_count": 10,
   "metadata": {
    "collapsed": false
   },
   "outputs": [],
   "source": [
    "# remove non-numeric characters\n",
    "num_columns = ['Hour', 'Time (CST)', 'Temp', 'Dew Point', 'Humidity', 'Pressure', 'Visibility', 'Wind Speed',\n",
    "              'Precip']\n",
    "\n",
    "def num_only(x):\n",
    "    x = str(x)\n",
    "    new_x = ''\n",
    "    for char in x:\n",
    "        if char.isdigit() or char == '.':\n",
    "            new_x += char\n",
    "    return new_x\n",
    "\n",
    "for column in num_columns:\n",
    "    df[column] = df[column].apply(lambda x: num_only(x))"
   ]
  },
  {
   "cell_type": "code",
   "execution_count": 11,
   "metadata": {
    "collapsed": true
   },
   "outputs": [],
   "source": [
    "# Change types\n",
    "for column in num_columns:\n",
    "    df[column] = df[column].apply(pd.to_numeric)"
   ]
  },
  {
   "cell_type": "code",
   "execution_count": 12,
   "metadata": {
    "collapsed": false
   },
   "outputs": [],
   "source": [
    "# Add 4-hour dayparts\n",
    "def daypart(x):\n",
    "    if x < 4:\n",
    "        return 'red_eye'\n",
    "    elif x < 8:\n",
    "        return 'early_morning'\n",
    "    elif x < 12:\n",
    "        return 'morning'\n",
    "    elif x < 16:\n",
    "        return 'afternoon'\n",
    "    elif x < 20:\n",
    "        return 'evening'\n",
    "    else:\n",
    "        return 'night'\n",
    "            \n",
    "df['Daypart'] = df['Hour'].apply(lambda x: daypart(x))"
   ]
  },
  {
   "cell_type": "code",
   "execution_count": 13,
   "metadata": {
    "collapsed": true
   },
   "outputs": [],
   "source": [
    "# When Wind Dir is Calm, Wind speed is also calm\n",
    "# Replace wind speed as 0 if wind dir is calm\n",
    "df['Wind Speed'] = df.apply(lambda row: (0 if row['Wind Dir'] == 'Calm' else row['Wind Speed']), axis=1)"
   ]
  },
  {
   "cell_type": "markdown",
   "metadata": {},
   "source": [
    "## Error Checking"
   ]
  },
  {
   "cell_type": "code",
   "execution_count": null,
   "metadata": {
    "collapsed": false
   },
   "outputs": [],
   "source": [
    "# Windspeed or visibility or precip is null.  \n",
    "# These tables had no Windchill column on Wunderground\n",
    "repull = df[(df['Wind Speed'].isnull()) | (df['Visibility'].isnull())][['Conditions', 'Airport']]\n",
    "repull = repull[repull['Conditions'].isin(['KMDW', 'KORD'])]\n",
    "print repull.shape\n",
    "repull.drop_duplicates(inplace=True)\n",
    "repull['Year'] = repull['Airport'].str.split('-').apply(lambda x: x[0])\n",
    "repull['Month'] = repull['Airport'].str.split('-').apply(lambda x: x[1])\n",
    "repull['Day'] = repull['Airport'].str.split('-').apply(lambda x: x[2])\n",
    "repull = repull.drop('Airport', axis = 1)\n",
    "repull.columns = ['Airport', 'Year', 'Month', 'Day']\n"
   ]
  },
  {
   "cell_type": "code",
   "execution_count": null,
   "metadata": {
    "collapsed": true
   },
   "outputs": [],
   "source": [
    "# Rescrape\n",
    "repull.to_csv('../Assets/Datasets/Weather/incorrectly_scraped.csv', index=False)"
   ]
  },
  {
   "cell_type": "markdown",
   "metadata": {},
   "source": [
    "## Error Correcting"
   ]
  },
  {
   "cell_type": "code",
   "execution_count": null,
   "metadata": {
    "collapsed": false
   },
   "outputs": [],
   "source": [
    "# Rescrape\n",
    "df_repull = df"
   ]
  },
  {
   "cell_type": "code",
   "execution_count": 14,
   "metadata": {
    "collapsed": true
   },
   "outputs": [],
   "source": [
    "# Remove rescrape rows from df\n",
    "df_clean = df[~(df['Wind Speed'].isnull()) & ~(df['Visibility'].isnull())]"
   ]
  },
  {
   "cell_type": "code",
   "execution_count": null,
   "metadata": {
    "collapsed": false
   },
   "outputs": [],
   "source": [
    "df_clean.shape"
   ]
  },
  {
   "cell_type": "code",
   "execution_count": null,
   "metadata": {
    "collapsed": true
   },
   "outputs": [],
   "source": [
    "df_final = pd.concat([df_clean, df_repull])"
   ]
  },
  {
   "cell_type": "code",
   "execution_count": null,
   "metadata": {
    "collapsed": false
   },
   "outputs": [],
   "source": [
    "# Drop duplicate rows for airport, date, hour\n",
    "df_final.drop_duplicates(subset=['Airport', 'Date', 'Hour'], inplace=True)\n"
   ]
  },
  {
   "cell_type": "markdown",
   "metadata": {},
   "source": [
    "## Export Final"
   ]
  },
  {
   "cell_type": "code",
   "execution_count": null,
   "metadata": {
    "collapsed": false
   },
   "outputs": [],
   "source": [
    "df_final.isnull().sum()"
   ]
  },
  {
   "cell_type": "code",
   "execution_count": null,
   "metadata": {
    "collapsed": true
   },
   "outputs": [],
   "source": [
    "df_final.dropna(inplace=True)"
   ]
  },
  {
   "cell_type": "code",
   "execution_count": null,
   "metadata": {
    "collapsed": false
   },
   "outputs": [],
   "source": [
    "df_final.shape"
   ]
  },
  {
   "cell_type": "code",
   "execution_count": null,
   "metadata": {
    "collapsed": true
   },
   "outputs": [],
   "source": [
    "df_final.to_csv('../Assets/Datasets/Weather/Clean_Weather_Hourly.csv', index=False)"
   ]
  },
  {
   "cell_type": "code",
   "execution_count": null,
   "metadata": {
    "collapsed": true
   },
   "outputs": [],
   "source": []
  }
 ],
 "metadata": {
  "kernelspec": {
   "display_name": "Python [lesson01]",
   "language": "python",
   "name": "Python [lesson01]"
  },
  "language_info": {
   "codemirror_mode": {
    "name": "ipython",
    "version": 2
   },
   "file_extension": ".py",
   "mimetype": "text/x-python",
   "name": "python",
   "nbconvert_exporter": "python",
   "pygments_lexer": "ipython2",
   "version": "2.7.12"
  }
 },
 "nbformat": 4,
 "nbformat_minor": 0
}
