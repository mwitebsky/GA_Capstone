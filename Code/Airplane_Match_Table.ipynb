{
 "cells": [
  {
   "cell_type": "code",
   "execution_count": 1,
   "metadata": {
    "collapsed": true
   },
   "outputs": [],
   "source": [
    "import pandas as pd"
   ]
  },
  {
   "cell_type": "code",
   "execution_count": 2,
   "metadata": {
    "collapsed": false
   },
   "outputs": [],
   "source": [
    "match = pd.read_csv('../Assets/Datasets/Aircraft_Registration_Databse/Raw/ACFTREF.txt')"
   ]
  },
  {
   "cell_type": "code",
   "execution_count": 3,
   "metadata": {
    "collapsed": false
   },
   "outputs": [],
   "source": [
    "# Remove unicode from column names\n",
    "match.columns = ['CODE',\n",
    " 'MFR',\n",
    " 'MODEL',\n",
    " 'TYPE-ACFT',\n",
    " 'TYPE-ENG',\n",
    " 'AC-CAT',\n",
    " 'BUILD-CERT-IND',\n",
    " 'NO-ENG',\n",
    " 'NO-SEATS',\n",
    " 'AC-WEIGHT',\n",
    " 'SPEED',\n",
    " 'Unnamed: 11']"
   ]
  },
  {
   "cell_type": "code",
   "execution_count": 4,
   "metadata": {
    "collapsed": true
   },
   "outputs": [],
   "source": [
    "data = pd.read_csv('../Assets/Datasets/Aircraft_Registration_Databse/Raw/MASTER.txt')"
   ]
  },
  {
   "cell_type": "code",
   "execution_count": 5,
   "metadata": {
    "collapsed": true
   },
   "outputs": [],
   "source": [
    "# Remove unicode from column names\n",
    "data.columns = ['N-NUMBER',\n",
    " 'SERIAL NUMBER',\n",
    " 'MFR MDL CODE',\n",
    " 'ENG MFR MDL',\n",
    " 'YEAR MFR',\n",
    " 'TYPE REGISTRANT',\n",
    " 'NAME',\n",
    " 'STREET',\n",
    " 'STREET2',\n",
    " 'CITY',\n",
    " 'STATE',\n",
    " 'ZIP CODE',\n",
    " 'REGION',\n",
    " 'COUNTY',\n",
    " 'COUNTRY',\n",
    " 'LAST ACTION DATE',\n",
    " 'CERT ISSUE DATE',\n",
    " 'CERTIFICATION',\n",
    " 'TYPE AIRCRAFT',\n",
    " 'TYPE ENGINE',\n",
    " 'STATUS CODE',\n",
    " 'MODE S CODE',\n",
    " 'FRACT OWNER',\n",
    " 'AIR WORTH DATE',\n",
    " 'OTHER NAMES(1)',\n",
    " 'OTHER NAMES(2)',\n",
    " 'OTHER NAMES(3)',\n",
    " 'OTHER NAMES(4)',\n",
    " 'OTHER NAMES(5)',\n",
    " 'EXPIRATION DATE',\n",
    " 'UNIQUE ID',\n",
    " 'KIT MFR',\n",
    " ' KIT MODEL',\n",
    " 'MODE S CODE HEX',\n",
    " 'Unnamed: 34']"
   ]
  },
  {
   "cell_type": "code",
   "execution_count": 6,
   "metadata": {
    "collapsed": true
   },
   "outputs": [],
   "source": [
    "dereg = pd.read_csv('../Assets/Datasets/Aircraft_Registration_Databse/Raw/DEREG.txt')"
   ]
  },
  {
   "cell_type": "code",
   "execution_count": 7,
   "metadata": {
    "collapsed": false
   },
   "outputs": [],
   "source": [
    "# Remove unicode from column names\n",
    "dereg.columns = ['N-NUMBER',\n",
    " 'SERIAL-NUMBER',\n",
    " 'MFR-MDL-CODE',\n",
    " 'STATUS-CODE',\n",
    " 'NAME',\n",
    " 'STREET-MAIL',\n",
    " 'STREET2-MAIL',\n",
    " 'CITY-MAIL',\n",
    " 'STATE-ABBREV-MAIL',\n",
    " 'ZIP-CODE-MAIL',\n",
    " 'ENG-MFR-MDL',\n",
    " 'YEAR-MFR',\n",
    " 'CERTIFICATION',\n",
    " 'REGION',\n",
    " 'COUNTY-MAIL',\n",
    " 'COUNTRY-MAIL',\n",
    " 'AIR-WORTH-DATE',\n",
    " 'CANCEL-DATE',\n",
    " 'MODE-S-CODE',\n",
    " 'INDICATOR-GROUP',\n",
    " 'EXP-COUNTRY',\n",
    " 'LAST-ACT-DATE',\n",
    " 'CERT-ISSUE-DATE',\n",
    " 'STREET-PHYSICAL',\n",
    " 'STREET2-PHYSICAL',\n",
    " 'CITY-PHYSICAL',\n",
    " 'STATE-ABBREV-PHYSICAL',\n",
    " 'ZIP-CODE-PHYSICAL',\n",
    " 'COUNTY-PHYSICAL',\n",
    " 'COUNTRY-PHYSICAL',\n",
    " 'OTHER-NAMES(1)',\n",
    " 'OTHER-NAMES(2)',\n",
    " 'OTHER-NAMES(3)',\n",
    " 'OTHER-NAMES(4)',\n",
    " 'OTHER-NAMES(5)',\n",
    " 'KIT MFR',\n",
    " ' KIT MODEL',\n",
    " 'MODE S CODE HEX',\n",
    " 'Unnamed: 38']"
   ]
  },
  {
   "cell_type": "code",
   "execution_count": 8,
   "metadata": {
    "collapsed": true
   },
   "outputs": [],
   "source": [
    "data = data[['N-NUMBER', 'YEAR MFR', 'MFR MDL CODE']]\n",
    "dereg = dereg[['N-NUMBER', 'YEAR-MFR', 'MFR-MDL-CODE']]\n",
    "dereg.columns = [['N-NUMBER', 'YEAR MFR', 'MFR MDL CODE']]"
   ]
  },
  {
   "cell_type": "code",
   "execution_count": 9,
   "metadata": {
    "collapsed": true
   },
   "outputs": [],
   "source": [
    "data = pd.concat([data, dereg])"
   ]
  },
  {
   "cell_type": "code",
   "execution_count": 10,
   "metadata": {
    "collapsed": false
   },
   "outputs": [],
   "source": [
    "data.reset_index(inplace=True)"
   ]
  },
  {
   "cell_type": "code",
   "execution_count": 13,
   "metadata": {
    "collapsed": false
   },
   "outputs": [],
   "source": [
    "data.drop_duplicates(subset='N-NUMBER', inplace=True)"
   ]
  },
  {
   "cell_type": "code",
   "execution_count": 15,
   "metadata": {
    "collapsed": true
   },
   "outputs": [],
   "source": [
    "dataz = data.merge(match, left_on='MFR MDL CODE', right_on='CODE', how='left')"
   ]
  },
  {
   "cell_type": "code",
   "execution_count": 17,
   "metadata": {
    "collapsed": true
   },
   "outputs": [],
   "source": [
    "dataz = dataz[['N-NUMBER', 'YEAR MFR', 'CODE', 'MFR', 'MODEL']]"
   ]
  },
  {
   "cell_type": "code",
   "execution_count": 18,
   "metadata": {
    "collapsed": true
   },
   "outputs": [],
   "source": [
    "dataz['N-NUMBER'] = dataz['N-NUMBER'].apply(lambda x: 'N' + str(x))"
   ]
  },
  {
   "cell_type": "code",
   "execution_count": 20,
   "metadata": {
    "collapsed": false
   },
   "outputs": [],
   "source": [
    "dataz = dataz[~(dataz['YEAR MFR'].str.contains(' '))]"
   ]
  },
  {
   "cell_type": "code",
   "execution_count": 22,
   "metadata": {
    "collapsed": true
   },
   "outputs": [],
   "source": [
    "dataz.to_csv('../Assets/Datasets/Aircraft_Registration_Databse/Processed/N_Number_Year_Model.csv', index=False)"
   ]
  }
 ],
 "metadata": {
  "kernelspec": {
   "display_name": "Python [lesson01]",
   "language": "python",
   "name": "Python [lesson01]"
  },
  "language_info": {
   "codemirror_mode": {
    "name": "ipython",
    "version": 2
   },
   "file_extension": ".py",
   "mimetype": "text/x-python",
   "name": "python",
   "nbconvert_exporter": "python",
   "pygments_lexer": "ipython2",
   "version": "2.7.12"
  }
 },
 "nbformat": 4,
 "nbformat_minor": 0
}
