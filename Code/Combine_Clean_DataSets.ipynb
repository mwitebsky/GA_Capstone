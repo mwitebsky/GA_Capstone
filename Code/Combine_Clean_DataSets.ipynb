{
 "cells": [
  {
   "cell_type": "code",
   "execution_count": 30,
   "metadata": {
    "collapsed": true
   },
   "outputs": [],
   "source": [
    "import os\n",
    "import pandas as pd\n",
    "import numpy as np"
   ]
  },
  {
   "cell_type": "code",
   "execution_count": 31,
   "metadata": {
    "collapsed": false
   },
   "outputs": [],
   "source": [
    "# locate all csv files in directory\n",
    "directory = '../Assets/Datasets/BTS_flight_data/Raw'\n",
    "\n",
    "file_names = []\n",
    "for filename in os.listdir(directory):\n",
    "    if filename.endswith(\".csv\"): \n",
    "        file_names.append(os.path.join(directory, filename))\n"
   ]
  },
  {
   "cell_type": "code",
   "execution_count": 32,
   "metadata": {
    "collapsed": false
   },
   "outputs": [],
   "source": [
    "# combine all csvs in pandas\n",
    "dataframes = []\n",
    "ct = 1\n",
    "files = len(file_names)\n",
    "for csv in file_names:\n",
    "    dataframes.append(pd.read_csv(csv))\n",
    "    ct += 1\n",
    "\n",
    "df = pd.concat(dataframes)"
   ]
  },
  {
   "cell_type": "code",
   "execution_count": 33,
   "metadata": {
    "collapsed": true
   },
   "outputs": [],
   "source": [
    "# remove cancelled flights and diverted flights\n",
    "df = df[(df['CANCELLED'] == 0) & (df['DIVERTED'] == 0)]"
   ]
  },
  {
   "cell_type": "code",
   "execution_count": 5,
   "metadata": {
    "collapsed": false
   },
   "outputs": [],
   "source": [
    "# 2400 isn't a real time, replace with 2359. Remove decimal points\n",
    "columns = ['DEP_TIME', 'ARR_TIME', 'CRS_DEP_TIME', 'CRS_ARR_TIME']\n",
    "for column in columns:\n",
    "    df[column] = df[column].astype(str).str.replace('2400', '2359')\n",
    "    df[column] = df[column].str.split('.').apply(lambda x: x[0])"
   ]
  },
  {
   "cell_type": "code",
   "execution_count": 6,
   "metadata": {
    "collapsed": false
   },
   "outputs": [],
   "source": [
    "times = [['CRS_FL_TIME', 'CRS_DEP_TIME', 'CRS_ARR_TIME', 'CRS_FL_DATETIME'],\n",
    "         ['FL_TIME', 'DEP_TIME', 'ARR_TIME', 'FL_DATETIME']]\n",
    "\n",
    "for time in times:\n",
    "    # scheduled and actual Departure/Arrival time for ohare and midway\n",
    "    df.loc[:, time[0]] =  np.where(((df['ORIGIN_AIRPORT_ID'] == 13930) | (df['ORIGIN_AIRPORT_ID'] == 13232)),\n",
    "                                        df[time[1]], df[time[2]])\n",
    "\n",
    "    # adjust time to string in proper format\n",
    "    df[time[0]] = df[time[0]].astype(int).astype(str)\n",
    "    df[time[0]] = df[time[0]].apply(lambda x: x[0:-2] + ':' + x[-2:] \n",
    "                                                if len(x) > 2\n",
    "                                                else '0:' + x) \n",
    "\n",
    "    # concatenate date & time and change to datetime type\n",
    "    df[time[3]] = df['FL_DATE'] + ' ' + df[time[0]]\n",
    "    df[time[3]] = pd.to_datetime(df[time[3]], infer_datetime_format = True)"
   ]
  },
  {
   "cell_type": "code",
   "execution_count": 7,
   "metadata": {
    "collapsed": true
   },
   "outputs": [],
   "source": [
    "# Remove null TAIL_NUM rows\n",
    "df.dropna(subset=['TAIL_NUM'], inplace=True)\n",
    "df.reset_index(inplace=True)\n",
    "df.drop('index', axis=1, inplace=True)"
   ]
  },
  {
   "cell_type": "code",
   "execution_count": 8,
   "metadata": {
    "collapsed": true
   },
   "outputs": [],
   "source": [
    "# remove departures with a non-n tail number\n",
    "df = df[df['TAIL_NUM'].str[0] == 'N']"
   ]
  },
  {
   "cell_type": "code",
   "execution_count": 9,
   "metadata": {
    "collapsed": false
   },
   "outputs": [],
   "source": [
    "# Adjust TAIL_NUM to fit FAA specs\n",
    "## An N-number can be in any of these formats\n",
    "## One to five digits (N12345)\n",
    "## One to four digits followed by one letter (N1234Z)\n",
    "## One to three digits followed by two letters (N123AZ)\n",
    "## N-numbers do not have\n",
    "## A zero (0) as the first number\n",
    "## The letters \"I\" or \"O\"\n",
    "\n",
    "def remove_leading_0(n_num):\n",
    "    if n_num[1] != '0':\n",
    "        return 'N'+ n_num[1:]     \n",
    "    else:\n",
    "        return remove_leading_0(n_num[1:])\n",
    "\n",
    "df['TAIL_NUM'] = df.loc[:, 'TAIL_NUM'].apply(remove_leading_0)"
   ]
  },
  {
   "cell_type": "code",
   "execution_count": 10,
   "metadata": {
    "collapsed": true
   },
   "outputs": [],
   "source": [
    "# get list of all tail numbers\n",
    "tails = df['TAIL_NUM'].unique()\n",
    "tails = pd.DataFrame(tails)\n",
    "tails.columns = ['TailNum']"
   ]
  },
  {
   "cell_type": "code",
   "execution_count": 11,
   "metadata": {
    "collapsed": false
   },
   "outputs": [],
   "source": [
    "# Create fixed tail num match table (some tail numbers in BTS data are incorrect)\n",
    "match = pd.read_csv('../Assets/Datasets/n_num_match/n_num_match.csv')\n",
    "match = match[['TailNum', 'TailNum_fixed']]\n",
    "\n",
    "tails = pd.merge(tails, match, on='TailNum', how='left')\n",
    "tails.fillna('Missing', inplace=True)\n",
    "tails['TailNum_fixed'] = np.where(tails['TailNum_fixed'] == 'Missing', tails['TailNum'], tails['TailNum_fixed'])\n",
    "tails.drop_duplicates(inplace=True)"
   ]
  },
  {
   "cell_type": "code",
   "execution_count": 12,
   "metadata": {
    "collapsed": false
   },
   "outputs": [],
   "source": [
    "# Join Fixed tails to df\n",
    "df = pd.merge(df, tails, how='left', left_on='TAIL_NUM', right_on='TailNum')\n",
    "df.drop(['TailNum', 'TAIL_NUM'], axis=1, inplace=True)\n",
    "df.columns = [u'YEAR', u'MONTH', u'DAY_OF_MONTH', u'DAY_OF_WEEK', u'FL_DATE',\n",
    "       u'UNIQUE_CARRIER', u'FL_NUM', u'ORIGIN_AIRPORT_ID',\n",
    "       u'ORIGIN_CITY_MARKET_ID', u'DEST_AIRPORT_ID', u'DEST_CITY_MARKET_ID',\n",
    "       u'CRS_DEP_TIME', u'DEP_TIME', u'DEP_DELAY_NEW', u'TAXI_OUT',\n",
    "       u'WHEELS_OFF', u'WHEELS_ON', u'TAXI_IN', u'CRS_ARR_TIME', u'ARR_TIME',\n",
    "       u'ARR_DELAY_NEW', u'CANCELLED', u'CANCELLATION_CODE', u'DIVERTED',\n",
    "       u'CRS_ELAPSED_TIME', u'ACTUAL_ELAPSED_TIME', u'AIR_TIME', u'FLIGHTS',\n",
    "       u'DISTANCE', u'CARRIER_DELAY', u'WEATHER_DELAY', u'NAS_DELAY',\n",
    "       u'SECURITY_DELAY', u'LATE_AIRCRAFT_DELAY', u'Unnamed: 35',\n",
    "       u'CRS_FL_TIME', u'CRS_FL_DATETIME', u'FL_TIME', u'FL_DATETIME',\n",
    "       u'TAIL_NUM']\n"
   ]
  },
  {
   "cell_type": "code",
   "execution_count": 16,
   "metadata": {
    "collapsed": true
   },
   "outputs": [],
   "source": [
    "# Replace CANCELLATION CODE nulls with 'N'\n",
    "df['CANCELLATION_CODE'].fillna('N', inplace=True)"
   ]
  },
  {
   "cell_type": "code",
   "execution_count": 17,
   "metadata": {
    "collapsed": false
   },
   "outputs": [],
   "source": [
    "# Create week column\n",
    "df['WEEK'] = df['FL_DATETIME'].apply(lambda x: x.week)"
   ]
  },
  {
   "cell_type": "code",
   "execution_count": 18,
   "metadata": {
    "collapsed": true
   },
   "outputs": [],
   "source": [
    "# Find prior airport and scheduled time dif beteween landing in chicago and departing\n",
    "df = df.sort_values(['TAIL_NUM', 'FL_DATETIME'])\n",
    "df_2 = df[['TAIL_NUM', 'ORIGIN_AIRPORT_ID', 'DEST_AIRPORT_ID', 'FL_DATETIME', 'CRS_FL_DATETIME']]"
   ]
  },
  {
   "cell_type": "code",
   "execution_count": 19,
   "metadata": {
    "collapsed": false
   },
   "outputs": [
    {
     "name": "stderr",
     "output_type": "stream",
     "text": [
      "/Users/mwitebsky/anaconda2/envs/lesson01/lib/python2.7/site-packages/pandas/core/indexing.py:288: SettingWithCopyWarning: \n",
      "A value is trying to be set on a copy of a slice from a DataFrame.\n",
      "Try using .loc[row_indexer,col_indexer] = value instead\n",
      "\n",
      "See the caveats in the documentation: http://pandas.pydata.org/pandas-docs/stable/indexing.html#indexing-view-versus-copy\n",
      "  self.obj[key] = _infer_fill_value(value)\n",
      "/Users/mwitebsky/anaconda2/envs/lesson01/lib/python2.7/site-packages/pandas/core/indexing.py:465: SettingWithCopyWarning: \n",
      "A value is trying to be set on a copy of a slice from a DataFrame.\n",
      "Try using .loc[row_indexer,col_indexer] = value instead\n",
      "\n",
      "See the caveats in the documentation: http://pandas.pydata.org/pandas-docs/stable/indexing.html#indexing-view-versus-copy\n",
      "  self.obj[item] = s\n"
     ]
    }
   ],
   "source": [
    "# Assigns prior column by shifting one row back\n",
    "df_2.loc[:, 'PRIOR_DEST_ID'] = df_2['DEST_AIRPORT_ID'].shift()\n",
    "df_2.loc[:, 'PRIOR_ORIG_ID'] = df_2['ORIGIN_AIRPORT_ID'].shift()\n",
    "df_2.loc[:, 'PRIOR_TAIL_NUM'] = df_2['TAIL_NUM'].shift()\n",
    "df_2.loc[:, 'PRIOR_FL_DATETIME'] = df_2['FL_DATETIME'].shift()\n",
    "df_2.loc[:, 'PRIOR_CRS_FL_DATETIME'] = df_2['CRS_FL_DATETIME'].shift()\n",
    "df_2.loc[:, 'PRIOR_AIRPORT'] = 0\n",
    "\n",
    "# remove first row, has null priors\n",
    "df_2 = df_2.iloc[1:, :]"
   ]
  },
  {
   "cell_type": "code",
   "execution_count": 20,
   "metadata": {
    "collapsed": false
   },
   "outputs": [],
   "source": [
    "# Find difference between scheduled landing and taking off by tailnum\n",
    "df_2['DELTA_TIME'] = df_2['CRS_FL_DATETIME'] - df_2['PRIOR_CRS_FL_DATETIME']\n",
    "df_2['DELTA_TIME_MIN'] = (df_2['DELTA_TIME'].apply(lambda x: x.days *24*60) + \n",
    "                          df_2['DELTA_TIME'].apply(lambda x: x.seconds / 60))"
   ]
  },
  {
   "cell_type": "code",
   "execution_count": 21,
   "metadata": {
    "collapsed": true
   },
   "outputs": [],
   "source": [
    "# Add PRIOR_AIRPORT column\n",
    "# takes a few min\n",
    "\n",
    "df_2['PRIOR_AIRPORT'] = np.where(((df_2['ORIGIN_AIRPORT_ID'] == 13930) | (df_2['ORIGIN_AIRPORT_ID'] == 13232)) &\n",
    "                                 (df_2['PRIOR_DEST_ID'] == df_2['ORIGIN_AIRPORT_ID']) &\n",
    "                                 (df_2['TAIL_NUM'] == df_2['PRIOR_TAIL_NUM']), \n",
    "                                 df_2['PRIOR_ORIG_ID'], 0)"
   ]
  },
  {
   "cell_type": "code",
   "execution_count": 22,
   "metadata": {
    "collapsed": false
   },
   "outputs": [],
   "source": [
    "df_pa = pd.DataFrame(df_2[['PRIOR_AIRPORT', 'DELTA_TIME_MIN']])\n",
    "df = df.join(df_pa, how='left')"
   ]
  },
  {
   "cell_type": "code",
   "execution_count": 24,
   "metadata": {
    "collapsed": false
   },
   "outputs": [
    {
     "data": {
      "text/plain": [
       "(2038321, 43)"
      ]
     },
     "execution_count": 24,
     "metadata": {},
     "output_type": "execute_result"
    }
   ],
   "source": [
    "# remove departures with no PRIOR_AIRPORT (83515 rows)\n",
    "df = df[df['PRIOR_AIRPORT'] != 0]\n",
    "df.shape"
   ]
  },
  {
   "cell_type": "code",
   "execution_count": 25,
   "metadata": {
    "collapsed": true
   },
   "outputs": [],
   "source": [
    "df.drop('Unnamed: 35', axis=1, inplace=True)"
   ]
  },
  {
   "cell_type": "code",
   "execution_count": 28,
   "metadata": {
    "collapsed": false
   },
   "outputs": [
    {
     "data": {
      "text/plain": [
       "(2038320, 42)"
      ]
     },
     "execution_count": 28,
     "metadata": {},
     "output_type": "execute_result"
    }
   ],
   "source": [
    "# Departures from MDW & ORD only\n",
    "df = df[df['ORIGIN_AIRPORT_ID'].isin([13930, 13232])]\n",
    "df.shape"
   ]
  },
  {
   "cell_type": "code",
   "execution_count": 29,
   "metadata": {
    "collapsed": false
   },
   "outputs": [],
   "source": [
    "# Create MDW & ORD departures\n",
    "df.to_csv('../Assets/Datasets/BTS_flight_data/Processed/chicago_departures.csv', index=False)"
   ]
  },
  {
   "cell_type": "code",
   "execution_count": null,
   "metadata": {
    "collapsed": true
   },
   "outputs": [],
   "source": []
  }
 ],
 "metadata": {
  "anaconda-cloud": {},
  "kernelspec": {
   "display_name": "Python [lesson01]",
   "language": "python",
   "name": "Python [lesson01]"
  },
  "language_info": {
   "codemirror_mode": {
    "name": "ipython",
    "version": 2
   },
   "file_extension": ".py",
   "mimetype": "text/x-python",
   "name": "python",
   "nbconvert_exporter": "python",
   "pygments_lexer": "ipython2",
   "version": "2.7.12"
  }
 },
 "nbformat": 4,
 "nbformat_minor": 0
}
