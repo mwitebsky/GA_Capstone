{
 "cells": [
  {
   "cell_type": "code",
   "execution_count": 1,
   "metadata": {
    "collapsed": true
   },
   "outputs": [],
   "source": [
    "import pandas as pd"
   ]
  },
  {
   "cell_type": "code",
   "execution_count": 3,
   "metadata": {
    "collapsed": false
   },
   "outputs": [],
   "source": [
    "df = pd.read_csv('../Assets/Datasets/BTS_flight_data/Illinois_2011_2016.csv')"
   ]
  },
  {
   "cell_type": "code",
   "execution_count": 8,
   "metadata": {
    "collapsed": false
   },
   "outputs": [],
   "source": [
    "# Ensure only flights arriving/departing from MDW 13232 and ORD 13930 are included\n",
    "df = df[(df['ORIGIN_AIRPORT_ID'].isin([13930, 13232])) | \n",
    "          (df['DEST_AIRPORT_ID'].isin([13930, 13232]))]"
   ]
  },
  {
   "cell_type": "code",
   "execution_count": 10,
   "metadata": {
    "collapsed": false
   },
   "outputs": [
    {
     "data": {
      "text/plain": [
       "YEAR                       int64\n",
       "MONTH                      int64\n",
       "DAY_OF_MONTH               int64\n",
       "DAY_OF_WEEK                int64\n",
       "FL_DATE                   object\n",
       "UNIQUE_CARRIER            object\n",
       "TAIL_NUM                  object\n",
       "FL_NUM                     int64\n",
       "ORIGIN_AIRPORT_ID          int64\n",
       "ORIGIN_CITY_MARKET_ID      int64\n",
       "DEST_AIRPORT_ID            int64\n",
       "DEST_CITY_MARKET_ID        int64\n",
       "CRS_DEP_TIME               int64\n",
       "DEP_TIME                 float64\n",
       "DEP_DELAY_NEW            float64\n",
       "TAXI_OUT                 float64\n",
       "WHEELS_OFF               float64\n",
       "WHEELS_ON                float64\n",
       "TAXI_IN                  float64\n",
       "CRS_ARR_TIME               int64\n",
       "ARR_TIME                 float64\n",
       "ARR_DELAY_NEW            float64\n",
       "CANCELLED                float64\n",
       "CANCELLATION_CODE         object\n",
       "CRS_ELAPSED_TIME         float64\n",
       "ACTUAL_ELAPSED_TIME      float64\n",
       "AIR_TIME                 float64\n",
       "FLIGHTS                  float64\n",
       "DISTANCE                 float64\n",
       "CARRIER_DELAY            float64\n",
       "WEATHER_DELAY            float64\n",
       "NAS_DELAY                float64\n",
       "SECURITY_DELAY           float64\n",
       "LATE_AIRCRAFT_DELAY      float64\n",
       "Unnamed: 34              float64\n",
       "dtype: object"
      ]
     },
     "execution_count": 10,
     "metadata": {},
     "output_type": "execute_result"
    }
   ],
   "source": []
  },
  {
   "cell_type": "code",
   "execution_count": null,
   "metadata": {
    "collapsed": true
   },
   "outputs": [],
   "source": []
  }
 ],
 "metadata": {
  "kernelspec": {
   "display_name": "Python [lesson01]",
   "language": "python",
   "name": "Python [lesson01]"
  },
  "language_info": {
   "codemirror_mode": {
    "name": "ipython",
    "version": 2
   },
   "file_extension": ".py",
   "mimetype": "text/x-python",
   "name": "python",
   "nbconvert_exporter": "python",
   "pygments_lexer": "ipython2",
   "version": "2.7.12"
  }
 },
 "nbformat": 4,
 "nbformat_minor": 0
}
