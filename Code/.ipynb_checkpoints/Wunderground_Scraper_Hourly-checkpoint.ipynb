{
 "cells": [
  {
   "cell_type": "code",
   "execution_count": 1,
   "metadata": {
    "collapsed": true
   },
   "outputs": [],
   "source": [
    "import pandas as pd\n",
    "from urllib2 import urlopen\n",
    "from bs4 import BeautifulSoup\n",
    "from datetime import date, datetime, timedelta\n",
    "from time import sleep\n",
    "import html5lib"
   ]
  },
  {
   "cell_type": "code",
   "execution_count": 6,
   "metadata": {
    "collapsed": false
   },
   "outputs": [
    {
     "name": "stdout",
     "output_type": "stream",
     "text": [
      "KMDW 2011-1-2\n",
      "KMDW 2011-5-4\n",
      "KMDW 2013-4-1\n",
      "KMDW 2013-7-28\n",
      "KMDW 2015-1-25\n"
     ]
    }
   ],
   "source": [
    "# scrape hourly and save to csv\n",
    "today = datetime.now()\n",
    "today = '{}{}{}{}{}'.format(today.year, today.month, today.day, today.hour, today.minute)\n",
    "\n",
    "def date_range(start, end):\n",
    "    dates = []\n",
    "    curr = start\n",
    "    while curr <= end:\n",
    "        dates.append(curr)\n",
    "        curr += timedelta(days=1)\n",
    "    return dates\n",
    "\n",
    "airports = ['KMDW', 'KORD']\n",
    "start_date = date(2011, 1, 1)\n",
    "end_date = date(2016, 7, 31)\n",
    "dates = date_range(start_date, end_date)\n",
    "\n",
    "url = 'https://www.wunderground.com/history/airport/{}/{}/{}/{}/DailyHistory.html'\n",
    "errors = []\n",
    "for airport in airports:\n",
    "    for day in dates:\n",
    "        print '{} {}-{}-{}'.format(airport, day.year, day.month, day.day)\n",
    "        try:\n",
    "            io = url.format(airport, day.year, day.month, day.day)\n",
    "            df = pd.read_html(io=io, attrs= {'id' : 'obsTable'}, header=0)\n",
    "            df = df[0]\n",
    "            df['Airport'] = airport\n",
    "            df['Date'] = day\n",
    "            if df.shape[1] == 15:   # Some dates don't have windchill. remove column if exists\n",
    "                df.drop(df.columns[2], axis=1, inplace=True)\n",
    "            df.to_csv('../Assets/Datasets/Weather/Weather_Hourly_{}.csv'.format(today), header=False, mode='a', index=False,\n",
    "                     encoding='utf-8')\n",
    "        except:\n",
    "            errors.append([airport, day.year, day.month, day.day])"
   ]
  },
  {
   "cell_type": "code",
   "execution_count": null,
   "metadata": {
    "collapsed": true
   },
   "outputs": [],
   "source": []
  },
  {
   "cell_type": "code",
   "execution_count": null,
   "metadata": {
    "collapsed": true
   },
   "outputs": [],
   "source": []
  },
  {
   "cell_type": "code",
   "execution_count": null,
   "metadata": {
    "collapsed": true
   },
   "outputs": [],
   "source": []
  },
  {
   "cell_type": "code",
   "execution_count": null,
   "metadata": {
    "collapsed": true
   },
   "outputs": [],
   "source": []
  },
  {
   "cell_type": "code",
   "execution_count": null,
   "metadata": {
    "collapsed": true
   },
   "outputs": [],
   "source": []
  },
  {
   "cell_type": "code",
   "execution_count": null,
   "metadata": {
    "collapsed": true
   },
   "outputs": [],
   "source": []
  },
  {
   "cell_type": "code",
   "execution_count": null,
   "metadata": {
    "collapsed": true
   },
   "outputs": [],
   "source": []
  }
 ],
 "metadata": {
  "kernelspec": {
   "display_name": "Python [lesson01]",
   "language": "python",
   "name": "Python [lesson01]"
  },
  "language_info": {
   "codemirror_mode": {
    "name": "ipython",
    "version": 2
   },
   "file_extension": ".py",
   "mimetype": "text/x-python",
   "name": "python",
   "nbconvert_exporter": "python",
   "pygments_lexer": "ipython2",
   "version": "2.7.12"
  }
 },
 "nbformat": 4,
 "nbformat_minor": 0
}
