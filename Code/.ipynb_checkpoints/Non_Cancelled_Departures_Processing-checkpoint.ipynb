{
 "cells": [
  {
   "cell_type": "code",
   "execution_count": 1,
   "metadata": {
    "collapsed": false
   },
   "outputs": [],
   "source": [
    "% matplotlib inline\n",
    "import numpy as np\n",
    "import matplotlib.pyplot as plt\n",
    "import pandas as pd\n",
    "import seaborn as sns\n",
    "pd.options.display.max_columns = 40"
   ]
  },
  {
   "cell_type": "code",
   "execution_count": 2,
   "metadata": {
    "collapsed": false
   },
   "outputs": [
    {
     "name": "stdout",
     "output_type": "stream",
     "text": [
      "(2104626, 35)\n"
     ]
    }
   ],
   "source": [
    "df = pd.read_csv('../Assets/Datasets/BTS_flight_data/non_cancelled_departures.csv')\n",
    "print df.shape"
   ]
  },
  {
   "cell_type": "code",
   "execution_count": 3,
   "metadata": {
    "collapsed": false
   },
   "outputs": [
    {
     "name": "stdout",
     "output_type": "stream",
     "text": [
      "diverted (5340, 35)\n",
      "departures (2099286, 35)\n"
     ]
    }
   ],
   "source": [
    "# remove flights that weren't cancelled and have no arrival time or actual elapsed time (diverted?)\n",
    "diverted = df[((df['CANCELLED'] == 0) & \n",
    "         ((df['ARR_TIME'].isnull() == True) | (df['ACTUAL_ELAPSED_TIME'].isnull() == True)))]\n",
    "print 'diverted', diverted.shape\n",
    "\n",
    "df = df[~((df['CANCELLED'] == 0) & \n",
    "         ((df['ARR_TIME'].isnull() == True) | (df['ACTUAL_ELAPSED_TIME'].isnull() == True)))]\n",
    "\n",
    "print 'departures', df.shape"
   ]
  },
  {
   "cell_type": "code",
   "execution_count": 4,
   "metadata": {
    "collapsed": false
   },
   "outputs": [],
   "source": [
    "# Replace CANCELLATION CODE nulls with 'N'\n",
    "df['CANCELLATION_CODE'].fillna('N', inplace=True)"
   ]
  },
  {
   "cell_type": "code",
   "execution_count": 5,
   "metadata": {
    "collapsed": false
   },
   "outputs": [
    {
     "data": {
      "text/plain": [
       "Unnamed: 0                     0\n",
       "YEAR                           0\n",
       "MONTH                          0\n",
       "DAY_OF_MONTH                   0\n",
       "DAY_OF_WEEK                    0\n",
       "FL_DATE                        0\n",
       "UNIQUE_CARRIER                 0\n",
       "TAIL_NUM                       0\n",
       "FL_NUM                         0\n",
       "ORIGIN_AIRPORT_ID              0\n",
       "ORIGIN_CITY_MARKET_ID          0\n",
       "DEST_AIRPORT_ID                0\n",
       "DEST_CITY_MARKET_ID            0\n",
       "CRS_DEP_TIME                   0\n",
       "DEP_TIME                       0\n",
       "DEP_DELAY_NEW                  0\n",
       "TAXI_OUT                       0\n",
       "WHEELS_OFF                     0\n",
       "WHEELS_ON                      0\n",
       "TAXI_IN                        0\n",
       "CRS_ARR_TIME                   0\n",
       "ARR_TIME                       0\n",
       "ARR_DELAY_NEW                  0\n",
       "CANCELLED                      0\n",
       "CANCELLATION_CODE              0\n",
       "CRS_ELAPSED_TIME               0\n",
       "ACTUAL_ELAPSED_TIME            0\n",
       "AIR_TIME                       0\n",
       "FLIGHTS                        0\n",
       "DISTANCE                       0\n",
       "CARRIER_DELAY            1572815\n",
       "WEATHER_DELAY            1572815\n",
       "NAS_DELAY                1572815\n",
       "SECURITY_DELAY           1572815\n",
       "LATE_AIRCRAFT_DELAY      1572815\n",
       "dtype: int64"
      ]
     },
     "execution_count": 5,
     "metadata": {},
     "output_type": "execute_result"
    }
   ],
   "source": [
    "df.isnull().sum()"
   ]
  },
  {
   "cell_type": "code",
   "execution_count": 6,
   "metadata": {
    "collapsed": false
   },
   "outputs": [],
   "source": [
    "# Replace nulls in delay columns with 0\n",
    "df.fillna(value=0, inplace=True)\n",
    "\n",
    "\n",
    "# Create Unknown_Delay column\n",
    "df['UNKNOWN_DELAY'] = df['DEP_DELAY_NEW'] - (df['CARRIER_DELAY'] + df['WEATHER_DELAY'] +df['NAS_DELAY'] + \n",
    "                                             df['SECURITY_DELAY'] + df['LATE_AIRCRAFT_DELAY'])"
   ]
  },
  {
   "cell_type": "code",
   "execution_count": 7,
   "metadata": {
    "collapsed": false
   },
   "outputs": [
    {
     "data": {
      "text/plain": [
       "Unnamed: 0               0\n",
       "YEAR                     0\n",
       "MONTH                    0\n",
       "DAY_OF_MONTH             0\n",
       "DAY_OF_WEEK              0\n",
       "FL_DATE                  0\n",
       "UNIQUE_CARRIER           0\n",
       "TAIL_NUM                 0\n",
       "FL_NUM                   0\n",
       "ORIGIN_AIRPORT_ID        0\n",
       "ORIGIN_CITY_MARKET_ID    0\n",
       "DEST_AIRPORT_ID          0\n",
       "DEST_CITY_MARKET_ID      0\n",
       "CRS_DEP_TIME             0\n",
       "DEP_TIME                 0\n",
       "DEP_DELAY_NEW            0\n",
       "TAXI_OUT                 0\n",
       "WHEELS_OFF               0\n",
       "WHEELS_ON                0\n",
       "TAXI_IN                  0\n",
       "CRS_ARR_TIME             0\n",
       "ARR_TIME                 0\n",
       "ARR_DELAY_NEW            0\n",
       "CANCELLED                0\n",
       "CANCELLATION_CODE        0\n",
       "CRS_ELAPSED_TIME         0\n",
       "ACTUAL_ELAPSED_TIME      0\n",
       "AIR_TIME                 0\n",
       "FLIGHTS                  0\n",
       "DISTANCE                 0\n",
       "CARRIER_DELAY            0\n",
       "WEATHER_DELAY            0\n",
       "NAS_DELAY                0\n",
       "SECURITY_DELAY           0\n",
       "LATE_AIRCRAFT_DELAY      0\n",
       "UNKNOWN_DELAY            0\n",
       "dtype: int64"
      ]
     },
     "execution_count": 7,
     "metadata": {},
     "output_type": "execute_result"
    }
   ],
   "source": [
    "df.isnull().sum()"
   ]
  },
  {
   "cell_type": "code",
   "execution_count": 8,
   "metadata": {
    "collapsed": false
   },
   "outputs": [
    {
     "data": {
      "text/plain": [
       "count    2.099286e+06\n",
       "mean     1.567658e+01\n",
       "std      3.605158e+01\n",
       "min      0.000000e+00\n",
       "25%      0.000000e+00\n",
       "50%      0.000000e+00\n",
       "75%      1.500000e+01\n",
       "max      1.258000e+03\n",
       "Name: DEP_DELAY_NEW, dtype: float64"
      ]
     },
     "execution_count": 8,
     "metadata": {},
     "output_type": "execute_result"
    }
   ],
   "source": [
    "df['DEP_DELAY_NEW'].describe()"
   ]
  },
  {
   "cell_type": "code",
   "execution_count": 9,
   "metadata": {
    "collapsed": false
   },
   "outputs": [],
   "source": [
    "mdw = df[df['ORIGIN_AIRPORT_ID'] == 13232]\n",
    "ohare = df[df['ORIGIN_AIRPORT_ID'] != 13232]"
   ]
  },
  {
   "cell_type": "code",
   "execution_count": 11,
   "metadata": {
    "collapsed": true
   },
   "outputs": [],
   "source": [
    "df['MONTH_DAY'] = df['MONTH'].astype(str) + '-' + df['DAY_OF_MONTH'].astype(str)"
   ]
  },
  {
   "cell_type": "code",
   "execution_count": 13,
   "metadata": {
    "collapsed": false
   },
   "outputs": [],
   "source": [
    "# flights/day/airport\n",
    "flight_count = df.groupby(['ORIGIN_AIRPORT_ID', 'FL_DATE'])['DEP_DELAY_NEW'].agg([np.mean, len]).reset_index()\n",
    "mdw_flight_count = flight_count[flight_count['ORIGIN_AIRPORT_ID'] == 13232]\n",
    "ord_flight_count = flight_count[flight_count['ORIGIN_AIRPORT_ID'] != 13232]"
   ]
  },
  {
   "cell_type": "code",
   "execution_count": 14,
   "metadata": {
    "collapsed": false
   },
   "outputs": [
    {
     "data": {
      "text/plain": [
       "<seaborn.axisgrid.JointGrid at 0x10e39b690>"
      ]
     },
     "execution_count": 14,
     "metadata": {},
     "output_type": "execute_result"
    },
    {
     "data": {
      "image/png": "[encoded data removed]",
      "text/plain": [
       "<matplotlib.figure.Figure at 0x10e38f6d0>"
      ]
     },
     "metadata": {},
     "output_type": "display_data"
    }
   ],
   "source": [
    "sns.jointplot('len', 'mean', data=mdw_flight_count)"
   ]
  },
  {
   "cell_type": "code",
   "execution_count": 15,
   "metadata": {
    "collapsed": false
   },
   "outputs": [
    {
     "data": {
      "text/plain": [
       "<seaborn.axisgrid.JointGrid at 0x10e543310>"
      ]
     },
     "execution_count": 15,
     "metadata": {},
     "output_type": "execute_result"
    },
    {
     "data": {
      "image/png": "[encoded data removed]",
      "text/plain": [
       "<matplotlib.figure.Figure at 0x10e543990>"
      ]
     },
     "metadata": {},
     "output_type": "display_data"
    }
   ],
   "source": [
    "sns.jointplot('len', 'mean', data=ord_flight_count)"
   ]
  },
  {
   "cell_type": "code",
   "execution_count": 16,
   "metadata": {
    "collapsed": false
   },
   "outputs": [
    {
     "data": {
      "text/plain": [
       "WN    440900\n",
       "FL     15327\n",
       "DL     13540\n",
       "F9      5253\n",
       "EV      3859\n",
       "9E      2166\n",
       "OO       964\n",
       "Name: UNIQUE_CARRIER, dtype: int64"
      ]
     },
     "execution_count": 16,
     "metadata": {},
     "output_type": "execute_result"
    }
   ],
   "source": [
    "mdw['UNIQUE_CARRIER'].value_counts()"
   ]
  },
  {
   "cell_type": "code",
   "execution_count": 17,
   "metadata": {
    "collapsed": false
   },
   "outputs": [
    {
     "data": {
      "text/plain": [
       "MQ    369433\n",
       "UA    332599\n",
       "AA    289858\n",
       "EV    237103\n",
       "OO    180790\n",
       "XE     45932\n",
       "DL     36714\n",
       "US     31686\n",
       "YV     27782\n",
       "NK     16890\n",
       "B6     12201\n",
       "AS      9784\n",
       "F9      8304\n",
       "VX      7579\n",
       "CO      7577\n",
       "9E      3045\n",
       "Name: UNIQUE_CARRIER, dtype: int64"
      ]
     },
     "execution_count": 17,
     "metadata": {},
     "output_type": "execute_result"
    }
   ],
   "source": [
    "ohare['UNIQUE_CARRIER'].value_counts()"
   ]
  },
  {
   "cell_type": "code",
   "execution_count": 21,
   "metadata": {
    "collapsed": false
   },
   "outputs": [
    {
     "data": {
      "text/plain": [
       "CARRIER_DELAY          3.933686\n",
       "WEATHER_DELAY          0.632484\n",
       "NAS_DELAY              1.991820\n",
       "SECURITY_DELAY         0.007869\n",
       "LATE_AIRCRAFT_DELAY    5.322179\n",
       "UNKNOWN_DELAY          2.911130\n",
       "dtype: float64"
      ]
     },
     "execution_count": 21,
     "metadata": {},
     "output_type": "execute_result"
    }
   ],
   "source": [
    "mdw.iloc[:, -6:].mean()"
   ]
  },
  {
   "cell_type": "code",
   "execution_count": 22,
   "metadata": {
    "collapsed": false
   },
   "outputs": [
    {
     "data": {
      "text/plain": [
       "CARRIER_DELAY          4.626509\n",
       "WEATHER_DELAY          1.161236\n",
       "NAS_DELAY              3.561446\n",
       "SECURITY_DELAY         0.006547\n",
       "LATE_AIRCRAFT_DELAY    6.058961\n",
       "UNKNOWN_DELAY          0.523378\n",
       "dtype: float64"
      ]
     },
     "execution_count": 22,
     "metadata": {},
     "output_type": "execute_result"
    }
   ],
   "source": [
    "ohare.iloc[:, -6:].mean()"
   ]
  },
  {
   "cell_type": "code",
   "execution_count": null,
   "metadata": {
    "collapsed": true
   },
   "outputs": [],
   "source": []
  },
  {
   "cell_type": "code",
   "execution_count": null,
   "metadata": {
    "collapsed": true
   },
   "outputs": [],
   "source": []
  }
 ],
 "metadata": {
  "anaconda-cloud": {},
  "kernelspec": {
   "display_name": "Python [lesson01]",
   "language": "python",
   "name": "Python [lesson01]"
  },
  "language_info": {
   "codemirror_mode": {
    "name": "ipython",
    "version": 2
   },
   "file_extension": ".py",
   "mimetype": "text/x-python",
   "name": "python",
   "nbconvert_exporter": "python",
   "pygments_lexer": "ipython2",
   "version": "2.7.12"
  }
 },
 "nbformat": 4,
 "nbformat_minor": 0
}
