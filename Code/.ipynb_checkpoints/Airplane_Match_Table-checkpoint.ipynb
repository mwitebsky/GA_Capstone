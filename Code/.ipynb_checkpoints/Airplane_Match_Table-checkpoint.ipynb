{
 "cells": [
  {
   "cell_type": "code",
   "execution_count": 1,
   "metadata": {
    "collapsed": true
   },
   "outputs": [],
   "source": [
    "import pandas as pd"
   ]
  },
  {
   "cell_type": "code",
   "execution_count": 57,
   "metadata": {
    "collapsed": false
   },
   "outputs": [],
   "source": [
    "# Import aircraft reference\n",
    "match = pd.read_csv('../Assets/Datasets/Aircraft_Registration_Databse/Raw/ACFTREF.txt')"
   ]
  },
  {
   "cell_type": "code",
   "execution_count": 58,
   "metadata": {
    "collapsed": false
   },
   "outputs": [],
   "source": [
    "# Remove unicode from column names\n",
    "match.columns = ['CODE',\n",
    " 'MFR',\n",
    " 'MODEL',\n",
    " 'TYPE-ACFT',\n",
    " 'TYPE-ENG',\n",
    " 'AC-CAT',\n",
    " 'BUILD-CERT-IND',\n",
    " 'NO-ENG',\n",
    " 'NO-SEATS',\n",
    " 'AC-WEIGHT',\n",
    " 'SPEED',\n",
    " 'Unnamed: 11']"
   ]
  },
  {
   "cell_type": "code",
   "execution_count": 59,
   "metadata": {
    "collapsed": true
   },
   "outputs": [],
   "source": [
    "# import registered aircraft\n",
    "data = pd.read_csv('../Assets/Datasets/Aircraft_Registration_Databse/Raw/MASTER.txt')"
   ]
  },
  {
   "cell_type": "code",
   "execution_count": 60,
   "metadata": {
    "collapsed": true
   },
   "outputs": [],
   "source": [
    "# Remove unicode from column names\n",
    "data.columns = ['N-NUMBER',\n",
    " 'SERIAL NUMBER',\n",
    " 'MFR MDL CODE',\n",
    " 'ENG MFR MDL',\n",
    " 'YEAR MFR',\n",
    " 'TYPE REGISTRANT',\n",
    " 'NAME',\n",
    " 'STREET',\n",
    " 'STREET2',\n",
    " 'CITY',\n",
    " 'STATE',\n",
    " 'ZIP CODE',\n",
    " 'REGION',\n",
    " 'COUNTY',\n",
    " 'COUNTRY',\n",
    " 'LAST ACTION DATE',\n",
    " 'CERT ISSUE DATE',\n",
    " 'CERTIFICATION',\n",
    " 'TYPE AIRCRAFT',\n",
    " 'TYPE ENGINE',\n",
    " 'STATUS CODE',\n",
    " 'MODE S CODE',\n",
    " 'FRACT OWNER',\n",
    " 'AIR WORTH DATE',\n",
    " 'OTHER NAMES(1)',\n",
    " 'OTHER NAMES(2)',\n",
    " 'OTHER NAMES(3)',\n",
    " 'OTHER NAMES(4)',\n",
    " 'OTHER NAMES(5)',\n",
    " 'EXPIRATION DATE',\n",
    " 'UNIQUE ID',\n",
    " 'KIT MFR',\n",
    " ' KIT MODEL',\n",
    " 'MODE S CODE HEX',\n",
    " 'Unnamed: 34']"
   ]
  },
  {
   "cell_type": "code",
   "execution_count": 61,
   "metadata": {
    "collapsed": true
   },
   "outputs": [],
   "source": [
    "# import deregistered aircraft\n",
    "dereg = pd.read_csv('../Assets/Datasets/Aircraft_Registration_Databse/Raw/DEREG.txt')"
   ]
  },
  {
   "cell_type": "code",
   "execution_count": 62,
   "metadata": {
    "collapsed": false
   },
   "outputs": [],
   "source": [
    "# Remove unicode from column names\n",
    "dereg.columns = ['N-NUMBER',\n",
    " 'SERIAL-NUMBER',\n",
    " 'MFR-MDL-CODE',\n",
    " 'STATUS-CODE',\n",
    " 'NAME',\n",
    " 'STREET-MAIL',\n",
    " 'STREET2-MAIL',\n",
    " 'CITY-MAIL',\n",
    " 'STATE-ABBREV-MAIL',\n",
    " 'ZIP-CODE-MAIL',\n",
    " 'ENG-MFR-MDL',\n",
    " 'YEAR-MFR',\n",
    " 'CERTIFICATION',\n",
    " 'REGION',\n",
    " 'COUNTY-MAIL',\n",
    " 'COUNTRY-MAIL',\n",
    " 'AIR-WORTH-DATE',\n",
    " 'CANCEL-DATE',\n",
    " 'MODE-S-CODE',\n",
    " 'INDICATOR-GROUP',\n",
    " 'EXP-COUNTRY',\n",
    " 'LAST-ACT-DATE',\n",
    " 'CERT-ISSUE-DATE',\n",
    " 'STREET-PHYSICAL',\n",
    " 'STREET2-PHYSICAL',\n",
    " 'CITY-PHYSICAL',\n",
    " 'STATE-ABBREV-PHYSICAL',\n",
    " 'ZIP-CODE-PHYSICAL',\n",
    " 'COUNTY-PHYSICAL',\n",
    " 'COUNTRY-PHYSICAL',\n",
    " 'OTHER-NAMES(1)',\n",
    " 'OTHER-NAMES(2)',\n",
    " 'OTHER-NAMES(3)',\n",
    " 'OTHER-NAMES(4)',\n",
    " 'OTHER-NAMES(5)',\n",
    " 'KIT MFR',\n",
    " ' KIT MODEL',\n",
    " 'MODE S CODE HEX',\n",
    " 'Unnamed: 38']"
   ]
  },
  {
   "cell_type": "code",
   "execution_count": 63,
   "metadata": {
    "collapsed": false
   },
   "outputs": [],
   "source": [
    "data = data[['N-NUMBER', 'SERIAL NUMBER', 'YEAR MFR', 'MFR MDL CODE', 'CERT ISSUE DATE']]\n",
    "data['CURRENT_REG'] = 1\n",
    "data.columns = [['N-NUMBER', 'SERIAL NUMBER', 'YEAR MFR', 'MFR MDL CODE', 'DATE', 'CURRENT_REG']]\n",
    "dereg = dereg[['N-NUMBER', 'SERIAL-NUMBER', 'YEAR-MFR', 'MFR-MDL-CODE', 'CANCEL-DATE']]\n",
    "dereg['CURRENT_REG'] = 0\n",
    "dereg.columns = [['N-NUMBER', 'SERIAL NUMBER', 'YEAR MFR', 'MFR MDL CODE', 'DATE', 'CURRENT_REG']]"
   ]
  },
  {
   "cell_type": "code",
   "execution_count": 64,
   "metadata": {
    "collapsed": true
   },
   "outputs": [],
   "source": [
    "data = pd.concat([data, dereg])"
   ]
  },
  {
   "cell_type": "code",
   "execution_count": 65,
   "metadata": {
    "collapsed": false
   },
   "outputs": [],
   "source": [
    "data.reset_index(inplace=True)"
   ]
  },
  {
   "cell_type": "code",
   "execution_count": 66,
   "metadata": {
    "collapsed": false
   },
   "outputs": [
    {
     "data": {
      "text/plain": [
       "(587579, 7)"
      ]
     },
     "execution_count": 66,
     "metadata": {},
     "output_type": "execute_result"
    }
   ],
   "source": [
    "data.shape"
   ]
  },
  {
   "cell_type": "code",
   "execution_count": 67,
   "metadata": {
    "collapsed": false
   },
   "outputs": [],
   "source": [
    "data.drop_duplicates(subset=['N-NUMBER', 'CURRENT_REG'], inplace=True)"
   ]
  },
  {
   "cell_type": "code",
   "execution_count": 68,
   "metadata": {
    "collapsed": false
   },
   "outputs": [
    {
     "data": {
      "text/plain": [
       "(543319, 7)"
      ]
     },
     "execution_count": 68,
     "metadata": {},
     "output_type": "execute_result"
    }
   ],
   "source": [
    "data.shape"
   ]
  },
  {
   "cell_type": "code",
   "execution_count": 74,
   "metadata": {
    "collapsed": true
   },
   "outputs": [],
   "source": [
    "dataz = data.merge(match, left_on='MFR MDL CODE', right_on='CODE', how='left')"
   ]
  },
  {
   "cell_type": "code",
   "execution_count": 75,
   "metadata": {
    "collapsed": true
   },
   "outputs": [],
   "source": [
    "dataz = dataz[['N-NUMBER', 'CURRENT_REG', 'YEAR MFR', 'CODE', 'MFR', 'MODEL']]"
   ]
  },
  {
   "cell_type": "code",
   "execution_count": 76,
   "metadata": {
    "collapsed": true
   },
   "outputs": [],
   "source": [
    "dataz['N-NUMBER'] = dataz['N-NUMBER'].apply(lambda x: 'N' + str(x))"
   ]
  },
  {
   "cell_type": "code",
   "execution_count": 77,
   "metadata": {
    "collapsed": false
   },
   "outputs": [
    {
     "data": {
      "text/plain": [
       "N-NUMBER        0\n",
       "CURRENT_REG     0\n",
       "YEAR MFR        0\n",
       "CODE           36\n",
       "MFR            36\n",
       "MODEL          36\n",
       "dtype: int64"
      ]
     },
     "execution_count": 77,
     "metadata": {},
     "output_type": "execute_result"
    }
   ],
   "source": [
    "dataz.isnull().sum()"
   ]
  },
  {
   "cell_type": "code",
   "execution_count": 83,
   "metadata": {
    "collapsed": true
   },
   "outputs": [],
   "source": [
    "dataz.dropna(inplace=True)"
   ]
  },
  {
   "cell_type": "code",
   "execution_count": 86,
   "metadata": {
    "collapsed": true
   },
   "outputs": [],
   "source": [
    "dataz.to_csv('../Assets/Datasets/Aircraft_Registration_Databse/Processed/N_Number_Year_Model.csv', index=False)"
   ]
  },
  {
   "cell_type": "code",
   "execution_count": null,
   "metadata": {
    "collapsed": true
   },
   "outputs": [],
   "source": []
  }
 ],
 "metadata": {
  "kernelspec": {
   "display_name": "Python [lesson01]",
   "language": "python",
   "name": "Python [lesson01]"
  },
  "language_info": {
   "codemirror_mode": {
    "name": "ipython",
    "version": 2
   },
   "file_extension": ".py",
   "mimetype": "text/x-python",
   "name": "python",
   "nbconvert_exporter": "python",
   "pygments_lexer": "ipython2",
   "version": "2.7.12"
  }
 },
 "nbformat": 4,
 "nbformat_minor": 0
}
