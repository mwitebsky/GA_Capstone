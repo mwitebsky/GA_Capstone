{
 "cells": [
  {
   "cell_type": "code",
   "execution_count": 1,
   "metadata": {
    "collapsed": true
   },
   "outputs": [],
   "source": [
    "import pandas as pd\n",
    "pd.options.display.max_columns = 40"
   ]
  },
  {
   "cell_type": "code",
   "execution_count": 7,
   "metadata": {
    "collapsed": false
   },
   "outputs": [
    {
     "name": "stdout",
     "output_type": "stream",
     "text": [
      "(2155102, 35)\n"
     ]
    }
   ],
   "source": [
    "df = pd.read_csv('../Assets/Datasets/BTS_flight_data/all_departures.csv')\n",
    "print df.shape"
   ]
  },
  {
   "cell_type": "code",
   "execution_count": 8,
   "metadata": {
    "collapsed": false
   },
   "outputs": [
    {
     "name": "stdout",
     "output_type": "stream",
     "text": [
      "diverted (5340, 35)\n",
      "departures (2149762, 35)\n"
     ]
    }
   ],
   "source": [
    "# remove flights that weren't cancelled and have no arrival time or actual elapsed time (diverted?)\n",
    "diverted = df[((df['CANCELLED'] == 0) & \n",
    "         ((df['ARR_TIME'].isnull() == True) | (df['ACTUAL_ELAPSED_TIME'].isnull() == True)))]\n",
    "print 'diverted', diverted.shape\n",
    "\n",
    "df = df[~((df['CANCELLED'] == 0) & \n",
    "         ((df['ARR_TIME'].isnull() == True) | (df['ACTUAL_ELAPSED_TIME'].isnull() == True)))]\n",
    "\n",
    "print 'departures', df.shape"
   ]
  },
  {
   "cell_type": "code",
   "execution_count": 9,
   "metadata": {
    "collapsed": true
   },
   "outputs": [],
   "source": [
    "# Replace CANCELLATION CODE nulls with 'N'\n",
    "df['CANCELLATION_CODE'].fillna('N', inplace=True)"
   ]
  },
  {
   "cell_type": "code",
   "execution_count": 13,
   "metadata": {
    "collapsed": false
   },
   "outputs": [
    {
     "data": {
      "text/plain": [
       "50476.0"
      ]
     },
     "execution_count": 13,
     "metadata": {},
     "output_type": "execute_result"
    }
   ],
   "source": [
    "df['CANCELLED'].sum()"
   ]
  },
  {
   "cell_type": "code",
   "execution_count": 15,
   "metadata": {
    "collapsed": false
   },
   "outputs": [
    {
     "data": {
      "text/plain": [
       "0.023479808462518178"
      ]
     },
     "execution_count": 15,
     "metadata": {},
     "output_type": "execute_result"
    }
   ],
   "source": [
    "50476/2149762.0"
   ]
  },
  {
   "cell_type": "code",
   "execution_count": 22,
   "metadata": {
    "collapsed": false
   },
   "outputs": [],
   "source": [
    "# Remove columns unrealted to cancellations\n",
    "df = df[['YEAR', 'MONTH', 'DAY_OF_MONTH', 'DAY_OF_WEEK', 'FL_DATE', 'UNIQUE_CARRIER', 'TAIL_NUM',\n",
    "        'FL_NUM', 'ORIGIN_AIRPORT_ID', 'DEST_AIRPORT_ID', 'DEST_CITY_MARKET_ID',\n",
    "        'CRS_DEP_TIME', 'CANCELLED', 'CANCELLATION_CODE', 'FLIGHTS']]"
   ]
  },
  {
   "cell_type": "code",
   "execution_count": 21,
   "metadata": {
    "collapsed": false
   },
   "outputs": [
    {
     "data": {
      "text/plain": [
       "YEAR                     0\n",
       "MONTH                    0\n",
       "DAY_OF_MONTH             0\n",
       "DAY_OF_WEEK              0\n",
       "FL_DATE                  0\n",
       "UNIQUE_CARRIER           0\n",
       "TAIL_NUM                 0\n",
       "FL_NUM                   0\n",
       "ORIGIN_AIRPORT_ID        0\n",
       "ORIGIN_CITY_MARKET_ID    0\n",
       "DEST_AIRPORT_ID          0\n",
       "DEST_CITY_MARKET_ID      0\n",
       "CRS_DEP_TIME             0\n",
       "CANCELLED                0\n",
       "CANCELLATION_CODE        0\n",
       "FLIGHTS                  0\n",
       "dtype: int64"
      ]
     },
     "execution_count": 21,
     "metadata": {},
     "output_type": "execute_result"
    }
   ],
   "source": [
    "df.isnull().sum()"
   ]
  },
  {
   "cell_type": "code",
   "execution_count": 26,
   "metadata": {
    "collapsed": false
   },
   "outputs": [],
   "source": [
    "df['FL_DATE'] = pd.to_datetime(df['FL_DATE'])"
   ]
  },
  {
   "cell_type": "code",
   "execution_count": 29,
   "metadata": {
    "collapsed": false
   },
   "outputs": [
    {
     "data": {
      "text/plain": [
       "YEAR                            int64\n",
       "MONTH                           int64\n",
       "DAY_OF_MONTH                    int64\n",
       "DAY_OF_WEEK                     int64\n",
       "FL_DATE                datetime64[ns]\n",
       "UNIQUE_CARRIER                 object\n",
       "TAIL_NUM                       object\n",
       "FL_NUM                          int64\n",
       "ORIGIN_AIRPORT_ID               int64\n",
       "DEST_AIRPORT_ID                 int64\n",
       "DEST_CITY_MARKET_ID             int64\n",
       "CRS_DEP_TIME                    int64\n",
       "CANCELLED                     float64\n",
       "CANCELLATION_CODE              object\n",
       "FLIGHTS                       float64\n",
       "dtype: object"
      ]
     },
     "execution_count": 29,
     "metadata": {},
     "output_type": "execute_result"
    }
   ],
   "source": [
    "df.dtypes"
   ]
  },
  {
   "cell_type": "code",
   "execution_count": 32,
   "metadata": {
    "collapsed": false
   },
   "outputs": [],
   "source": [
    "df['MONTH_DAY'] = df['MONTH'].astype(str) + '-' + df['DAY_OF_MONTH'].astype(str)"
   ]
  },
  {
   "cell_type": "code",
   "execution_count": 34,
   "metadata": {
    "collapsed": false
   },
   "outputs": [
    {
     "data": {
      "text/plain": [
       "0           1-1\n",
       "1           1-2\n",
       "2           1-3\n",
       "3           1-4\n",
       "4           1-7\n",
       "5           1-8\n",
       "7          1-10\n",
       "8          1-14\n",
       "9          1-15\n",
       "10         1-16\n",
       "11         1-17\n",
       "12         1-21\n",
       "13         1-22\n",
       "14         1-23\n",
       "15         1-24\n",
       "16         1-28\n",
       "17         1-29\n",
       "18         1-30\n",
       "19         1-31\n",
       "20          1-1\n",
       "21          1-2\n",
       "22          1-3\n",
       "23          1-4\n",
       "24          1-5\n",
       "25          1-6\n",
       "26          1-7\n",
       "27          1-8\n",
       "28          1-9\n",
       "29         1-10\n",
       "30         1-11\n",
       "           ... \n",
       "2155072    7-31\n",
       "2155073    7-31\n",
       "2155074    7-31\n",
       "2155075    7-31\n",
       "2155076    7-31\n",
       "2155077    7-31\n",
       "2155078    7-31\n",
       "2155079    7-31\n",
       "2155080    7-31\n",
       "2155081    7-31\n",
       "2155082    7-31\n",
       "2155083    7-31\n",
       "2155084    7-31\n",
       "2155085    7-31\n",
       "2155086    7-31\n",
       "2155087    7-31\n",
       "2155088    7-31\n",
       "2155089    7-31\n",
       "2155090    7-31\n",
       "2155091    7-31\n",
       "2155092    7-31\n",
       "2155093    7-31\n",
       "2155094    7-31\n",
       "2155095    7-31\n",
       "2155096    7-31\n",
       "2155097    7-31\n",
       "2155098    7-31\n",
       "2155099    7-31\n",
       "2155100    7-31\n",
       "2155101    7-31\n",
       "Name: MONTH_DAY, dtype: object"
      ]
     },
     "execution_count": 34,
     "metadata": {},
     "output_type": "execute_result"
    }
   ],
   "source": [
    "df['MONTH_DAY']"
   ]
  },
  {
   "cell_type": "code",
   "execution_count": null,
   "metadata": {
    "collapsed": true
   },
   "outputs": [],
   "source": []
  }
 ],
 "metadata": {
  "kernelspec": {
   "display_name": "Python [lesson01]",
   "language": "python",
   "name": "Python [lesson01]"
  },
  "language_info": {
   "codemirror_mode": {
    "name": "ipython",
    "version": 2
   },
   "file_extension": ".py",
   "mimetype": "text/x-python",
   "name": "python",
   "nbconvert_exporter": "python",
   "pygments_lexer": "ipython2",
   "version": "2.7.12"
  }
 },
 "nbformat": 4,
 "nbformat_minor": 0
}
