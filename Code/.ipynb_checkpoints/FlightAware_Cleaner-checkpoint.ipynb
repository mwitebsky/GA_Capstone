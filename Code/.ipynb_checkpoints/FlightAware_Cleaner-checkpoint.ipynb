{
 "cells": [
  {
   "cell_type": "code",
   "execution_count": 26,
   "metadata": {
    "collapsed": true
   },
   "outputs": [],
   "source": [
    "import pandas as pd\n",
    "import numpy as np"
   ]
  },
  {
   "cell_type": "code",
   "execution_count": 27,
   "metadata": {
    "collapsed": true
   },
   "outputs": [],
   "source": [
    "data = pd.read_csv('../Assets/Datasets/FlightTracker_Airplane/FA_NNumber_Scrape.csv')\n",
    "data.drop('Unnamed: 0', axis=1, inplace=True)"
   ]
  },
  {
   "cell_type": "code",
   "execution_count": 28,
   "metadata": {
    "collapsed": false
   },
   "outputs": [],
   "source": [
    "# import match tables\n",
    "mfr_match = pd.read_csv('../Assets/Datasets/FlightTracker_Airplane/MFR_Match.csv')\n",
    "model_match = pd.read_csv('../Assets/Datasets/FlightTracker_Airplane/Model_Match.csv')"
   ]
  },
  {
   "cell_type": "code",
   "execution_count": 29,
   "metadata": {
    "collapsed": true
   },
   "outputs": [],
   "source": [
    "# merge match tables\n",
    "data = pd.merge(data, mfr_match, left_on= 'mfr', right_on='MFR', how='left')\n",
    "data = pd.merge(data, model_match, on='model', how='left')\n",
    "data = data.drop_duplicates()"
   ]
  },
  {
   "cell_type": "code",
   "execution_count": 30,
   "metadata": {
    "collapsed": true
   },
   "outputs": [],
   "source": [
    "# remove useless columns and rename columsn\n",
    "data = data[['N-NUMBER', 'New_MFR', 'New_Model', 'mfr_year', 'seats']]\n",
    "data.columns = ['N-NUMBER', 'mfr', 'Model', 'mfr_year', 'seats']\n",
    "# Remove rows without mfr or model\n",
    "data.dropna(subset=['mfr', 'Model', 'seats'], inplace=True)"
   ]
  },
  {
   "cell_type": "code",
   "execution_count": 31,
   "metadata": {
    "collapsed": false
   },
   "outputs": [
    {
     "name": "stderr",
     "output_type": "stream",
     "text": [
      "/Users/mwitebsky/anaconda2/envs/lesson01/lib/python2.7/site-packages/ipykernel/__main__.py:3: SettingWithCopyWarning: \n",
      "A value is trying to be set on a copy of a slice from a DataFrame.\n",
      "Try using .loc[row_indexer,col_indexer] = value instead\n",
      "\n",
      "See the caveats in the documentation: http://pandas.pydata.org/pandas-docs/stable/indexing.html#indexing-view-versus-copy\n",
      "  app.launch_new_instance()\n"
     ]
    }
   ],
   "source": [
    "# Calculate average year for each mfr/model\n",
    "data_full = data[data['mfr_year'].isnull() == False]\n",
    "data_full['mfr_year'] = data_full['mfr_year'].astype(int)\n",
    "avgs = data_full.groupby(['mfr', 'Model'])['mfr_year'].agg('mean')\n",
    "avgs = pd.DataFrame(avgs).reset_index()\n",
    "avgs['mfr_year'] = avgs['mfr_year'].astype(int)"
   ]
  },
  {
   "cell_type": "code",
   "execution_count": 32,
   "metadata": {
    "collapsed": true
   },
   "outputs": [],
   "source": [
    "# Fill missing years\n",
    "needs_year = data[data['mfr_year'].isnull()]\n",
    "needs_year = pd.merge(needs_year, avgs, on=['mfr', 'Model'], how='left')\n",
    "needs_year = needs_year[['mfr', 'Model', 'mfr_year_y']]\n",
    "needs_year.columns = ['mfr', 'Model', 'mfr_year']"
   ]
  },
  {
   "cell_type": "code",
   "execution_count": 33,
   "metadata": {
    "collapsed": true
   },
   "outputs": [],
   "source": [
    "# fill missing years with avg years. then drop missing year rows\n",
    "data.dropna(inplace=True)\n",
    "data = pd.concat([data, needs_year])\n",
    "data.dropna(inplace=True)\n",
    "data = data[['N-NUMBER', 'mfr', 'Model', 'mfr_year', 'seats']]"
   ]
  },
  {
   "cell_type": "code",
   "execution_count": 35,
   "metadata": {
    "collapsed": false
   },
   "outputs": [],
   "source": [
    "data.to_csv('../Assets/Datasets/FlightTracker_Airplane/FA_Airplane_Info_Clean.csv')"
   ]
  },
  {
   "cell_type": "code",
   "execution_count": null,
   "metadata": {
    "collapsed": true
   },
   "outputs": [],
   "source": []
  }
 ],
 "metadata": {
  "anaconda-cloud": {},
  "kernelspec": {
   "display_name": "Python [lesson01]",
   "language": "python",
   "name": "Python [lesson01]"
  },
  "language_info": {
   "codemirror_mode": {
    "name": "ipython",
    "version": 2
   },
   "file_extension": ".py",
   "mimetype": "text/x-python",
   "name": "python",
   "nbconvert_exporter": "python",
   "pygments_lexer": "ipython2",
   "version": "2.7.12"
  }
 },
 "nbformat": 4,
 "nbformat_minor": 0
}
