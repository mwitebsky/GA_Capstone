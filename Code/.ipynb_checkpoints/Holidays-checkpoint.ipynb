{
 "cells": [
  {
   "cell_type": "code",
   "execution_count": 11,
   "metadata": {
    "collapsed": false
   },
   "outputs": [],
   "source": [
    "from datetime import date\n",
    "import holidays\n",
    "import pandas as pd"
   ]
  },
  {
   "cell_type": "code",
   "execution_count": 14,
   "metadata": {
    "collapsed": false
   },
   "outputs": [],
   "source": [
    "us_holidays = holidays.US(years=range(2011,2021))"
   ]
  },
  {
   "cell_type": "code",
   "execution_count": 16,
   "metadata": {
    "collapsed": false
   },
   "outputs": [
    {
     "data": {
      "text/plain": [
       "[[datetime.date(2010, 12, 31), \"New Year's Day (Observed)\"],\n",
       " [datetime.date(2011, 1, 1), \"New Year's Day\"],\n",
       " [datetime.date(2011, 1, 17), 'Martin Luther King, Jr. Day'],\n",
       " [datetime.date(2011, 2, 21), \"Washington's Birthday\"],\n",
       " [datetime.date(2011, 5, 30), 'Memorial Day'],\n",
       " [datetime.date(2011, 7, 4), 'Independence Day'],\n",
       " [datetime.date(2011, 9, 5), 'Labor Day'],\n",
       " [datetime.date(2011, 10, 10), 'Columbus Day'],\n",
       " [datetime.date(2011, 11, 11), 'Veterans Day'],\n",
       " [datetime.date(2011, 11, 24), 'Thanksgiving'],\n",
       " [datetime.date(2011, 12, 25), 'Christmas Day'],\n",
       " [datetime.date(2011, 12, 26), 'Christmas Day (Observed)'],\n",
       " [datetime.date(2012, 1, 1), \"New Year's Day\"],\n",
       " [datetime.date(2012, 1, 2), \"New Year's Day (Observed)\"],\n",
       " [datetime.date(2012, 1, 16), 'Martin Luther King, Jr. Day'],\n",
       " [datetime.date(2012, 2, 20), \"Washington's Birthday\"],\n",
       " [datetime.date(2012, 5, 28), 'Memorial Day'],\n",
       " [datetime.date(2012, 7, 4), 'Independence Day'],\n",
       " [datetime.date(2012, 9, 3), 'Labor Day'],\n",
       " [datetime.date(2012, 10, 8), 'Columbus Day'],\n",
       " [datetime.date(2012, 11, 11), 'Veterans Day'],\n",
       " [datetime.date(2012, 11, 12), 'Veterans Day (Observed)'],\n",
       " [datetime.date(2012, 11, 22), 'Thanksgiving'],\n",
       " [datetime.date(2012, 12, 25), 'Christmas Day'],\n",
       " [datetime.date(2013, 1, 1), \"New Year's Day\"],\n",
       " [datetime.date(2013, 1, 21), 'Martin Luther King, Jr. Day'],\n",
       " [datetime.date(2013, 2, 18), \"Washington's Birthday\"],\n",
       " [datetime.date(2013, 5, 27), 'Memorial Day'],\n",
       " [datetime.date(2013, 7, 4), 'Independence Day'],\n",
       " [datetime.date(2013, 9, 2), 'Labor Day'],\n",
       " [datetime.date(2013, 10, 14), 'Columbus Day'],\n",
       " [datetime.date(2013, 11, 11), 'Veterans Day'],\n",
       " [datetime.date(2013, 11, 28), 'Thanksgiving'],\n",
       " [datetime.date(2013, 12, 25), 'Christmas Day'],\n",
       " [datetime.date(2014, 1, 1), \"New Year's Day\"],\n",
       " [datetime.date(2014, 1, 20), 'Martin Luther King, Jr. Day'],\n",
       " [datetime.date(2014, 2, 17), \"Washington's Birthday\"],\n",
       " [datetime.date(2014, 5, 26), 'Memorial Day'],\n",
       " [datetime.date(2014, 7, 4), 'Independence Day'],\n",
       " [datetime.date(2014, 9, 1), 'Labor Day'],\n",
       " [datetime.date(2014, 10, 13), 'Columbus Day'],\n",
       " [datetime.date(2014, 11, 11), 'Veterans Day'],\n",
       " [datetime.date(2014, 11, 27), 'Thanksgiving'],\n",
       " [datetime.date(2014, 12, 25), 'Christmas Day'],\n",
       " [datetime.date(2015, 1, 1), \"New Year's Day\"],\n",
       " [datetime.date(2015, 1, 19), 'Martin Luther King, Jr. Day'],\n",
       " [datetime.date(2015, 2, 16), \"Washington's Birthday\"],\n",
       " [datetime.date(2015, 5, 25), 'Memorial Day'],\n",
       " [datetime.date(2015, 7, 3), 'Independence Day (Observed)'],\n",
       " [datetime.date(2015, 7, 4), 'Independence Day'],\n",
       " [datetime.date(2015, 9, 7), 'Labor Day'],\n",
       " [datetime.date(2015, 10, 12), 'Columbus Day'],\n",
       " [datetime.date(2015, 11, 11), 'Veterans Day'],\n",
       " [datetime.date(2015, 11, 26), 'Thanksgiving'],\n",
       " [datetime.date(2015, 12, 25), 'Christmas Day'],\n",
       " [datetime.date(2016, 1, 1), \"New Year's Day\"],\n",
       " [datetime.date(2016, 1, 18), 'Martin Luther King, Jr. Day'],\n",
       " [datetime.date(2016, 2, 15), \"Washington's Birthday\"],\n",
       " [datetime.date(2016, 5, 30), 'Memorial Day'],\n",
       " [datetime.date(2016, 7, 4), 'Independence Day'],\n",
       " [datetime.date(2016, 9, 5), 'Labor Day'],\n",
       " [datetime.date(2016, 10, 10), 'Columbus Day'],\n",
       " [datetime.date(2016, 11, 11), 'Veterans Day'],\n",
       " [datetime.date(2016, 11, 24), 'Thanksgiving'],\n",
       " [datetime.date(2016, 12, 25), 'Christmas Day'],\n",
       " [datetime.date(2016, 12, 26), 'Christmas Day (Observed)'],\n",
       " [datetime.date(2017, 1, 1), \"New Year's Day\"],\n",
       " [datetime.date(2017, 1, 2), \"New Year's Day (Observed)\"],\n",
       " [datetime.date(2017, 1, 16), 'Martin Luther King, Jr. Day'],\n",
       " [datetime.date(2017, 2, 20), \"Washington's Birthday\"],\n",
       " [datetime.date(2017, 5, 29), 'Memorial Day'],\n",
       " [datetime.date(2017, 7, 4), 'Independence Day'],\n",
       " [datetime.date(2017, 9, 4), 'Labor Day'],\n",
       " [datetime.date(2017, 10, 9), 'Columbus Day'],\n",
       " [datetime.date(2017, 11, 10), 'Veterans Day (Observed)'],\n",
       " [datetime.date(2017, 11, 11), 'Veterans Day'],\n",
       " [datetime.date(2017, 11, 23), 'Thanksgiving'],\n",
       " [datetime.date(2017, 12, 25), 'Christmas Day'],\n",
       " [datetime.date(2018, 1, 1), \"New Year's Day\"],\n",
       " [datetime.date(2018, 1, 15), 'Martin Luther King, Jr. Day'],\n",
       " [datetime.date(2018, 2, 19), \"Washington's Birthday\"],\n",
       " [datetime.date(2018, 5, 28), 'Memorial Day'],\n",
       " [datetime.date(2018, 7, 4), 'Independence Day'],\n",
       " [datetime.date(2018, 9, 3), 'Labor Day'],\n",
       " [datetime.date(2018, 10, 8), 'Columbus Day'],\n",
       " [datetime.date(2018, 11, 11), 'Veterans Day'],\n",
       " [datetime.date(2018, 11, 12), 'Veterans Day (Observed)'],\n",
       " [datetime.date(2018, 11, 22), 'Thanksgiving'],\n",
       " [datetime.date(2018, 12, 25), 'Christmas Day'],\n",
       " [datetime.date(2019, 1, 1), \"New Year's Day\"],\n",
       " [datetime.date(2019, 1, 21), 'Martin Luther King, Jr. Day'],\n",
       " [datetime.date(2019, 2, 18), \"Washington's Birthday\"],\n",
       " [datetime.date(2019, 5, 27), 'Memorial Day'],\n",
       " [datetime.date(2019, 7, 4), 'Independence Day'],\n",
       " [datetime.date(2019, 9, 2), 'Labor Day'],\n",
       " [datetime.date(2019, 10, 14), 'Columbus Day'],\n",
       " [datetime.date(2019, 11, 11), 'Veterans Day'],\n",
       " [datetime.date(2019, 11, 28), 'Thanksgiving'],\n",
       " [datetime.date(2019, 12, 25), 'Christmas Day'],\n",
       " [datetime.date(2020, 1, 1), \"New Year's Day\"],\n",
       " [datetime.date(2020, 1, 20), 'Martin Luther King, Jr. Day'],\n",
       " [datetime.date(2020, 2, 17), \"Washington's Birthday\"],\n",
       " [datetime.date(2020, 5, 25), 'Memorial Day'],\n",
       " [datetime.date(2020, 7, 3), 'Independence Day (Observed)'],\n",
       " [datetime.date(2020, 7, 4), 'Independence Day'],\n",
       " [datetime.date(2020, 9, 7), 'Labor Day'],\n",
       " [datetime.date(2020, 10, 12), 'Columbus Day'],\n",
       " [datetime.date(2020, 11, 11), 'Veterans Day'],\n",
       " [datetime.date(2020, 11, 26), 'Thanksgiving'],\n",
       " [datetime.date(2020, 12, 25), 'Christmas Day']]"
      ]
     },
     "execution_count": 16,
     "metadata": {},
     "output_type": "execute_result"
    }
   ],
   "source": [
    "days = []\n",
    "for date, name in sorted(us_holidays.items()):\n",
    "    days.append([date, name])\n",
    "days"
   ]
  },
  {
   "cell_type": "code",
   "execution_count": null,
   "metadata": {
    "collapsed": true
   },
   "outputs": [],
   "source": []
  }
 ],
 "metadata": {
  "kernelspec": {
   "display_name": "Python [lesson01]",
   "language": "python",
   "name": "Python [lesson01]"
  },
  "language_info": {
   "codemirror_mode": {
    "name": "ipython",
    "version": 2
   },
   "file_extension": ".py",
   "mimetype": "text/x-python",
   "name": "python",
   "nbconvert_exporter": "python",
   "pygments_lexer": "ipython2",
   "version": "2.7.12"
  }
 },
 "nbformat": 4,
 "nbformat_minor": 0
}
