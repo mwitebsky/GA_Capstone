{
 "cells": [
  {
   "cell_type": "code",
   "execution_count": 1,
   "metadata": {
    "collapsed": true
   },
   "outputs": [],
   "source": [
    "import pandas as pd\n",
    "from urllib2 import urlopen\n",
    "from bs4 import BeautifulSoup\n",
    "from datetime import date, datetime, timedelta\n",
    "from time import sleep"
   ]
  },
  {
   "cell_type": "code",
   "execution_count": 5,
   "metadata": {
    "collapsed": false
   },
   "outputs": [],
   "source": [
    "url = 'https://www.wunderground.com/history/airport/{}/{}/{}/{}/DailyHistory.html'"
   ]
  },
  {
   "cell_type": "code",
   "execution_count": 21,
   "metadata": {
    "collapsed": false
   },
   "outputs": [],
   "source": [
    "def date_range(start, end):\n",
    "    dates = []\n",
    "    curr = start\n",
    "    while curr <= end:\n",
    "        dates.append(curr)\n",
    "        curr += timedelta(days=1)\n",
    "    return dates\n",
    "\n",
    "airports = ['KMDW', 'KORD']\n",
    "start_date = date(2011, 1, 1)\n",
    "end_date = date(2011, 1, 2)\n",
    "dates = date_range(start_date, end_date)\n",
    "\n",
    "\n",
    "data = {}\n",
    "row = 0\n",
    "for airport in airports:\n",
    "    for day in dates:\n",
    "        sleep(.5)\n",
    "        soup = BeautifulSoup(urlopen(url.format(airport, day.year, day.month, day.day)))\n",
    "        lst = []\n",
    "        data[row] = {} \n",
    "        for table in soup('table', {'id' : 'historyTable'}):\n",
    "            for tr in table('tr'):\n",
    "                for td in tr('td'):\n",
    "                    for value in td('span', {'class' : 'wx-value'}):\n",
    "                        lst.append(value.text)\n",
    "        data[row]['Airport'] = airport\n",
    "        data[row]['Date'] = day\n",
    "        data[row]['Mean_Temp'] = lst[0]\n",
    "        data[row]['Max_Temp'] = lst[1]\n",
    "        data[row]['Min_Temp'] = lst[2]\n",
    "        data[row]['Precipitation'] = lst[9]\n",
    "        data[row]['Wind_Speed'] = lst[13]\n",
    "        data[row]['Max_Wind_Speed'] = lst[14]\n",
    "        data[row]['Max_Gust_Speed'] = lst[15]\n",
    "        data[row]['Visibility'] = lst[16]\n",
    "        row += 1\n"
   ]
  },
  {
   "cell_type": "code",
   "execution_count": 22,
   "metadata": {
    "collapsed": false
   },
   "outputs": [],
   "source": [
    "df = pd.DataFrame(data).T"
   ]
  },
  {
   "cell_type": "code",
   "execution_count": 23,
   "metadata": {
    "collapsed": false
   },
   "outputs": [
    {
     "data": {
      "text/html": [
       "<div>\n",
       "<table border=\"1\" class=\"dataframe\">\n",
       "  <thead>\n",
       "    <tr style=\"text-align: right;\">\n",
       "      <th></th>\n",
       "      <th>Airport</th>\n",
       "      <th>Date</th>\n",
       "      <th>Max_Gust_Speed</th>\n",
       "      <th>Max_Temp</th>\n",
       "      <th>Max_Wind_Speed</th>\n",
       "      <th>Mean_Temp</th>\n",
       "      <th>Min_Temp</th>\n",
       "      <th>Precipitation</th>\n",
       "      <th>Visibility</th>\n",
       "      <th>Wind_Speed</th>\n",
       "    </tr>\n",
       "  </thead>\n",
       "  <tbody>\n",
       "    <tr>\n",
       "      <th>0</th>\n",
       "      <td>KMDW</td>\n",
       "      <td>2011-01-01</td>\n",
       "      <td>34</td>\n",
       "      <td>26</td>\n",
       "      <td>25</td>\n",
       "      <td>30</td>\n",
       "      <td>43</td>\n",
       "      <td>0.00</td>\n",
       "      <td>10</td>\n",
       "      <td>18</td>\n",
       "    </tr>\n",
       "    <tr>\n",
       "      <th>1</th>\n",
       "      <td>KMDW</td>\n",
       "      <td>2011-01-02</td>\n",
       "      <td>25</td>\n",
       "      <td>26</td>\n",
       "      <td>21</td>\n",
       "      <td>18</td>\n",
       "      <td>25</td>\n",
       "      <td>0.00</td>\n",
       "      <td>10</td>\n",
       "      <td>13</td>\n",
       "    </tr>\n",
       "    <tr>\n",
       "      <th>2</th>\n",
       "      <td>KORD</td>\n",
       "      <td>2011-01-01</td>\n",
       "      <td>29.93</td>\n",
       "      <td>24</td>\n",
       "      <td>5.00</td>\n",
       "      <td>28</td>\n",
       "      <td>41</td>\n",
       "      <td>T</td>\n",
       "      <td>19</td>\n",
       "      <td>0.30</td>\n",
       "    </tr>\n",
       "    <tr>\n",
       "      <th>3</th>\n",
       "      <td>KORD</td>\n",
       "      <td>2011-01-02</td>\n",
       "      <td>30.19</td>\n",
       "      <td>24</td>\n",
       "      <td>18.60</td>\n",
       "      <td>18</td>\n",
       "      <td>24</td>\n",
       "      <td>0.00</td>\n",
       "      <td>11</td>\n",
       "      <td>0.30</td>\n",
       "    </tr>\n",
       "  </tbody>\n",
       "</table>\n",
       "</div>"
      ],
      "text/plain": [
       "  Airport        Date Max_Gust_Speed Max_Temp Max_Wind_Speed Mean_Temp  \\\n",
       "0    KMDW  2011-01-01             34       26             25        30   \n",
       "1    KMDW  2011-01-02             25       26             21        18   \n",
       "2    KORD  2011-01-01          29.93       24           5.00        28   \n",
       "3    KORD  2011-01-02          30.19       24          18.60        18   \n",
       "\n",
       "  Min_Temp Precipitation Visibility Wind_Speed  \n",
       "0       43          0.00         10         18  \n",
       "1       25          0.00         10         13  \n",
       "2       41             T         19       0.30  \n",
       "3       24          0.00         11       0.30  "
      ]
     },
     "execution_count": 23,
     "metadata": {},
     "output_type": "execute_result"
    }
   ],
   "source": [
    "df = df[['Airport', 'Date', 'Mean_Temp', 'Max_Temp', 'Min_Temp', 'Precipitation', 'Wind_Speed',\n",
    "        'Max_Wind_Speed', 'Max_Gust_Speed', 'Visibility']]"
   ]
  },
  {
   "cell_type": "code",
   "execution_count": null,
   "metadata": {
    "collapsed": true
   },
   "outputs": [],
   "source": [
    "df.to_csv('../Assets/Datasets/Weather/Daily_Weather.csv', index=False)"
   ]
  }
 ],
 "metadata": {
  "kernelspec": {
   "display_name": "Python [lesson01]",
   "language": "python",
   "name": "Python [lesson01]"
  },
  "language_info": {
   "codemirror_mode": {
    "name": "ipython",
    "version": 2
   },
   "file_extension": ".py",
   "mimetype": "text/x-python",
   "name": "python",
   "nbconvert_exporter": "python",
   "pygments_lexer": "ipython2",
   "version": "2.7.12"
  }
 },
 "nbformat": 4,
 "nbformat_minor": 0
}
